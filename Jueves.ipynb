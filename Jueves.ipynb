{
  "nbformat": 4,
  "nbformat_minor": 0,
  "metadata": {
    "colab": {
      "name": "Untitled1.ipynb",
      "provenance": [],
      "toc_visible": true,
      "authorship_tag": "ABX9TyMPrlLkhAISiTBCNMet7p8P",
      "include_colab_link": true
    },
    "kernelspec": {
      "name": "python3",
      "display_name": "Python 3"
    }
  },
  "cells": [
    {
      "cell_type": "markdown",
      "metadata": {
        "id": "view-in-github",
        "colab_type": "text"
      },
      "source": [
        "<a href=\"https://colab.research.google.com/github/UrielMendoza/Curso-RV-python/blob/master/Jueves.ipynb\" target=\"_parent\"><img src=\"https://colab.research.google.com/assets/colab-badge.svg\" alt=\"Open In Colab\"/></a>"
      ]
    },
    {
      "cell_type": "code",
      "metadata": {
        "id": "uzw1Xkqf6Vfq",
        "colab_type": "code",
        "colab": {}
      },
      "source": [
        ""
      ],
      "execution_count": 0,
      "outputs": []
    },
    {
      "cell_type": "markdown",
      "metadata": {
        "id": "1ZM-UmQH31bG",
        "colab_type": "text"
      },
      "source": [
        "# Georreferencia y reproyeccion de datos vectoriales"
      ]
    },
    {
      "cell_type": "markdown",
      "metadata": {
        "id": "1P7XsNIX4GNA",
        "colab_type": "text"
      },
      "source": [
        "**Geopandas**"
      ]
    },
    {
      "cell_type": "markdown",
      "metadata": {
        "id": "y2Sh3vou5JJG",
        "colab_type": "text"
      },
      "source": [
        "Instalación"
      ]
    },
    {
      "cell_type": "code",
      "metadata": {
        "id": "HR-CFOWp3_0s",
        "colab_type": "code",
        "colab": {}
      },
      "source": [
        ""
      ],
      "execution_count": 0,
      "outputs": []
    },
    {
      "cell_type": "markdown",
      "metadata": {
        "id": "q1G3awIk6MdG",
        "colab_type": "text"
      },
      "source": [
        "Apertura"
      ]
    },
    {
      "cell_type": "code",
      "metadata": {
        "id": "NOHa8m7r6Gb8",
        "colab_type": "code",
        "colab": {}
      },
      "source": [
        ""
      ],
      "execution_count": 0,
      "outputs": []
    },
    {
      "cell_type": "markdown",
      "metadata": {
        "id": "lpOEN4w06u2m",
        "colab_type": "text"
      },
      "source": [
        "Graficación"
      ]
    },
    {
      "cell_type": "code",
      "metadata": {
        "id": "BAOn5brF6qDP",
        "colab_type": "code",
        "colab": {}
      },
      "source": [
        ""
      ],
      "execution_count": 0,
      "outputs": []
    },
    {
      "cell_type": "markdown",
      "metadata": {
        "id": "BtKmH33p7VmD",
        "colab_type": "text"
      },
      "source": [
        "Reproyección"
      ]
    },
    {
      "cell_type": "code",
      "metadata": {
        "id": "oheTsyFx657M",
        "colab_type": "code",
        "colab": {}
      },
      "source": [
        ""
      ],
      "execution_count": 0,
      "outputs": []
    },
    {
      "cell_type": "code",
      "metadata": {
        "id": "YinUG9aC7Y2O",
        "colab_type": "code",
        "colab": {}
      },
      "source": [
        ""
      ],
      "execution_count": 0,
      "outputs": []
    },
    {
      "cell_type": "code",
      "metadata": {
        "id": "DLWN9q3I7gc9",
        "colab_type": "code",
        "colab": {}
      },
      "source": [
        ""
      ],
      "execution_count": 0,
      "outputs": []
    },
    {
      "cell_type": "markdown",
      "metadata": {
        "id": "INs6zBQj61aP",
        "colab_type": "text"
      },
      "source": [
        "Graficación"
      ]
    },
    {
      "cell_type": "code",
      "metadata": {
        "id": "mx5I_R-_8ew2",
        "colab_type": "code",
        "colab": {}
      },
      "source": [
        ""
      ],
      "execution_count": 0,
      "outputs": []
    },
    {
      "cell_type": "code",
      "metadata": {
        "id": "EZVn2LbB8Af-",
        "colab_type": "code",
        "colab": {}
      },
      "source": [
        ""
      ],
      "execution_count": 0,
      "outputs": []
    },
    {
      "cell_type": "markdown",
      "metadata": {
        "id": "Mz9jGYN97S6f",
        "colab_type": "text"
      },
      "source": [
        "Coordenadas"
      ]
    },
    {
      "cell_type": "code",
      "metadata": {
        "id": "x6cK_8LV8E4u",
        "colab_type": "code",
        "colab": {}
      },
      "source": [
        ""
      ],
      "execution_count": 0,
      "outputs": []
    },
    {
      "cell_type": "markdown",
      "metadata": {
        "id": "0NnZdVrk8_i5",
        "colab_type": "text"
      },
      "source": [
        "### PyProj\n",
        "\n",
        "Interfaz de Python para PROJ (biblioteca de proyecciones cartográficas y transformaciones de coordenadas)"
      ]
    },
    {
      "cell_type": "markdown",
      "metadata": {
        "id": "cLwst83l-6V2",
        "colab_type": "text"
      },
      "source": [
        "Importación"
      ]
    },
    {
      "cell_type": "code",
      "metadata": {
        "id": "kkP7JL5H89gD",
        "colab_type": "code",
        "colab": {}
      },
      "source": [
        ""
      ],
      "execution_count": 0,
      "outputs": []
    },
    {
      "cell_type": "markdown",
      "metadata": {
        "id": "woD9F9Z5_DAt",
        "colab_type": "text"
      },
      "source": [
        "Definicion PROJ\n",
        "\n",
        "+proj=aeqd +lat_0=0 +lon_0=0 +x_0=0 +y_0=0 +datum=WGS84 +units=m +no_defs"
      ]
    },
    {
      "cell_type": "code",
      "metadata": {
        "id": "mc-9u4ki_Bv3",
        "colab_type": "code",
        "colab": {}
      },
      "source": [
        ""
      ],
      "execution_count": 0,
      "outputs": []
    },
    {
      "cell_type": "markdown",
      "metadata": {
        "id": "veNRtvfQBUUX",
        "colab_type": "text"
      },
      "source": [
        "Reproyeccion"
      ]
    },
    {
      "cell_type": "code",
      "metadata": {
        "id": "mnD-EZ5S_d2U",
        "colab_type": "code",
        "colab": {}
      },
      "source": [
        ""
      ],
      "execution_count": 0,
      "outputs": []
    },
    {
      "cell_type": "markdown",
      "metadata": {
        "id": "etLHWrEAB5sz",
        "colab_type": "text"
      },
      "source": [
        "Reproyeccion multiple"
      ]
    },
    {
      "cell_type": "markdown",
      "metadata": {
        "id": "DXKUwBQvD2cU",
        "colab_type": "text"
      },
      "source": [
        "Extraccion de coordenadas"
      ]
    },
    {
      "cell_type": "code",
      "metadata": {
        "id": "0iQV80TWBu0H",
        "colab_type": "code",
        "colab": {}
      },
      "source": [
        ""
      ],
      "execution_count": 0,
      "outputs": []
    },
    {
      "cell_type": "code",
      "metadata": {
        "id": "Db4KAhkoCCWz",
        "colab_type": "code",
        "colab": {}
      },
      "source": [
        ""
      ],
      "execution_count": 0,
      "outputs": []
    },
    {
      "cell_type": "markdown",
      "metadata": {
        "id": "jIAx7UK2EbMm",
        "colab_type": "text"
      },
      "source": [
        "Graficación"
      ]
    },
    {
      "cell_type": "code",
      "metadata": {
        "id": "TG2cG7PMETPl",
        "colab_type": "code",
        "colab": {}
      },
      "source": [
        ""
      ],
      "execution_count": 0,
      "outputs": []
    },
    {
      "cell_type": "markdown",
      "metadata": {
        "id": "3zt0SaqakA_a",
        "colab_type": "text"
      },
      "source": [
        "## Geopy\n",
        "\n",
        "Geopy es un cliente Python 2 y 3 para varios servicios web de geocodificación populares.\n",
        "\n",
        "Geopy facilita a los desarrolladores de Python localizar las coordenadas de direcciones, ciudades, países y puntos de referencia en todo el mundo utilizando geocodificadores de terceros y otras fuentes de datos.\n",
        "\n",
        "\n",
        "ArcGIS\n",
        "\n",
        "AzureMaps\n",
        "\n",
        "Baidu\n",
        "\n",
        "Bing\n",
        "\n",
        "DataBC\n",
        "\n",
        "GeocodeEarth\n",
        "\n",
        "GeocodeFarm\n",
        "\n",
        "GoogleV3\n",
        "\n",
        "HERE\n",
        "\n",
        "IGNFrance\n",
        "\n",
        "MapBox\n",
        "\n",
        "Nominatim\n"
      ]
    },
    {
      "cell_type": "markdown",
      "metadata": {
        "id": "SrUc7jhnkaD0",
        "colab_type": "text"
      },
      "source": [
        "Importacion"
      ]
    },
    {
      "cell_type": "code",
      "metadata": {
        "id": "a2aPYLLCEmrE",
        "colab_type": "code",
        "colab": {}
      },
      "source": [
        ""
      ],
      "execution_count": 0,
      "outputs": []
    },
    {
      "cell_type": "markdown",
      "metadata": {
        "id": "Fpg-5Rtpk7el",
        "colab_type": "text"
      },
      "source": [
        "Busqueda coordenadas"
      ]
    },
    {
      "cell_type": "code",
      "metadata": {
        "id": "7af5Y5W-mx1H",
        "colab_type": "code",
        "colab": {}
      },
      "source": [
        ""
      ],
      "execution_count": 0,
      "outputs": []
    },
    {
      "cell_type": "markdown",
      "metadata": {
        "id": "4yAKar5ZnPnq",
        "colab_type": "text"
      },
      "source": [
        "Parametros"
      ]
    },
    {
      "cell_type": "code",
      "metadata": {
        "id": "glQxa1ITj8MV",
        "colab_type": "code",
        "colab": {}
      },
      "source": [
        ""
      ],
      "execution_count": 0,
      "outputs": []
    },
    {
      "cell_type": "markdown",
      "metadata": {
        "id": "vPDvvZiBoXyz",
        "colab_type": "text"
      },
      "source": [
        "Busqueda por direccion\n",
        "\n",
        "175 5th Avenue NYC"
      ]
    },
    {
      "cell_type": "code",
      "metadata": {
        "id": "D3NQmjlYnNZd",
        "colab_type": "code",
        "colab": {}
      },
      "source": [
        ""
      ],
      "execution_count": 0,
      "outputs": []
    },
    {
      "cell_type": "markdown",
      "metadata": {
        "id": "AUaJfaKuwvp7",
        "colab_type": "text"
      },
      "source": [
        "**Distancias**\n",
        "\n",
        "Euclidian\n",
        "\n",
        "Great Cicle\n",
        "\n",
        "Vicentys\n",
        "\n",
        "Geodesic\n",
        "\n"
      ]
    },
    {
      "cell_type": "code",
      "metadata": {
        "id": "ipWhJcx3wHpl",
        "colab_type": "code",
        "colab": {}
      },
      "source": [
        ""
      ],
      "execution_count": 0,
      "outputs": []
    },
    {
      "cell_type": "markdown",
      "metadata": {
        "id": "pgNX9MUU1A68",
        "colab_type": "text"
      },
      "source": [
        "Ejercicio de Aplicacion.\n",
        "\n",
        "Crear un programa en el cual se escriba la direccion de dos ciudades y calcule la distancia geodesica."
      ]
    },
    {
      "cell_type": "code",
      "metadata": {
        "id": "dNSbAs-CzNM7",
        "colab_type": "code",
        "colab": {}
      },
      "source": [
        ""
      ],
      "execution_count": 0,
      "outputs": []
    },
    {
      "cell_type": "markdown",
      "metadata": {
        "id": "we11MRaw4hlr",
        "colab_type": "text"
      },
      "source": [
        "# Geoprocesamiento"
      ]
    },
    {
      "cell_type": "markdown",
      "metadata": {
        "id": "K4BjNoqS8SDe",
        "colab_type": "text"
      },
      "source": [
        "### Intersect"
      ]
    },
    {
      "cell_type": "code",
      "metadata": {
        "id": "M7UxUiJzFav8",
        "colab_type": "code",
        "colab": {}
      },
      "source": [
        ""
      ],
      "execution_count": 0,
      "outputs": []
    },
    {
      "cell_type": "code",
      "metadata": {
        "id": "Dvts6ualL4hx",
        "colab_type": "code",
        "colab": {}
      },
      "source": [
        ""
      ],
      "execution_count": 0,
      "outputs": []
    },
    {
      "cell_type": "code",
      "metadata": {
        "id": "6hMku2X2L_so",
        "colab_type": "code",
        "colab": {}
      },
      "source": [
        ""
      ],
      "execution_count": 0,
      "outputs": []
    },
    {
      "cell_type": "code",
      "metadata": {
        "id": "iMqANQMvMHVZ",
        "colab_type": "code",
        "colab": {}
      },
      "source": [
        ""
      ],
      "execution_count": 0,
      "outputs": []
    },
    {
      "cell_type": "markdown",
      "metadata": {
        "colab_type": "text",
        "id": "q5QMP5NtMrEf"
      },
      "source": [
        "### Union"
      ]
    },
    {
      "cell_type": "code",
      "metadata": {
        "id": "9440vHBgMLwI",
        "colab_type": "code",
        "colab": {}
      },
      "source": [
        ""
      ],
      "execution_count": 0,
      "outputs": []
    },
    {
      "cell_type": "markdown",
      "metadata": {
        "id": "M4FXhczBM6CL",
        "colab_type": "text"
      },
      "source": [
        "### Symetrical Difference"
      ]
    },
    {
      "cell_type": "code",
      "metadata": {
        "id": "FPQUwYnIM2ks",
        "colab_type": "code",
        "colab": {}
      },
      "source": [
        ""
      ],
      "execution_count": 0,
      "outputs": []
    },
    {
      "cell_type": "markdown",
      "metadata": {
        "id": "fnEHFpCSNGs0",
        "colab_type": "text"
      },
      "source": [
        "### Diference"
      ]
    },
    {
      "cell_type": "code",
      "metadata": {
        "id": "mpC9eOdnNEc7",
        "colab_type": "code",
        "colab": {}
      },
      "source": [
        ""
      ],
      "execution_count": 0,
      "outputs": []
    },
    {
      "cell_type": "code",
      "metadata": {
        "id": "UaxcRZbHNRDK",
        "colab_type": "code",
        "colab": {}
      },
      "source": [
        ""
      ],
      "execution_count": 0,
      "outputs": []
    },
    {
      "cell_type": "markdown",
      "metadata": {
        "id": "sEIdW4h6NWQC",
        "colab_type": "text"
      },
      "source": [
        "# Ejercicio de aplicacion\n",
        "\n",
        "Con el shape de rios y de monitoreo del agua, obtener las partes del rio no monitoreadas"
      ]
    },
    {
      "cell_type": "code",
      "metadata": {
        "id": "kUTOJoCyNTab",
        "colab_type": "code",
        "colab": {}
      },
      "source": [
        ""
      ],
      "execution_count": 0,
      "outputs": []
    },
    {
      "cell_type": "code",
      "metadata": {
        "id": "ahQdjIsZObOt",
        "colab_type": "code",
        "colab": {}
      },
      "source": [
        ""
      ],
      "execution_count": 0,
      "outputs": []
    },
    {
      "cell_type": "code",
      "metadata": {
        "id": "9zaMeqt1O1XN",
        "colab_type": "code",
        "colab": {}
      },
      "source": [
        ""
      ],
      "execution_count": 0,
      "outputs": []
    },
    {
      "cell_type": "code",
      "metadata": {
        "id": "iCzPTgYsPOc_",
        "colab_type": "code",
        "colab": {}
      },
      "source": [
        ""
      ],
      "execution_count": 0,
      "outputs": []
    },
    {
      "cell_type": "code",
      "metadata": {
        "id": "q3rVBVf1Q1bR",
        "colab_type": "code",
        "colab": {}
      },
      "source": [
        ""
      ],
      "execution_count": 0,
      "outputs": []
    },
    {
      "cell_type": "code",
      "metadata": {
        "id": "IJSPG3enPT9O",
        "colab_type": "code",
        "colab": {}
      },
      "source": [
        ""
      ],
      "execution_count": 0,
      "outputs": []
    },
    {
      "cell_type": "markdown",
      "metadata": {
        "id": "ethxFqhYSaut",
        "colab_type": "text"
      },
      "source": [
        "# Cartopy\n",
        "\n",
        "\n",
        "Cartopy es un paquete de Python diseñado para el procesamiento de datos geoespaciales con el fin de producir mapas y otros análisis de datos geoespaciales."
      ]
    },
    {
      "cell_type": "code",
      "metadata": {
        "id": "xufPUxqSS0qA",
        "colab_type": "code",
        "colab": {}
      },
      "source": [
        ""
      ],
      "execution_count": 0,
      "outputs": []
    },
    {
      "cell_type": "code",
      "metadata": {
        "id": "bU1V2oNXQqvq",
        "colab_type": "code",
        "colab": {}
      },
      "source": [
        ""
      ],
      "execution_count": 0,
      "outputs": []
    }
  ]
}