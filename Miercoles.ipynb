{
  "nbformat": 4,
  "nbformat_minor": 0,
  "metadata": {
    "colab": {
      "name": "Miercoles_resuelto.ipynb",
      "provenance": [],
      "toc_visible": true,
      "authorship_tag": "ABX9TyOiRBik6zYHf3iqC7MV/iOM",
      "include_colab_link": true
    },
    "kernelspec": {
      "name": "python3",
      "display_name": "Python 3"
    }
  },
  "cells": [
    {
      "cell_type": "markdown",
      "metadata": {
        "id": "view-in-github",
        "colab_type": "text"
      },
      "source": [
        "<a href=\"https://colab.research.google.com/github/UrielMendoza/Curso-RV-python/blob/master/Miercoles.ipynb\" target=\"_parent\"><img src=\"https://colab.research.google.com/assets/colab-badge.svg\" alt=\"Open In Colab\"/></a>"
      ]
    },
    {
      "cell_type": "code",
      "metadata": {
        "id": "6F3zUV0AvYtq",
        "colab_type": "code",
        "colab": {}
      },
      "source": [
        ""
      ],
      "execution_count": 0,
      "outputs": []
    },
    {
      "cell_type": "markdown",
      "metadata": {
        "id": "WjisrkjbvRbN",
        "colab_type": "text"
      },
      "source": [
        "**Reproyección gdalwarp**"
      ]
    },
    {
      "cell_type": "code",
      "metadata": {
        "id": "r4qvPxZDdZQf",
        "colab_type": "code",
        "colab": {}
      },
      "source": [
        ""
      ],
      "execution_count": 0,
      "outputs": []
    },
    {
      "cell_type": "markdown",
      "metadata": {
        "id": "fj7ylU563S8l",
        "colab_type": "text"
      },
      "source": [
        "# **Introducción a Vectorial (Shapely Geopandas)**\n",
        "\n",
        "\n",
        "\n",
        "\n",
        "\n"
      ]
    },
    {
      "cell_type": "markdown",
      "metadata": {
        "id": "HXAld78g4M7U",
        "colab_type": "text"
      },
      "source": [
        "**Shapely**\n",
        "\n",
        "Shapely es un paquete de Python con licencia BSD para la manipulación y el análisis de objetos geométricos planos. Se basa en las bibliotecas GEOS (el motor de PostGIS ) y JTS (desde las cuales se transfiere GEOS), ampliamente implementadas . Shapely no se preocupa por los formatos de datos o los sistemas de coordenadas, pero puede integrarse fácilmente con los paquetes que sí lo están"
      ]
    },
    {
      "cell_type": "code",
      "metadata": {
        "id": "PUq0faXG0duN",
        "colab_type": "code",
        "colab": {}
      },
      "source": [
        ""
      ],
      "execution_count": 0,
      "outputs": []
    },
    {
      "cell_type": "markdown",
      "metadata": {
        "id": "-1eUiQoB5RpN",
        "colab_type": "text"
      },
      "source": [
        "**Punto**"
      ]
    },
    {
      "cell_type": "code",
      "metadata": {
        "id": "NXA5c6L700Ph",
        "colab_type": "code",
        "colab": {}
      },
      "source": [
        ""
      ],
      "execution_count": 0,
      "outputs": []
    },
    {
      "cell_type": "code",
      "metadata": {
        "id": "zBs2rU3k5nMX",
        "colab_type": "code",
        "colab": {}
      },
      "source": [
        ""
      ],
      "execution_count": 0,
      "outputs": []
    },
    {
      "cell_type": "markdown",
      "metadata": {
        "id": "r9JmF1ON6Erw",
        "colab_type": "text"
      },
      "source": [
        "Coordenadas"
      ]
    },
    {
      "cell_type": "code",
      "metadata": {
        "id": "idrg5r5Z5pin",
        "colab_type": "code",
        "colab": {}
      },
      "source": [
        ""
      ],
      "execution_count": 0,
      "outputs": []
    },
    {
      "cell_type": "markdown",
      "metadata": {
        "id": "fCazjydJ6Hng",
        "colab_type": "text"
      },
      "source": [
        "Distancia"
      ]
    },
    {
      "cell_type": "code",
      "metadata": {
        "id": "sMjbsKBp537o",
        "colab_type": "code",
        "colab": {}
      },
      "source": [
        "\n"
      ],
      "execution_count": 0,
      "outputs": []
    },
    {
      "cell_type": "markdown",
      "metadata": {
        "id": "4ne9SRfq6cwn",
        "colab_type": "text"
      },
      "source": [
        "Union"
      ]
    },
    {
      "cell_type": "code",
      "metadata": {
        "id": "YN7W_dc06epy",
        "colab_type": "code",
        "colab": {}
      },
      "source": [
        ""
      ],
      "execution_count": 0,
      "outputs": []
    },
    {
      "cell_type": "markdown",
      "metadata": {
        "id": "x2qqBmCM7D6-",
        "colab_type": "text"
      },
      "source": [
        "**Multipoint**"
      ]
    },
    {
      "cell_type": "code",
      "metadata": {
        "id": "ws0A636R6zjh",
        "colab_type": "code",
        "colab": {}
      },
      "source": [
        ""
      ],
      "execution_count": 0,
      "outputs": []
    },
    {
      "cell_type": "markdown",
      "metadata": {
        "id": "Q7ST_qzJ7Pyd",
        "colab_type": "text"
      },
      "source": [
        "Buffer"
      ]
    },
    {
      "cell_type": "code",
      "metadata": {
        "id": "fYUmb0jP7S-M",
        "colab_type": "code",
        "colab": {}
      },
      "source": [
        ""
      ],
      "execution_count": 0,
      "outputs": []
    },
    {
      "cell_type": "markdown",
      "metadata": {
        "id": "1tqCyc0Y5TIJ",
        "colab_type": "text"
      },
      "source": [
        "**LineaString**"
      ]
    },
    {
      "cell_type": "code",
      "metadata": {
        "id": "KBvwm_9C5owX",
        "colab_type": "code",
        "colab": {}
      },
      "source": [
        ""
      ],
      "execution_count": 0,
      "outputs": []
    },
    {
      "cell_type": "markdown",
      "metadata": {
        "id": "8R83iHh78cKw",
        "colab_type": "text"
      },
      "source": [
        "Perimetro"
      ]
    },
    {
      "cell_type": "code",
      "metadata": {
        "id": "nGJkKCo65UWC",
        "colab_type": "code",
        "colab": {}
      },
      "source": [
        ""
      ],
      "execution_count": 0,
      "outputs": []
    },
    {
      "cell_type": "markdown",
      "metadata": {
        "id": "XUP5OmpT9pH0",
        "colab_type": "text"
      },
      "source": [
        "Distancia"
      ]
    },
    {
      "cell_type": "code",
      "metadata": {
        "id": "eUVKJFwZ9uBr",
        "colab_type": "code",
        "colab": {}
      },
      "source": [
        ""
      ],
      "execution_count": 0,
      "outputs": []
    },
    {
      "cell_type": "markdown",
      "metadata": {
        "id": "eSu_kBxy92lO",
        "colab_type": "text"
      },
      "source": [
        "Buffer"
      ]
    },
    {
      "cell_type": "code",
      "metadata": {
        "id": "MioiuCBR948h",
        "colab_type": "code",
        "colab": {}
      },
      "source": [
        ""
      ],
      "execution_count": 0,
      "outputs": []
    },
    {
      "cell_type": "markdown",
      "metadata": {
        "id": "Mfct-f4U-EY2",
        "colab_type": "text"
      },
      "source": [
        "**LineRing**"
      ]
    },
    {
      "cell_type": "code",
      "metadata": {
        "id": "1kdn5nwM-HnR",
        "colab_type": "code",
        "colab": {}
      },
      "source": [
        ""
      ],
      "execution_count": 0,
      "outputs": []
    },
    {
      "cell_type": "code",
      "metadata": {
        "id": "7v03VsQE-e9J",
        "colab_type": "code",
        "colab": {}
      },
      "source": [
        ""
      ],
      "execution_count": 0,
      "outputs": []
    },
    {
      "cell_type": "markdown",
      "metadata": {
        "id": "6Skh3blK-nf8",
        "colab_type": "text"
      },
      "source": [
        "Buffer"
      ]
    },
    {
      "cell_type": "code",
      "metadata": {
        "id": "YgjDbkqd-kyf",
        "colab_type": "code",
        "colab": {}
      },
      "source": [
        ""
      ],
      "execution_count": 0,
      "outputs": []
    },
    {
      "cell_type": "markdown",
      "metadata": {
        "id": "rdN4tSW95U3Q",
        "colab_type": "text"
      },
      "source": [
        "**Poligono**"
      ]
    },
    {
      "cell_type": "code",
      "metadata": {
        "id": "EYIlFJ5c5WRI",
        "colab_type": "code",
        "colab": {}
      },
      "source": [
        ""
      ],
      "execution_count": 0,
      "outputs": []
    },
    {
      "cell_type": "markdown",
      "metadata": {
        "id": "F9yI7DQ8-_Zy",
        "colab_type": "text"
      },
      "source": [
        "Area"
      ]
    },
    {
      "cell_type": "code",
      "metadata": {
        "id": "RtvOKkBt_BqT",
        "colab_type": "code",
        "colab": {}
      },
      "source": [
        ""
      ],
      "execution_count": 0,
      "outputs": []
    },
    {
      "cell_type": "markdown",
      "metadata": {
        "id": "SNph6BMc_GGy",
        "colab_type": "text"
      },
      "source": [
        "Perimetro"
      ]
    },
    {
      "cell_type": "code",
      "metadata": {
        "id": "6Bbtzodg_IDD",
        "colab_type": "code",
        "colab": {}
      },
      "source": [
        ""
      ],
      "execution_count": 0,
      "outputs": []
    },
    {
      "cell_type": "markdown",
      "metadata": {
        "id": "bUSr9Va2DJmS",
        "colab_type": "text"
      },
      "source": [
        "Centroide"
      ]
    },
    {
      "cell_type": "code",
      "metadata": {
        "id": "Xk91RNkVDL6r",
        "colab_type": "code",
        "colab": {}
      },
      "source": [
        ""
      ],
      "execution_count": 0,
      "outputs": []
    },
    {
      "cell_type": "markdown",
      "metadata": {
        "id": "A6c7wP39_RHg",
        "colab_type": "text"
      },
      "source": [
        "Contorno"
      ]
    },
    {
      "cell_type": "code",
      "metadata": {
        "id": "oidxqCkk_Poh",
        "colab_type": "code",
        "colab": {}
      },
      "source": [
        ""
      ],
      "execution_count": 0,
      "outputs": []
    },
    {
      "cell_type": "markdown",
      "metadata": {
        "id": "Z8D_3kwpAAO8",
        "colab_type": "text"
      },
      "source": [
        "Buffer"
      ]
    },
    {
      "cell_type": "code",
      "metadata": {
        "id": "OwLEHgw3OAGA",
        "colab_type": "code",
        "colab": {}
      },
      "source": [
        ""
      ],
      "execution_count": 0,
      "outputs": []
    },
    {
      "cell_type": "markdown",
      "metadata": {
        "id": "vzaUUYYkODwb",
        "colab_type": "text"
      },
      "source": [
        "Contiene"
      ]
    },
    {
      "cell_type": "code",
      "metadata": {
        "id": "_mVT_vZQOGxX",
        "colab_type": "code",
        "colab": {}
      },
      "source": [
        ""
      ],
      "execution_count": 0,
      "outputs": []
    },
    {
      "cell_type": "markdown",
      "metadata": {
        "id": "Fbj-YM6EGAut",
        "colab_type": "text"
      },
      "source": [
        "### Manejo de Geodataframe"
      ]
    },
    {
      "cell_type": "markdown",
      "metadata": {
        "id": "BWyVF42n4V0p",
        "colab_type": "text"
      },
      "source": [
        "**Geopandas**\n",
        "\n",
        "GeoPandas es un proyecto de código abierto para facilitar el trabajo con datos geoespaciales en python. GeoPandas extiende los tipos de datos utilizados por los pandas para permitir operaciones espaciales en tipos geométricos. Las operaciones geométricas se realizan por bien proporcionado . Geopandas depende además de fiona para acceder a los archivos y descartes y matplotlib para trazar."
      ]
    },
    {
      "cell_type": "markdown",
      "metadata": {
        "id": "cpMqvWKsAdn0",
        "colab_type": "text"
      },
      "source": [
        "Instalacion"
      ]
    },
    {
      "cell_type": "code",
      "metadata": {
        "id": "UzilC0gdAVDC",
        "colab_type": "code",
        "colab": {}
      },
      "source": [
        ""
      ],
      "execution_count": 0,
      "outputs": []
    },
    {
      "cell_type": "markdown",
      "metadata": {
        "id": "82T48vg6BJI_",
        "colab_type": "text"
      },
      "source": [
        "Importación"
      ]
    },
    {
      "cell_type": "code",
      "metadata": {
        "id": "X08OLB-t4a2C",
        "colab_type": "code",
        "colab": {}
      },
      "source": [
        ""
      ],
      "execution_count": 0,
      "outputs": []
    },
    {
      "cell_type": "markdown",
      "metadata": {
        "id": "5bU_y1R5BNde",
        "colab_type": "text"
      },
      "source": [
        "Apertura"
      ]
    },
    {
      "cell_type": "code",
      "metadata": {
        "id": "DZqEczDvASjM",
        "colab_type": "code",
        "colab": {}
      },
      "source": [
        ""
      ],
      "execution_count": 0,
      "outputs": []
    },
    {
      "cell_type": "markdown",
      "metadata": {
        "id": "nTcpShHxBbDd",
        "colab_type": "text"
      },
      "source": [
        "Inspección"
      ]
    },
    {
      "cell_type": "code",
      "metadata": {
        "id": "UcELZJ_KBX3z",
        "colab_type": "code",
        "colab": {}
      },
      "source": [
        ""
      ],
      "execution_count": 0,
      "outputs": []
    },
    {
      "cell_type": "code",
      "metadata": {
        "id": "sIs8RdrDBxvh",
        "colab_type": "code",
        "colab": {}
      },
      "source": [
        ""
      ],
      "execution_count": 0,
      "outputs": []
    },
    {
      "cell_type": "code",
      "metadata": {
        "id": "m2WHsRUzBeO8",
        "colab_type": "code",
        "colab": {}
      },
      "source": [
        ""
      ],
      "execution_count": 0,
      "outputs": []
    },
    {
      "cell_type": "markdown",
      "metadata": {
        "id": "sBpAUxwGCYkq",
        "colab_type": "text"
      },
      "source": [
        "Acceso a columas"
      ]
    },
    {
      "cell_type": "code",
      "metadata": {
        "id": "5WDESECQChiJ",
        "colab_type": "code",
        "colab": {}
      },
      "source": [
        ""
      ],
      "execution_count": 0,
      "outputs": []
    },
    {
      "cell_type": "code",
      "metadata": {
        "id": "vUzNgbTmCAIu",
        "colab_type": "code",
        "colab": {}
      },
      "source": [
        ""
      ],
      "execution_count": 0,
      "outputs": []
    },
    {
      "cell_type": "markdown",
      "metadata": {
        "id": "H6Ntt7a9C3No",
        "colab_type": "text"
      },
      "source": [
        "Calculos geometricos"
      ]
    },
    {
      "cell_type": "markdown",
      "metadata": {
        "id": "mrGJ4MZ9DiXw",
        "colab_type": "text"
      },
      "source": [
        "Extremos"
      ]
    },
    {
      "cell_type": "code",
      "metadata": {
        "id": "Yc2RUMBiCMen",
        "colab_type": "code",
        "colab": {}
      },
      "source": [
        ""
      ],
      "execution_count": 0,
      "outputs": []
    },
    {
      "cell_type": "markdown",
      "metadata": {
        "id": "lQfw3bfZDkel",
        "colab_type": "text"
      },
      "source": [
        "area"
      ]
    },
    {
      "cell_type": "code",
      "metadata": {
        "id": "ZM3MSBaHCu04",
        "colab_type": "code",
        "colab": {}
      },
      "source": [
        ""
      ],
      "execution_count": 0,
      "outputs": []
    },
    {
      "cell_type": "markdown",
      "metadata": {
        "id": "LjZ6jdC7Dl4c",
        "colab_type": "text"
      },
      "source": [
        "perimetro"
      ]
    },
    {
      "cell_type": "code",
      "metadata": {
        "id": "joKc8GacC7zj",
        "colab_type": "code",
        "colab": {}
      },
      "source": [
        ""
      ],
      "execution_count": 0,
      "outputs": []
    },
    {
      "cell_type": "markdown",
      "metadata": {
        "id": "sgw-Gd84DnWs",
        "colab_type": "text"
      },
      "source": [
        "distancia"
      ]
    },
    {
      "cell_type": "code",
      "metadata": {
        "id": "qreAG_VxC_gP",
        "colab_type": "code",
        "colab": {}
      },
      "source": [
        ""
      ],
      "execution_count": 0,
      "outputs": []
    },
    {
      "cell_type": "markdown",
      "metadata": {
        "id": "WA2aWG6rD9fu",
        "colab_type": "text"
      },
      "source": [
        "buffer"
      ]
    },
    {
      "cell_type": "code",
      "metadata": {
        "id": "2AWIBZrKDbJ9",
        "colab_type": "code",
        "colab": {}
      },
      "source": [
        ""
      ],
      "execution_count": 0,
      "outputs": []
    },
    {
      "cell_type": "markdown",
      "metadata": {
        "id": "yL3j2gzWEdpN",
        "colab_type": "text"
      },
      "source": [
        "Localizacion por pocision"
      ]
    },
    {
      "cell_type": "code",
      "metadata": {
        "id": "Ld6UFeL4Dtzx",
        "colab_type": "code",
        "colab": {}
      },
      "source": [
        ""
      ],
      "execution_count": 0,
      "outputs": []
    },
    {
      "cell_type": "markdown",
      "metadata": {
        "id": "19usW0E_En2Q",
        "colab_type": "text"
      },
      "source": [
        "Graficacion"
      ]
    },
    {
      "cell_type": "code",
      "metadata": {
        "id": "EI0y4ozyEpjX",
        "colab_type": "code",
        "colab": {}
      },
      "source": [
        ""
      ],
      "execution_count": 0,
      "outputs": []
    },
    {
      "cell_type": "code",
      "metadata": {
        "id": "_a9EgUDTEtdM",
        "colab_type": "code",
        "colab": {}
      },
      "source": [
        ""
      ],
      "execution_count": 0,
      "outputs": []
    },
    {
      "cell_type": "code",
      "metadata": {
        "id": "HT4dymLqE6Jj",
        "colab_type": "code",
        "colab": {}
      },
      "source": [
        ""
      ],
      "execution_count": 0,
      "outputs": []
    },
    {
      "cell_type": "markdown",
      "metadata": {
        "id": "Rs2oCgjRGOiA",
        "colab_type": "text"
      },
      "source": [
        "### Depuración de datos vectoriales"
      ]
    },
    {
      "cell_type": "code",
      "metadata": {
        "id": "IqVIAAc6F6sD",
        "colab_type": "code",
        "colab": {}
      },
      "source": [
        "\n",
        " "
      ],
      "execution_count": 0,
      "outputs": []
    },
    {
      "cell_type": "markdown",
      "metadata": {
        "id": "2uRcdyP1IbjO",
        "colab_type": "text"
      },
      "source": [
        "Graficacion"
      ]
    },
    {
      "cell_type": "code",
      "metadata": {
        "id": "YtMUNA-QGdYU",
        "colab_type": "code",
        "colab": {}
      },
      "source": [
        ""
      ],
      "execution_count": 0,
      "outputs": []
    },
    {
      "cell_type": "markdown",
      "metadata": {
        "id": "jo_kO6iJLvJb",
        "colab_type": "text"
      },
      "source": [
        "Depuracion por valores"
      ]
    },
    {
      "cell_type": "code",
      "metadata": {
        "id": "1MPF0OJ6IeFE",
        "colab_type": "code",
        "colab": {}
      },
      "source": [
        ""
      ],
      "execution_count": 0,
      "outputs": []
    },
    {
      "cell_type": "markdown",
      "metadata": {
        "id": "b9w6nSZCL1FF",
        "colab_type": "text"
      },
      "source": [
        "Depuracion por String"
      ]
    },
    {
      "cell_type": "code",
      "metadata": {
        "id": "y__gwJJpIm-O",
        "colab_type": "code",
        "colab": {}
      },
      "source": [
        "\n"
      ],
      "execution_count": 0,
      "outputs": []
    },
    {
      "cell_type": "code",
      "metadata": {
        "id": "akxfPmMgJggF",
        "colab_type": "code",
        "colab": {}
      },
      "source": [
        ""
      ],
      "execution_count": 0,
      "outputs": []
    },
    {
      "cell_type": "markdown",
      "metadata": {
        "id": "bxLtwlbpMMRU",
        "colab_type": "text"
      },
      "source": [
        "## Ejercicio de aplicación\n",
        "\n",
        "Con el shape de municipios, generar un programa que solicite al usuario coordenadas, y devuelva la entidad, municipio, area, perimetro, la distancia a la ciudad de mexico(-99.13,19.43) y grafique la linea de punto a punto"
      ]
    },
    {
      "cell_type": "code",
      "metadata": {
        "id": "3cRBaSwUMFMg",
        "colab_type": "code",
        "colab": {}
      },
      "source": [
        ""
      ],
      "execution_count": 0,
      "outputs": []
    },
    {
      "cell_type": "markdown",
      "metadata": {
        "id": "9RmIb5xeTVKk",
        "colab_type": "text"
      },
      "source": [
        "### Poligonizacion(GDAL)"
      ]
    },
    {
      "cell_type": "markdown",
      "metadata": {
        "id": "X9BR74vBZftR",
        "colab_type": "text"
      },
      "source": [
        "gdal_polygonize"
      ]
    },
    {
      "cell_type": "code",
      "metadata": {
        "id": "FTQk_ENRV0MV",
        "colab_type": "code",
        "colab": {}
      },
      "source": [
        ""
      ],
      "execution_count": 0,
      "outputs": []
    },
    {
      "cell_type": "markdown",
      "metadata": {
        "id": "o5SnoHnvZkJZ",
        "colab_type": "text"
      },
      "source": [
        "apertura "
      ]
    },
    {
      "cell_type": "code",
      "metadata": {
        "id": "oZFz7B73aL6o",
        "colab_type": "code",
        "colab": {}
      },
      "source": [
        ""
      ],
      "execution_count": 0,
      "outputs": []
    },
    {
      "cell_type": "markdown",
      "metadata": {
        "id": "MzXEA1cyZoS7",
        "colab_type": "text"
      },
      "source": [
        "Graficacion"
      ]
    },
    {
      "cell_type": "code",
      "metadata": {
        "id": "NHwvpK4RaN2F",
        "colab_type": "code",
        "colab": {}
      },
      "source": [
        ""
      ],
      "execution_count": 0,
      "outputs": []
    },
    {
      "cell_type": "markdown",
      "metadata": {
        "id": "qGzFMWooZtmA",
        "colab_type": "text"
      },
      "source": [
        "area"
      ]
    },
    {
      "cell_type": "code",
      "metadata": {
        "id": "GHhmPYBraP0_",
        "colab_type": "code",
        "colab": {}
      },
      "source": [
        ""
      ],
      "execution_count": 0,
      "outputs": []
    },
    {
      "cell_type": "markdown",
      "metadata": {
        "id": "lHhMDUD5ZwoQ",
        "colab_type": "text"
      },
      "source": [
        "Depuracion"
      ]
    },
    {
      "cell_type": "code",
      "metadata": {
        "id": "ljHB3AdCaRjp",
        "colab_type": "code",
        "colab": {}
      },
      "source": [
        ""
      ],
      "execution_count": 0,
      "outputs": []
    },
    {
      "cell_type": "code",
      "metadata": {
        "id": "sHxAApQhaUAw",
        "colab_type": "code",
        "colab": {}
      },
      "source": [
        ""
      ],
      "execution_count": 0,
      "outputs": []
    },
    {
      "cell_type": "code",
      "metadata": {
        "id": "H8fjpIZNaUDP",
        "colab_type": "code",
        "colab": {}
      },
      "source": [
        ""
      ],
      "execution_count": 0,
      "outputs": []
    },
    {
      "cell_type": "code",
      "metadata": {
        "id": "XFJjNUSyaUGP",
        "colab_type": "code",
        "colab": {}
      },
      "source": [
        ""
      ],
      "execution_count": 0,
      "outputs": []
    },
    {
      "cell_type": "markdown",
      "metadata": {
        "id": "DeDWnzwCZ1bp",
        "colab_type": "text"
      },
      "source": [
        "Ecritura de archivo"
      ]
    },
    {
      "cell_type": "code",
      "metadata": {
        "id": "W9YY4nNkaWFy",
        "colab_type": "code",
        "colab": {}
      },
      "source": [
        ""
      ],
      "execution_count": 0,
      "outputs": []
    }
  ]
}