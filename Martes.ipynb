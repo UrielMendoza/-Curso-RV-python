{
  "nbformat": 4,
  "nbformat_minor": 0,
  "metadata": {
    "colab": {
      "name": "Martes_resuelto.ipynb",
      "provenance": [],
      "toc_visible": true,
      "authorship_tag": "ABX9TyP7rPVjSwmv0Usxn6bC4hSt",
      "include_colab_link": true
    },
    "kernelspec": {
      "name": "python3",
      "display_name": "Python 3"
    }
  },
  "cells": [
    {
      "cell_type": "markdown",
      "metadata": {
        "id": "view-in-github",
        "colab_type": "text"
      },
      "source": [
        "<a href=\"https://colab.research.google.com/github/UrielMendoza/Curso-RV-python/blob/master/Martes.ipynb\" target=\"_parent\"><img src=\"https://colab.research.google.com/assets/colab-badge.svg\" alt=\"Open In Colab\"/></a>"
      ]
    },
    {
      "cell_type": "code",
      "metadata": {
        "id": "67DgXPpaMv3r",
        "colab_type": "code",
        "colab": {}
      },
      "source": [
        ""
      ],
      "execution_count": 0,
      "outputs": []
    },
    {
      "cell_type": "markdown",
      "metadata": {
        "id": "MbFfZ25BvI0D",
        "colab_type": "text"
      },
      "source": [
        "### GDAL\n",
        "La Open Source Geospatial Foundation, es una organización no gubernamental cuya misión es dar soporte y promover el desarrollo colaborativo de tecnologías geoespaciales y datos abiertos\n",
        "\n",
        "GDAL,Geonetwork,Geoserver,Proj,GEOS,PostGIS,OpenLayers,Leaflet,QGIS,GvSIG,Grass\n",
        "\n",
        "GDAL,Geospatial Data Abstraction Library o GDAL es una biblioteca de software para la lectura y escritura de formatos de datos geoespaciales, publicada bajo la MIT License por la fundación geoespacial de código abierto."
      ]
    },
    {
      "cell_type": "markdown",
      "metadata": {
        "id": "GRoofrrh7ewc",
        "colab_type": "text"
      },
      "source": [
        "Importación "
      ]
    },
    {
      "cell_type": "code",
      "metadata": {
        "id": "FL3lwJvKFNUb",
        "colab_type": "code",
        "colab": {}
      },
      "source": [
        ""
      ],
      "execution_count": 0,
      "outputs": []
    },
    {
      "cell_type": "markdown",
      "metadata": {
        "id": "Ve6FJoU87hlX",
        "colab_type": "text"
      },
      "source": [
        "Apertura"
      ]
    },
    {
      "cell_type": "code",
      "metadata": {
        "id": "wTL3ctnFFN2q",
        "colab_type": "code",
        "colab": {}
      },
      "source": [
        ""
      ],
      "execution_count": 0,
      "outputs": []
    },
    {
      "cell_type": "code",
      "metadata": {
        "id": "kZl5KyDpFPXC",
        "colab_type": "code",
        "colab": {}
      },
      "source": [
        ""
      ],
      "execution_count": 0,
      "outputs": []
    },
    {
      "cell_type": "markdown",
      "metadata": {
        "id": "hdC6a_A37mCZ",
        "colab_type": "text"
      },
      "source": [
        "Metadato"
      ]
    },
    {
      "cell_type": "code",
      "metadata": {
        "id": "bv7mUFYsGF4Y",
        "colab_type": "code",
        "colab": {}
      },
      "source": [
        ""
      ],
      "execution_count": 0,
      "outputs": []
    },
    {
      "cell_type": "code",
      "metadata": {
        "id": "ckQ5EdUcGGIM",
        "colab_type": "code",
        "colab": {}
      },
      "source": [
        ""
      ],
      "execution_count": 0,
      "outputs": []
    },
    {
      "cell_type": "markdown",
      "metadata": {
        "id": "GnmTjJTV738E",
        "colab_type": "text"
      },
      "source": [
        "Sistema de referencia y proyección"
      ]
    },
    {
      "cell_type": "code",
      "metadata": {
        "id": "56F0SsQ4GKCy",
        "colab_type": "code",
        "colab": {}
      },
      "source": [
        ""
      ],
      "execution_count": 0,
      "outputs": []
    },
    {
      "cell_type": "markdown",
      "metadata": {
        "id": "dvmHwCQv-XMz",
        "colab_type": "text"
      },
      "source": [
        "GeoTrasformación\n",
        "\n",
        "**(xmin, w-e pixel res, rot x, ymax, rot y, n-s pixel res(-))**"
      ]
    },
    {
      "cell_type": "code",
      "metadata": {
        "id": "VSBMYkBOGOYF",
        "colab_type": "code",
        "colab": {}
      },
      "source": [
        ""
      ],
      "execution_count": 0,
      "outputs": []
    },
    {
      "cell_type": "markdown",
      "metadata": {
        "id": "Y_7OLtnB78Ip",
        "colab_type": "text"
      },
      "source": [
        "Caracteristicas Datos"
      ]
    },
    {
      "cell_type": "code",
      "metadata": {
        "id": "9TOhFH7XGRLl",
        "colab_type": "code",
        "colab": {}
      },
      "source": [
        ""
      ],
      "execution_count": 0,
      "outputs": []
    },
    {
      "cell_type": "markdown",
      "metadata": {
        "id": "wN26jSPc_8zA",
        "colab_type": "text"
      },
      "source": [
        "Bandas"
      ]
    },
    {
      "cell_type": "code",
      "metadata": {
        "id": "EHIw8vsRGUFr",
        "colab_type": "code",
        "colab": {}
      },
      "source": [
        ""
      ],
      "execution_count": 0,
      "outputs": []
    },
    {
      "cell_type": "markdown",
      "metadata": {
        "id": "byLNX0RSAfc1",
        "colab_type": "text"
      },
      "source": [
        "Datos númericos"
      ]
    },
    {
      "cell_type": "code",
      "metadata": {
        "id": "VrBVbRoqGZT6",
        "colab_type": "code",
        "colab": {}
      },
      "source": [
        ""
      ],
      "execution_count": 0,
      "outputs": []
    },
    {
      "cell_type": "code",
      "metadata": {
        "id": "L-jgHn0ZGZfN",
        "colab_type": "code",
        "colab": {}
      },
      "source": [
        ""
      ],
      "execution_count": 0,
      "outputs": []
    },
    {
      "cell_type": "code",
      "metadata": {
        "id": "onJdFy-qGZnl",
        "colab_type": "code",
        "colab": {}
      },
      "source": [
        ""
      ],
      "execution_count": 0,
      "outputs": []
    },
    {
      "cell_type": "markdown",
      "metadata": {
        "id": "Taxw3uv8A9TC",
        "colab_type": "text"
      },
      "source": [
        "**Graficación**\n",
        "\n",
        "Matplotlib\n",
        "\n",
        "Matplotlib es una biblioteca para la generación de gráficos a partir de datos contenidos en listas o arrays en el lenguaje de programación Python y su extensión matemática NumPy."
      ]
    },
    {
      "cell_type": "markdown",
      "metadata": {
        "id": "3IcKLgjXBRh2",
        "colab_type": "text"
      },
      "source": [
        "Importación"
      ]
    },
    {
      "cell_type": "code",
      "metadata": {
        "id": "N1Zxu4SgGjuI",
        "colab_type": "code",
        "colab": {}
      },
      "source": [
        ""
      ],
      "execution_count": 0,
      "outputs": []
    },
    {
      "cell_type": "code",
      "metadata": {
        "id": "R8FZ3odEGj21",
        "colab_type": "code",
        "colab": {}
      },
      "source": [
        ""
      ],
      "execution_count": 0,
      "outputs": []
    },
    {
      "cell_type": "markdown",
      "metadata": {
        "id": "jXmo1J3tvjyD",
        "colab_type": "text"
      },
      "source": [
        "### Rasterio\n",
        "\n",
        "Rasterio emplea GDAL de formato ráster. Sus funciones generalmente aceptan y devuelven numpy ndarrays. Rasterio está diseñado para que trabajar con datos ráster geoespaciales sea más productivo y divertido."
      ]
    },
    {
      "cell_type": "markdown",
      "metadata": {
        "id": "A-gXkGmuClGP",
        "colab_type": "text"
      },
      "source": [
        "Instalación"
      ]
    },
    {
      "cell_type": "code",
      "metadata": {
        "id": "Mtf0q_vaGsqM",
        "colab_type": "code",
        "colab": {}
      },
      "source": [
        ""
      ],
      "execution_count": 0,
      "outputs": []
    },
    {
      "cell_type": "markdown",
      "metadata": {
        "id": "pydsau4oCeQl",
        "colab_type": "text"
      },
      "source": [
        "Importación"
      ]
    },
    {
      "cell_type": "code",
      "metadata": {
        "id": "g1oSnTBeGuot",
        "colab_type": "code",
        "colab": {}
      },
      "source": [
        ""
      ],
      "execution_count": 0,
      "outputs": []
    },
    {
      "cell_type": "markdown",
      "metadata": {
        "id": "Ew3feIAxCtGm",
        "colab_type": "text"
      },
      "source": [
        "Apertura"
      ]
    },
    {
      "cell_type": "code",
      "metadata": {
        "id": "jRZ9dqdFGwu9",
        "colab_type": "code",
        "colab": {}
      },
      "source": [
        ""
      ],
      "execution_count": 0,
      "outputs": []
    },
    {
      "cell_type": "markdown",
      "metadata": {
        "id": "s11GesfMC2VB",
        "colab_type": "text"
      },
      "source": [
        "Metadato"
      ]
    },
    {
      "cell_type": "code",
      "metadata": {
        "id": "NkBHo-CFGyjA",
        "colab_type": "code",
        "colab": {}
      },
      "source": [
        ""
      ],
      "execution_count": 0,
      "outputs": []
    },
    {
      "cell_type": "markdown",
      "metadata": {
        "id": "BIVfGGtDDFtP",
        "colab_type": "text"
      },
      "source": [
        "Datos númericos"
      ]
    },
    {
      "cell_type": "code",
      "metadata": {
        "id": "rmS97zgsGz6v",
        "colab_type": "code",
        "colab": {}
      },
      "source": [
        ""
      ],
      "execution_count": 0,
      "outputs": []
    },
    {
      "cell_type": "code",
      "metadata": {
        "id": "lXKXXh_8Q4B0",
        "colab_type": "code",
        "colab": {}
      },
      "source": [
        ""
      ],
      "execution_count": 0,
      "outputs": []
    },
    {
      "cell_type": "code",
      "metadata": {
        "id": "s5Ot32-3G0Fl",
        "colab_type": "code",
        "colab": {}
      },
      "source": [
        ""
      ],
      "execution_count": 0,
      "outputs": []
    },
    {
      "cell_type": "markdown",
      "metadata": {
        "id": "fblquNZVReNV",
        "colab_type": "text"
      },
      "source": [
        "No Data"
      ]
    },
    {
      "cell_type": "code",
      "metadata": {
        "id": "A_dPLIGoRZ23",
        "colab_type": "code",
        "colab": {}
      },
      "source": [
        ""
      ],
      "execution_count": 0,
      "outputs": []
    },
    {
      "cell_type": "code",
      "metadata": {
        "id": "tdQDpo1WRp6T",
        "colab_type": "code",
        "colab": {}
      },
      "source": [
        ""
      ],
      "execution_count": 0,
      "outputs": []
    },
    {
      "cell_type": "code",
      "metadata": {
        "id": "LfxRgJ6fR3pf",
        "colab_type": "code",
        "colab": {}
      },
      "source": [
        ""
      ],
      "execution_count": 0,
      "outputs": []
    },
    {
      "cell_type": "markdown",
      "metadata": {
        "id": "vd75ZEWtSACI",
        "colab_type": "text"
      },
      "source": [
        "Contour (Curvas de nivel)"
      ]
    },
    {
      "cell_type": "code",
      "metadata": {
        "id": "jmXVJpZ2R-Uv",
        "colab_type": "code",
        "colab": {}
      },
      "source": [
        ""
      ],
      "execution_count": 0,
      "outputs": []
    },
    {
      "cell_type": "code",
      "metadata": {
        "id": "ADhzWT2FSqna",
        "colab_type": "code",
        "colab": {}
      },
      "source": [
        ""
      ],
      "execution_count": 0,
      "outputs": []
    },
    {
      "cell_type": "markdown",
      "metadata": {
        "id": "KWTwzdmgKpjh",
        "colab_type": "text"
      },
      "source": [
        "Histograma"
      ]
    },
    {
      "cell_type": "code",
      "metadata": {
        "id": "9kMJE8OTG12d",
        "colab_type": "code",
        "colab": {}
      },
      "source": [
        ""
      ],
      "execution_count": 0,
      "outputs": []
    },
    {
      "cell_type": "markdown",
      "metadata": {
        "id": "ZsXPAGk6ETx7",
        "colab_type": "text"
      },
      "source": [
        "### **Ejercicio de aplicación**\n",
        "\n",
        "1. Graficar de los valores (2000:2500 en X y 500:1000 en Y) y obtener curvas de nivel\n",
        "2. Dar coordenadas extremas y obtener curvas de nivel\n",
        "3. Dar coordenadas y obtener elevación"
      ]
    },
    {
      "cell_type": "code",
      "metadata": {
        "id": "FHShTIwQG5Qd",
        "colab_type": "code",
        "colab": {}
      },
      "source": [
        ""
      ],
      "execution_count": 0,
      "outputs": []
    },
    {
      "cell_type": "code",
      "metadata": {
        "id": "gMI7h0bJG5cN",
        "colab_type": "code",
        "colab": {}
      },
      "source": [
        ""
      ],
      "execution_count": 0,
      "outputs": []
    },
    {
      "cell_type": "code",
      "metadata": {
        "id": "qfOGYUS5G5lt",
        "colab_type": "code",
        "colab": {}
      },
      "source": [
        ""
      ],
      "execution_count": 0,
      "outputs": []
    },
    {
      "cell_type": "code",
      "metadata": {
        "id": "-HBHCGm1Th9m",
        "colab_type": "code",
        "colab": {}
      },
      "source": [
        ""
      ],
      "execution_count": 0,
      "outputs": []
    },
    {
      "cell_type": "markdown",
      "metadata": {
        "id": "lL3CaH6kYXCy",
        "colab_type": "text"
      },
      "source": [
        "F = (x - xmin)/rex\n",
        "\n",
        "C = (y - ymin)/resy"
      ]
    },
    {
      "cell_type": "code",
      "metadata": {
        "id": "xCyV9_wJU-X4",
        "colab_type": "code",
        "colab": {}
      },
      "source": [
        "\n"
      ],
      "execution_count": 0,
      "outputs": []
    },
    {
      "cell_type": "code",
      "metadata": {
        "id": "r-X11Ji2ZCkH",
        "colab_type": "code",
        "colab": {}
      },
      "source": [
        ""
      ],
      "execution_count": 0,
      "outputs": []
    },
    {
      "cell_type": "code",
      "metadata": {
        "id": "4EIYknTAZeMz",
        "colab_type": "code",
        "colab": {}
      },
      "source": [
        ""
      ],
      "execution_count": 0,
      "outputs": []
    },
    {
      "cell_type": "code",
      "metadata": {
        "id": "dzu-1IxSaucz",
        "colab_type": "code",
        "colab": {}
      },
      "source": [
        ""
      ],
      "execution_count": 0,
      "outputs": []
    },
    {
      "cell_type": "code",
      "metadata": {
        "id": "hKfJd3HKeeiz",
        "colab_type": "code",
        "colab": {}
      },
      "source": [
        ""
      ],
      "execution_count": 0,
      "outputs": []
    },
    {
      "cell_type": "markdown",
      "metadata": {
        "id": "Km96c7ORJME9",
        "colab_type": "text"
      },
      "source": [
        "### Georreferencia y reproyección de datos Raster"
      ]
    },
    {
      "cell_type": "code",
      "metadata": {
        "id": "YnW5Yz00JNSi",
        "colab_type": "code",
        "colab": {}
      },
      "source": [
        ""
      ],
      "execution_count": 0,
      "outputs": []
    },
    {
      "cell_type": "code",
      "metadata": {
        "id": "BoOl-T3IfQcW",
        "colab_type": "code",
        "colab": {}
      },
      "source": [
        ""
      ],
      "execution_count": 0,
      "outputs": []
    },
    {
      "cell_type": "code",
      "metadata": {
        "id": "8Z6dkzJnfRn1",
        "colab_type": "code",
        "colab": {}
      },
      "source": [
        ""
      ],
      "execution_count": 0,
      "outputs": []
    },
    {
      "cell_type": "code",
      "metadata": {
        "id": "BaF89uYrfaiq",
        "colab_type": "code",
        "colab": {}
      },
      "source": [
        ""
      ],
      "execution_count": 0,
      "outputs": []
    },
    {
      "cell_type": "markdown",
      "metadata": {
        "id": "RDAGE0eUgJqD",
        "colab_type": "text"
      },
      "source": [
        "Reproyección GDAL WARP "
      ]
    },
    {
      "cell_type": "code",
      "metadata": {
        "id": "GTCsxCeugPy-",
        "colab_type": "code",
        "colab": {}
      },
      "source": [
        ""
      ],
      "execution_count": 0,
      "outputs": []
    },
    {
      "cell_type": "code",
      "metadata": {
        "id": "IBxMIofUhAot",
        "colab_type": "code",
        "colab": {}
      },
      "source": [
        ""
      ],
      "execution_count": 0,
      "outputs": []
    },
    {
      "cell_type": "markdown",
      "metadata": {
        "id": "aZLQOhmwhYkD",
        "colab_type": "text"
      },
      "source": [
        "Operaciones Datos Raster"
      ]
    },
    {
      "cell_type": "code",
      "metadata": {
        "id": "LF9i0AAshbt_",
        "colab_type": "code",
        "colab": {}
      },
      "source": [
        ""
      ],
      "execution_count": 0,
      "outputs": []
    },
    {
      "cell_type": "code",
      "metadata": {
        "id": "4PFr7TG1hcQ5",
        "colab_type": "code",
        "colab": {}
      },
      "source": [
        ""
      ],
      "execution_count": 0,
      "outputs": []
    },
    {
      "cell_type": "markdown",
      "metadata": {
        "id": "LwAdX2XHhcr-",
        "colab_type": "text"
      },
      "source": [
        "Depuracion datos raster"
      ]
    },
    {
      "cell_type": "markdown",
      "metadata": {
        "id": "AU_u_7L0hh4d",
        "colab_type": "text"
      },
      "source": [
        "np.where"
      ]
    },
    {
      "cell_type": "code",
      "metadata": {
        "id": "cerQu0YWhgpE",
        "colab_type": "code",
        "colab": {}
      },
      "source": [
        ""
      ],
      "execution_count": 0,
      "outputs": []
    },
    {
      "cell_type": "markdown",
      "metadata": {
        "id": "k153cEzyhrRL",
        "colab_type": "text"
      },
      "source": [
        "Compuestos datos raster"
      ]
    },
    {
      "cell_type": "markdown",
      "metadata": {
        "id": "FVtl-0DHhvIF",
        "colab_type": "text"
      },
      "source": [
        "np.dstack"
      ]
    },
    {
      "cell_type": "code",
      "metadata": {
        "id": "OAOjocqXhtmV",
        "colab_type": "code",
        "colab": {}
      },
      "source": [
        ""
      ],
      "execution_count": 0,
      "outputs": []
    },
    {
      "cell_type": "markdown",
      "metadata": {
        "id": "tgQ0kJ9BhyKE",
        "colab_type": "text"
      },
      "source": [
        "## Ejercicio de aplicación.\n",
        "\n",
        "1. Abrir bandas , recortarlas\n",
        "2. Calcular NDWI\n",
        "3. Depurar datos\n",
        "4. Enmascarar valores \n",
        "5. Escribir archivo"
      ]
    },
    {
      "cell_type": "code",
      "metadata": {
        "id": "sBta7lpCiUMb",
        "colab_type": "code",
        "colab": {}
      },
      "source": [
        ""
      ],
      "execution_count": 0,
      "outputs": []
    }
  ]
}