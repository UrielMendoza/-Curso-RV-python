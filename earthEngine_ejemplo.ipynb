{
  "nbformat": 4,
  "nbformat_minor": 0,
  "metadata": {
    "colab": {
      "name": "earthEngine_ejemplo.ipynb",
      "provenance": [],
      "collapsed_sections": [],
      "mount_file_id": "13e5QFBrJ0-xJvudvEd0Tg_TH7Tt6ADgr",
      "authorship_tag": "ABX9TyOEzRCiuNjMqXL6EcfHiypl",
      "include_colab_link": true
    },
    "kernelspec": {
      "name": "python3",
      "display_name": "Python 3"
    }
  },
  "cells": [
    {
      "cell_type": "markdown",
      "metadata": {
        "id": "view-in-github",
        "colab_type": "text"
      },
      "source": [
        "<a href=\"https://colab.research.google.com/github/UrielMendoza/Curso-RV-python/blob/master/earthEngine_ejemplo.ipynb\" target=\"_parent\"><img src=\"https://colab.research.google.com/assets/colab-badge.svg\" alt=\"Open In Colab\"/></a>"
      ]
    },
    {
      "cell_type": "markdown",
      "metadata": {
        "id": "eG167MCs1vBM",
        "colab_type": "text"
      },
      "source": [
        "Importar módulo"
      ]
    },
    {
      "cell_type": "code",
      "metadata": {
        "id": "A1tcvALqy9_u",
        "colab_type": "code",
        "colab": {}
      },
      "source": [
        ""
      ],
      "execution_count": 0,
      "outputs": []
    },
    {
      "cell_type": "markdown",
      "metadata": {
        "id": "6wbDrDJl1crj",
        "colab_type": "text"
      },
      "source": [
        "Autentificar "
      ]
    },
    {
      "cell_type": "code",
      "metadata": {
        "id": "nUKtTvZN1NfB",
        "colab_type": "code",
        "colab": {}
      },
      "source": [
        ""
      ],
      "execution_count": 0,
      "outputs": []
    },
    {
      "cell_type": "markdown",
      "metadata": {
        "id": "2oD3qnQu15-d",
        "colab_type": "text"
      },
      "source": [
        "Inicializar"
      ]
    },
    {
      "cell_type": "code",
      "metadata": {
        "id": "a23Hox7N1RD4",
        "colab_type": "code",
        "colab": {}
      },
      "source": [
        ""
      ],
      "execution_count": 0,
      "outputs": []
    },
    {
      "cell_type": "markdown",
      "metadata": {
        "id": "ENO8LQ1Z2ZVd",
        "colab_type": "text"
      },
      "source": [
        "Colección de datos"
      ]
    },
    {
      "cell_type": "code",
      "metadata": {
        "id": "kRaz5o942Zn6",
        "colab_type": "code",
        "colab": {}
      },
      "source": [
        ""
      ],
      "execution_count": 0,
      "outputs": []
    },
    {
      "cell_type": "markdown",
      "metadata": {
        "id": "Wbj_f65Z23Dy",
        "colab_type": "text"
      },
      "source": [
        "Info"
      ]
    },
    {
      "cell_type": "code",
      "metadata": {
        "id": "dDyk8dwo22SX",
        "colab_type": "code",
        "colab": {}
      },
      "source": [
        ""
      ],
      "execution_count": 0,
      "outputs": []
    },
    {
      "cell_type": "markdown",
      "metadata": {
        "id": "RRCiw1Qi6qTX",
        "colab_type": "text"
      },
      "source": [
        "Filtro tiempo"
      ]
    },
    {
      "cell_type": "code",
      "metadata": {
        "id": "7JCgEK_-6onr",
        "colab_type": "code",
        "colab": {}
      },
      "source": [
        ""
      ],
      "execution_count": 0,
      "outputs": []
    },
    {
      "cell_type": "markdown",
      "metadata": {
        "id": "k5k8gusN8Lt8",
        "colab_type": "text"
      },
      "source": [
        "Filtro geometrico"
      ]
    },
    {
      "cell_type": "code",
      "metadata": {
        "id": "9-O2fTjm8SnI",
        "colab_type": "code",
        "colab": {}
      },
      "source": [
        ""
      ],
      "execution_count": 0,
      "outputs": []
    },
    {
      "cell_type": "markdown",
      "metadata": {
        "id": "atw2-a5K9Wws",
        "colab_type": "text"
      },
      "source": [
        "Metadato"
      ]
    },
    {
      "cell_type": "code",
      "metadata": {
        "id": "H090oKiLvqKQ",
        "colab_type": "code",
        "colab": {}
      },
      "source": [
        ""
      ],
      "execution_count": 0,
      "outputs": []
    },
    {
      "cell_type": "markdown",
      "metadata": {
        "id": "q13VyatO-iGa",
        "colab_type": "text"
      },
      "source": [
        "Filtro metadata\n"
      ]
    },
    {
      "cell_type": "code",
      "metadata": {
        "id": "St2-vEVD-oMd",
        "colab_type": "code",
        "colab": {}
      },
      "source": [
        ""
      ],
      "execution_count": 0,
      "outputs": []
    },
    {
      "cell_type": "markdown",
      "metadata": {
        "id": "2kl5TufZdCb3",
        "colab_type": "text"
      },
      "source": [
        "Bandas"
      ]
    },
    {
      "cell_type": "code",
      "metadata": {
        "id": "NvMtdRRY9jk7",
        "colab_type": "code",
        "colab": {}
      },
      "source": [
        ""
      ],
      "execution_count": 0,
      "outputs": []
    },
    {
      "cell_type": "markdown",
      "metadata": {
        "id": "HQvKMGCGC63e",
        "colab_type": "text"
      },
      "source": [
        "Recorte"
      ]
    },
    {
      "cell_type": "code",
      "metadata": {
        "id": "Pe0L6IAk9wKC",
        "colab_type": "code",
        "colab": {}
      },
      "source": [
        ""
      ],
      "execution_count": 0,
      "outputs": []
    },
    {
      "cell_type": "markdown",
      "metadata": {
        "id": "6qVhBANQ_zZ-",
        "colab_type": "text"
      },
      "source": [
        "Descarga"
      ]
    },
    {
      "cell_type": "code",
      "metadata": {
        "id": "sO_FQgUhVP_L",
        "colab_type": "code",
        "colab": {}
      },
      "source": [
        ""
      ],
      "execution_count": 0,
      "outputs": []
    },
    {
      "cell_type": "code",
      "metadata": {
        "id": "IhcGgHd1ngjT",
        "colab_type": "code",
        "colab": {}
      },
      "source": [
        ""
      ],
      "execution_count": 0,
      "outputs": []
    },
    {
      "cell_type": "markdown",
      "metadata": {
        "id": "H0N2MArgACKS",
        "colab_type": "text"
      },
      "source": [
        "Tratamiento "
      ]
    },
    {
      "cell_type": "markdown",
      "metadata": {
        "id": "hUIpK5PoAGCB",
        "colab_type": "text"
      },
      "source": [
        "Apertura"
      ]
    },
    {
      "cell_type": "code",
      "metadata": {
        "id": "3ZmvMQWRC7OQ",
        "colab_type": "code",
        "colab": {}
      },
      "source": [
        ""
      ],
      "execution_count": 0,
      "outputs": []
    },
    {
      "cell_type": "markdown",
      "metadata": {
        "id": "Jowg830zAIsI",
        "colab_type": "text"
      },
      "source": [
        "Extracción"
      ]
    },
    {
      "cell_type": "code",
      "metadata": {
        "id": "1SF6boGyANht",
        "colab_type": "code",
        "colab": {}
      },
      "source": [
        ""
      ],
      "execution_count": 0,
      "outputs": []
    },
    {
      "cell_type": "markdown",
      "metadata": {
        "id": "eX__RqK5AQJJ",
        "colab_type": "text"
      },
      "source": [
        "Graficación"
      ]
    },
    {
      "cell_type": "code",
      "metadata": {
        "id": "l3f0gjOjASaN",
        "colab_type": "code",
        "colab": {}
      },
      "source": [
        ""
      ],
      "execution_count": 0,
      "outputs": []
    },
    {
      "cell_type": "markdown",
      "metadata": {
        "id": "d5raI7WmAfjo",
        "colab_type": "text"
      },
      "source": [
        "Cálculo NDVI"
      ]
    },
    {
      "cell_type": "markdown",
      "metadata": {
        "id": "yv2Ea6WoBMBp",
        "colab_type": "text"
      },
      "source": [
        "Banda 3"
      ]
    },
    {
      "cell_type": "code",
      "metadata": {
        "id": "Apwo30pbAnDy",
        "colab_type": "code",
        "colab": {}
      },
      "source": [
        ""
      ],
      "execution_count": 0,
      "outputs": []
    },
    {
      "cell_type": "markdown",
      "metadata": {
        "id": "Zj63yOIUBOgp",
        "colab_type": "text"
      },
      "source": [
        "Apertura y extracción"
      ]
    },
    {
      "cell_type": "code",
      "metadata": {
        "id": "vuWdB4UJBFay",
        "colab_type": "code",
        "colab": {}
      },
      "source": [
        ""
      ],
      "execution_count": 0,
      "outputs": []
    },
    {
      "cell_type": "markdown",
      "metadata": {
        "id": "8laQENJpBBYS",
        "colab_type": "text"
      },
      "source": [
        "NDVI"
      ]
    },
    {
      "cell_type": "code",
      "metadata": {
        "id": "FMVU8lVBBdda",
        "colab_type": "code",
        "colab": {}
      },
      "source": [
        ""
      ],
      "execution_count": 0,
      "outputs": []
    },
    {
      "cell_type": "markdown",
      "metadata": {
        "id": "Wy7tSjvoBljx",
        "colab_type": "text"
      },
      "source": [
        "Graficación"
      ]
    },
    {
      "cell_type": "code",
      "metadata": {
        "id": "dzgp5Y4Ijw6A",
        "colab_type": "code",
        "colab": {}
      },
      "source": [
        ""
      ],
      "execution_count": 0,
      "outputs": []
    },
    {
      "cell_type": "markdown",
      "metadata": {
        "id": "4v7wMASnFbkj",
        "colab_type": "text"
      },
      "source": [
        "#FOLIUM"
      ]
    },
    {
      "cell_type": "code",
      "metadata": {
        "id": "TuQBxydAo5_A",
        "colab_type": "code",
        "colab": {}
      },
      "source": [
        ""
      ],
      "execution_count": 0,
      "outputs": []
    },
    {
      "cell_type": "code",
      "metadata": {
        "id": "HoyBxpJIrV6G",
        "colab_type": "code",
        "colab": {}
      },
      "source": [
        ""
      ],
      "execution_count": 0,
      "outputs": []
    }
  ]
}