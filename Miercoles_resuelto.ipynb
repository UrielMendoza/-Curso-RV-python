{
  "nbformat": 4,
  "nbformat_minor": 0,
  "metadata": {
    "colab": {
      "name": "Miercoles_resuelto.ipynb",
      "provenance": [],
      "toc_visible": true,
      "authorship_tag": "ABX9TyPGhQUj+2yWjDXg7rN6aeKZ",
      "include_colab_link": true
    },
    "kernelspec": {
      "name": "python3",
      "display_name": "Python 3"
    }
  },
  "cells": [
    {
      "cell_type": "markdown",
      "metadata": {
        "id": "view-in-github",
        "colab_type": "text"
      },
      "source": [
        "<a href=\"https://colab.research.google.com/github/UrielMendoza/Curso-RV-python/blob/master/Miercoles_resuelto.ipynb\" target=\"_parent\"><img src=\"https://colab.research.google.com/assets/colab-badge.svg\" alt=\"Open In Colab\"/></a>"
      ]
    },
    {
      "cell_type": "code",
      "metadata": {
        "id": "6F3zUV0AvYtq",
        "colab_type": "code",
        "colab": {
          "base_uri": "https://localhost:8080/",
          "height": 122
        },
        "outputId": "ec438657-52eb-4429-f038-c7dca272673d"
      },
      "source": [
        "from google.colab import drive\n",
        "drive.mount('/content/drive')"
      ],
      "execution_count": 1,
      "outputs": [
        {
          "output_type": "stream",
          "text": [
            "Go to this URL in a browser: https://accounts.google.com/o/oauth2/auth?client_id=947318989803-6bn6qk8qdgf4n4g3pfee6491hc0brc4i.apps.googleusercontent.com&redirect_uri=urn%3aietf%3awg%3aoauth%3a2.0%3aoob&response_type=code&scope=email%20https%3a%2f%2fwww.googleapis.com%2fauth%2fdocs.test%20https%3a%2f%2fwww.googleapis.com%2fauth%2fdrive%20https%3a%2f%2fwww.googleapis.com%2fauth%2fdrive.photos.readonly%20https%3a%2f%2fwww.googleapis.com%2fauth%2fpeopleapi.readonly\n",
            "\n",
            "Enter your authorization code:\n",
            "··········\n",
            "Mounted at /content/drive\n"
          ],
          "name": "stdout"
        }
      ]
    },
    {
      "cell_type": "markdown",
      "metadata": {
        "id": "WjisrkjbvRbN",
        "colab_type": "text"
      },
      "source": [
        "**Reproyección gdalwarp**"
      ]
    },
    {
      "cell_type": "code",
      "metadata": {
        "id": "r4qvPxZDdZQf",
        "colab_type": "code",
        "colab": {
          "base_uri": "https://localhost:8080/",
          "height": 34
        },
        "outputId": "6f8ecbef-d4ad-4d79-feb2-2fc4454dfba7"
      },
      "source": [
        "from osgeo import gdal\n",
        "ds = gdal.Open('/content/drive/My Drive/Curso-RV-python/ndwi.tif')\n",
        "gdal.Warp('ndwi_UTM.tif',ds,options=gdal.WarpOptions(dstSRS='EPSG:32614'))"
      ],
      "execution_count": 16,
      "outputs": [
        {
          "output_type": "execute_result",
          "data": {
            "text/plain": [
              "<osgeo.gdal.Dataset; proxy of <Swig Object of type 'GDALDatasetShadow *' at 0x7f938e086f00> >"
            ]
          },
          "metadata": {
            "tags": []
          },
          "execution_count": 16
        }
      ]
    },
    {
      "cell_type": "markdown",
      "metadata": {
        "id": "fj7ylU563S8l",
        "colab_type": "text"
      },
      "source": [
        "# **Introducción a Vectorial (Shapely Geopandas)**\n",
        "\n",
        "\n",
        "\n",
        "\n",
        "\n"
      ]
    },
    {
      "cell_type": "markdown",
      "metadata": {
        "id": "HXAld78g4M7U",
        "colab_type": "text"
      },
      "source": [
        "**Shapely**\n",
        "\n",
        "Shapely es un paquete de Python con licencia BSD para la manipulación y el análisis de objetos geométricos planos. Se basa en las bibliotecas GEOS (el motor de PostGIS ) y JTS (desde las cuales se transfiere GEOS), ampliamente implementadas . Shapely no se preocupa por los formatos de datos o los sistemas de coordenadas, pero puede integrarse fácilmente con los paquetes que sí lo están"
      ]
    },
    {
      "cell_type": "code",
      "metadata": {
        "id": "PUq0faXG0duN",
        "colab_type": "code",
        "colab": {}
      },
      "source": [
        "from shapely.geometry import Point,LineString,LinearRing,Polygon,MultiLineString,MultiPoint,MultiPolygon "
      ],
      "execution_count": 0,
      "outputs": []
    },
    {
      "cell_type": "markdown",
      "metadata": {
        "id": "-1eUiQoB5RpN",
        "colab_type": "text"
      },
      "source": [
        "Punto"
      ]
    },
    {
      "cell_type": "code",
      "metadata": {
        "id": "NXA5c6L700Ph",
        "colab_type": "code",
        "colab": {
          "base_uri": "https://localhost:8080/",
          "height": 34
        },
        "outputId": "f36ba334-3c73-4782-fb3c-32b8d1fedd20"
      },
      "source": [
        "punto = Point(1,-1)\n",
        "type(punto)"
      ],
      "execution_count": 45,
      "outputs": [
        {
          "output_type": "execute_result",
          "data": {
            "text/plain": [
              "shapely.geometry.point.Point"
            ]
          },
          "metadata": {
            "tags": []
          },
          "execution_count": 45
        }
      ]
    },
    {
      "cell_type": "code",
      "metadata": {
        "id": "zBs2rU3k5nMX",
        "colab_type": "code",
        "colab": {
          "base_uri": "https://localhost:8080/",
          "height": 121
        },
        "outputId": "8dba8219-8d60-47c8-8bce-4177d67cc072"
      },
      "source": [
        "punto"
      ],
      "execution_count": 46,
      "outputs": [
        {
          "output_type": "execute_result",
          "data": {
            "text/plain": [
              "<shapely.geometry.point.Point at 0x7f938af45be0>"
            ],
            "image/svg+xml": "<svg xmlns=\"http://www.w3.org/2000/svg\" xmlns:xlink=\"http://www.w3.org/1999/xlink\" width=\"100.0\" height=\"100.0\" viewBox=\"0.0 -2.0 2.0 2.0\" preserveAspectRatio=\"xMinYMin meet\"><g transform=\"matrix(1,0,0,-1,0,-2.0)\"><circle cx=\"1.0\" cy=\"-1.0\" r=\"0.06\" stroke=\"#555555\" stroke-width=\"0.02\" fill=\"#66cc99\" opacity=\"0.6\" /></g></svg>"
          },
          "metadata": {
            "tags": []
          },
          "execution_count": 46
        }
      ]
    },
    {
      "cell_type": "markdown",
      "metadata": {
        "id": "r9JmF1ON6Erw",
        "colab_type": "text"
      },
      "source": [
        "Coordenadas"
      ]
    },
    {
      "cell_type": "code",
      "metadata": {
        "id": "idrg5r5Z5pin",
        "colab_type": "code",
        "colab": {
          "base_uri": "https://localhost:8080/",
          "height": 34
        },
        "outputId": "f177ae07-f6c2-4200-a04f-dee6423fa411"
      },
      "source": [
        "punto.x\n",
        "punto.y"
      ],
      "execution_count": 48,
      "outputs": [
        {
          "output_type": "execute_result",
          "data": {
            "text/plain": [
              "-1.0"
            ]
          },
          "metadata": {
            "tags": []
          },
          "execution_count": 48
        }
      ]
    },
    {
      "cell_type": "markdown",
      "metadata": {
        "id": "fCazjydJ6Hng",
        "colab_type": "text"
      },
      "source": [
        "Distancia"
      ]
    },
    {
      "cell_type": "code",
      "metadata": {
        "id": "sMjbsKBp537o",
        "colab_type": "code",
        "colab": {
          "base_uri": "https://localhost:8080/",
          "height": 34
        },
        "outputId": "16d192c5-d2c9-4449-a979-bab5029ea80b"
      },
      "source": [
        "punto.distance(Point(2,3))\n"
      ],
      "execution_count": 52,
      "outputs": [
        {
          "output_type": "execute_result",
          "data": {
            "text/plain": [
              "4.123105625617661"
            ]
          },
          "metadata": {
            "tags": []
          },
          "execution_count": 52
        }
      ]
    },
    {
      "cell_type": "markdown",
      "metadata": {
        "id": "4ne9SRfq6cwn",
        "colab_type": "text"
      },
      "source": [
        "Union"
      ]
    },
    {
      "cell_type": "code",
      "metadata": {
        "id": "YN7W_dc06epy",
        "colab_type": "code",
        "colab": {}
      },
      "source": [
        "punto.union(Point(1,0))\n",
        "type(punto.union(Point(1,0)))\n",
        "multiPoint = punto.union(Point(1,0))"
      ],
      "execution_count": 0,
      "outputs": []
    },
    {
      "cell_type": "markdown",
      "metadata": {
        "id": "x2qqBmCM7D6-",
        "colab_type": "text"
      },
      "source": [
        "Multipoint"
      ]
    },
    {
      "cell_type": "code",
      "metadata": {
        "id": "ws0A636R6zjh",
        "colab_type": "code",
        "colab": {
          "base_uri": "https://localhost:8080/",
          "height": 121
        },
        "outputId": "e4d906d0-94e6-4efc-89a3-3e9f7a279467"
      },
      "source": [
        "len(multiPoint)\n",
        "multiPoint[0]\n",
        "multiPoint[1]"
      ],
      "execution_count": 65,
      "outputs": [
        {
          "output_type": "execute_result",
          "data": {
            "text/plain": [
              "<shapely.geometry.point.Point at 0x7f938af25710>"
            ],
            "image/svg+xml": "<svg xmlns=\"http://www.w3.org/2000/svg\" xmlns:xlink=\"http://www.w3.org/1999/xlink\" width=\"100.0\" height=\"100.0\" viewBox=\"0.0 -1.0 2.0 2.0\" preserveAspectRatio=\"xMinYMin meet\"><g transform=\"matrix(1,0,0,-1,0,0.0)\"><circle cx=\"1.0\" cy=\"0.0\" r=\"0.06\" stroke=\"#555555\" stroke-width=\"0.02\" fill=\"#66cc99\" opacity=\"0.6\" /></g></svg>"
          },
          "metadata": {
            "tags": []
          },
          "execution_count": 65
        }
      ]
    },
    {
      "cell_type": "markdown",
      "metadata": {
        "id": "Q7ST_qzJ7Pyd",
        "colab_type": "text"
      },
      "source": [
        "Buffer"
      ]
    },
    {
      "cell_type": "code",
      "metadata": {
        "id": "fYUmb0jP7S-M",
        "colab_type": "code",
        "colab": {
          "base_uri": "https://localhost:8080/",
          "height": 121
        },
        "outputId": "2269b6ed-b221-4ab7-dc20-fb7cca37c3b4"
      },
      "source": [
        "punto.buffer(10)\n",
        "type(punto.buffer(10))\n",
        "multiPoint.buffer(0.7)"
      ],
      "execution_count": 71,
      "outputs": [
        {
          "output_type": "execute_result",
          "data": {
            "text/plain": [
              "<shapely.geometry.polygon.Polygon at 0x7f938af0b7f0>"
            ],
            "image/svg+xml": "<svg xmlns=\"http://www.w3.org/2000/svg\" xmlns:xlink=\"http://www.w3.org/1999/xlink\" width=\"100.0\" height=\"100.0\" viewBox=\"0.20400000000000004 -1.796 1.592 2.592\" preserveAspectRatio=\"xMinYMin meet\"><g transform=\"matrix(1,0,0,-1,0,-1.0)\"><path fill-rule=\"evenodd\" fill=\"#66cc99\" stroke=\"#555555\" stroke-width=\"0.051840000000000004\" opacity=\"0.6\" d=\"M 0.5105697656268838,-0.49999999999999994 L 0.5050252531694177,-0.4949747468305841 L 0.45889268264608496,-0.4440752989145527 L 0.417971271388219,-0.3888991631137225 L 0.382655114956152,-0.3299777157781993 L 0.3532843272420997,-0.2678784026555638 L 0.33014176498745407,-0.20319927407812455 L 0.31345030371773885,-0.13656322541129062 L 0.30337069132946226,-0.0686119982306932 L 0.30000000000000004,-7.074501697304024e-16 L 0.30337069132946215,0.06861199823069179 L 0.31345030371773863,0.13656322541128924 L 0.33014176498745373,0.2031992740781232 L 0.3532843272420991,0.26787840265556245 L 0.38265511495615134,0.32997771577819807 L 0.4179712713882182,0.38889916311372136 L 0.45889268264608407,0.44407529891455166 L 0.5050252531694166,0.4949747468305832 L 0.5559247010854479,0.5411073173539156 L 0.611100836886278,0.5820287286117813 L 0.6700222842218009,0.6173448850438481 L 0.7321215973444362,0.6467156727579003 L 0.7968007259218751,0.6698582350125458 L 0.8634367745887087,0.6865496962822609 L 0.9313880017693058,0.6966293086705376 L 0.999999999999998,0.7 L 1.0686119982306903,0.696629308670538 L 1.1365632254112874,0.6865496962822617 L 1.203199274078121,0.6698582350125469 L 1.26787840265556,0.6467156727579019 L 1.3299777157781956,0.61734488504385 L 1.3888991631137186,0.5820287286117835 L 1.4440752989145489,0.5411073173539181 L 1.4949747468305805,0.494974746830586 L 1.5411073173539132,0.444075298914555 L 1.5820287286117791,0.38889916311372513 L 1.6173448850438463,0.3299777157782024 L 1.6467156727578987,0.2678784026555673 L 1.6698582350125446,0.2031992740781285 L 1.6865496962822601,0.13656322541129498 L 1.6966293086705373,0.06861199823069793 L 1.7,5.766974595991418e-15 L 1.7,0.0 L 1.6966293086705377,-0.06861199823069235 L 1.6865496962822615,-0.13656322541128965 L 1.6698582350125464,-0.20319927407812347 L 1.6467156727579009,-0.26787840265556256 L 1.6173448850438485,-0.329977715778198 L 1.5820287286117818,-0.3888991631137212 L 1.5411073173539163,-0.44407529891455144 L 1.4949747468305836,-0.4949747468305828 L 1.4894302343731163,-0.49999999999999983 L 1.4949747468305805,-0.5050252531694139 L 1.5411073173539132,-0.555924701085445 L 1.5820287286117791,-0.6111008368862749 L 1.6173448850438463,-0.6700222842217975 L 1.6467156727578987,-0.7321215973444327 L 1.6698582350125446,-0.7968007259218715 L 1.6865496962822601,-0.863436774588705 L 1.6966293086705373,-0.931388001769302 L 1.7,-0.9999999999999942 L 1.7,-1.0 L 1.6966293086705377,-1.0686119982306923 L 1.6865496962822615,-1.1365632254112896 L 1.6698582350125464,-1.2031992740781234 L 1.6467156727579009,-1.2678784026555625 L 1.6173448850438485,-1.329977715778198 L 1.5820287286117818,-1.388899163113721 L 1.5411073173539163,-1.4440752989145516 L 1.4949747468305836,-1.4949747468305827 L 1.4440752989145524,-1.5411073173539154 L 1.3888991631137222,-1.5820287286117813 L 1.329977715778199,-1.617344885043848 L 1.2678784026555636,-1.6467156727579004 L 1.2031992740781245,-1.669858235012546 L 1.1365632254112907,-1.686549696282261 L 1.0686119982306934,-1.6966293086705377 L 1.000000000000001,-1.7 L 0.9313880017693088,-1.6966293086705377 L 0.8634367745887115,-1.6865496962822615 L 0.7968007259218777,-1.6698582350125464 L 0.7321215973444386,-1.6467156727579013 L 0.6700222842218031,-1.6173448850438492 L 0.6111008368862796,-1.5820287286117825 L 0.5559247010854493,-1.5411073173539167 L 0.5050252531694177,-1.494974746830584 L 0.45889268264608496,-1.4440752989145527 L 0.417971271388219,-1.3888991631137224 L 0.382655114956152,-1.3299777157781993 L 0.3532843272420997,-1.2678784026555638 L 0.33014176498745407,-1.2031992740781245 L 0.31345030371773885,-1.1365632254112907 L 0.30337069132946226,-1.0686119982306932 L 0.30000000000000004,-1.0000000000000007 L 0.30337069132946215,-0.9313880017693082 L 0.31345030371773863,-0.8634367745887108 L 0.33014176498745373,-0.7968007259218768 L 0.3532843272420991,-0.7321215973444375 L 0.38265511495615134,-0.670022284221802 L 0.4179712713882182,-0.6111008368862787 L 0.45889268264608407,-0.5559247010854483 L 0.5050252531694166,-0.5050252531694168 L 0.5105697656268838,-0.49999999999999994 z\" /></g></svg>"
          },
          "metadata": {
            "tags": []
          },
          "execution_count": 71
        }
      ]
    },
    {
      "cell_type": "markdown",
      "metadata": {
        "id": "1tqCyc0Y5TIJ",
        "colab_type": "text"
      },
      "source": [
        "Linea"
      ]
    },
    {
      "cell_type": "code",
      "metadata": {
        "id": "KBvwm_9C5owX",
        "colab_type": "code",
        "colab": {
          "base_uri": "https://localhost:8080/",
          "height": 121
        },
        "outputId": "e758f251-b2a3-4362-f690-7e6a3fe409a5"
      },
      "source": [
        "linea = LineString([(1,2),(2,3),(4,5),(1,0),(-3,4)])\n",
        "linea"
      ],
      "execution_count": 80,
      "outputs": [
        {
          "output_type": "execute_result",
          "data": {
            "text/plain": [
              "<shapely.geometry.linestring.LineString at 0x7f938af2b6d8>"
            ],
            "image/svg+xml": "<svg xmlns=\"http://www.w3.org/2000/svg\" xmlns:xlink=\"http://www.w3.org/1999/xlink\" width=\"100.0\" height=\"100.0\" viewBox=\"-3.2800000000000002 -0.28 7.5600000000000005 5.5600000000000005\" preserveAspectRatio=\"xMinYMin meet\"><g transform=\"matrix(1,0,0,-1,0,5.0)\"><polyline fill=\"none\" stroke=\"#66cc99\" stroke-width=\"0.1512\" points=\"1.0,2.0 2.0,3.0 4.0,5.0 1.0,0.0 -3.0,4.0\" opacity=\"0.8\" /></g></svg>"
          },
          "metadata": {
            "tags": []
          },
          "execution_count": 80
        }
      ]
    },
    {
      "cell_type": "markdown",
      "metadata": {
        "id": "8R83iHh78cKw",
        "colab_type": "text"
      },
      "source": [
        "Perimetro"
      ]
    },
    {
      "cell_type": "code",
      "metadata": {
        "id": "nGJkKCo65UWC",
        "colab_type": "code",
        "colab": {
          "base_uri": "https://localhost:8080/",
          "height": 34
        },
        "outputId": "930e1a3b-8bef-472a-e26b-1241bda0e987"
      },
      "source": [
        "linea.bounds\n",
        "linea.length"
      ],
      "execution_count": 91,
      "outputs": [
        {
          "output_type": "execute_result",
          "data": {
            "text/plain": [
              "15.730446831456966"
            ]
          },
          "metadata": {
            "tags": []
          },
          "execution_count": 91
        }
      ]
    },
    {
      "cell_type": "markdown",
      "metadata": {
        "id": "XUP5OmpT9pH0",
        "colab_type": "text"
      },
      "source": [
        "Distancia"
      ]
    },
    {
      "cell_type": "code",
      "metadata": {
        "id": "eUVKJFwZ9uBr",
        "colab_type": "code",
        "colab": {
          "base_uri": "https://localhost:8080/",
          "height": 34
        },
        "outputId": "f39d9c8f-fd95-49c4-a61a-63baee23ad74"
      },
      "source": [
        "linea.distance(Point(10,10))"
      ],
      "execution_count": 92,
      "outputs": [
        {
          "output_type": "execute_result",
          "data": {
            "text/plain": [
              "7.810249675906654"
            ]
          },
          "metadata": {
            "tags": []
          },
          "execution_count": 92
        }
      ]
    },
    {
      "cell_type": "markdown",
      "metadata": {
        "id": "eSu_kBxy92lO",
        "colab_type": "text"
      },
      "source": [
        "Buffer"
      ]
    },
    {
      "cell_type": "code",
      "metadata": {
        "id": "MioiuCBR948h",
        "colab_type": "code",
        "colab": {
          "base_uri": "https://localhost:8080/",
          "height": 121
        },
        "outputId": "280b4134-efc5-4e5d-9eaf-00b5674a734a"
      },
      "source": [
        "linea.buffer(1)"
      ],
      "execution_count": 95,
      "outputs": [
        {
          "output_type": "execute_result",
          "data": {
            "text/plain": [
              "<shapely.geometry.polygon.Polygon at 0x7f938af2b4e0>"
            ],
            "image/svg+xml": "<svg xmlns=\"http://www.w3.org/2000/svg\" xmlns:xlink=\"http://www.w3.org/1999/xlink\" width=\"100.0\" height=\"100.0\" viewBox=\"-4.359969734485814 -1.3597361839197304 9.719182831116978 7.719621838107074\" preserveAspectRatio=\"xMinYMin meet\"><g transform=\"matrix(1,0,0,-1,0,5.000149470267614)\"><path fill-rule=\"evenodd\" fill=\"#66cc99\" stroke=\"#555555\" stroke-width=\"0.19438365662233956\" opacity=\"0.6\" d=\"M 0.06437012823509987,2.3498434341379952 L 0.07612046748871204,2.382683432365087 L 0.11807873565164329,2.4713967368259944 L 0.16853038769745254,2.555570233019599 L 0.22698954663726034,2.634393284163642 L 0.2928932188134492,2.7071067811865444 L 3.2928932188134525,5.707106781186548 L 3.3643545225051064,5.771981105300052 L 3.441737115442744,5.829664119825495 L 3.524320148140905,5.879618484648493 L 3.611334326959141,5.921378855086059 L 3.7019690803768057,5.954556216756537 L 3.7953801097876396,5.97884150940256 L 3.890697254475505,5.994008505909687 L 3.987032597505914,5.99991591970153 L 4.08348873702376,5.996508720880143 L 4.179167145906838,5.9838186488513 L 4.273176541901674,5.961963916659374 L 4.364641190270533,5.931148109786026 L 4.452709061607169,5.891658289670856 L 4.536559768828017,5.843862319620461 L 4.615412209402636,5.788205438016109 L 4.6885318416329795,5.725206110741972 L 4.755237527200089,5.655451201470175 L 4.814907876237159,5.579590504793378 L 4.8669870358221345,5.498330693130926 L 4.910989867967712,5.4124287337955135 L 4.946506468873737,5.3226848375430285 L 4.973205987343362,5.229935004292587 L 4.99083970679292,5.135043235456354 L 4.99924336214535,5.038893485424375 L 4.99833867002442,4.942381427179506 L 4.988134057995364,4.846406108749031 L 4.968724586058772,4.751861578216391 L 4.940291061129062,4.659628555309375 L 4.903098352746491,4.570566227147218 L 4.8574929257125445,4.485504244572474 L 1.857492925712544,-0.5144957554275265 L 1.8013211858461777,-0.5982343663766528 L 1.7370020774706663,-0.6758904776692167 L 1.6651895599313644,-0.7466745270586896 L 1.5866137812067564,-0.8098668234335271 L 1.5020736541877904,-0.8648248642184838 L 1.4124287337955137,-0.910989867967712 L 1.3185904775257589,-0.9478924557300311 L 1.2215129782785878,-0.9751574234215468 L 1.1221832636957045,-0.992507556682903 L 1.0216112606365373,-0.9997664494339163 L 0.9208195268283731,-0.9968602974681644 L 0.8208328540931624,-0.9838186488513002 L 0.7226678488593461,-0.9607741034934786 L 0.6273225958980109,-0.9279609649504674 L 0.5357665103765008,-0.8857128581611472 L 0.4489304814079135,-0.8344593373428606 L 0.3676974073111431,-0.7747215185335629 L 0.29289321881345254,-0.7071067811865475 L -3.7071067811865475,3.2928932188134525 L -3.7730104533627378,3.3656067158363556 L -3.8314696123025462,3.444429766980399 L -3.881921264348356,3.528603263174004 L -3.9238795325112874,3.6173165676349117 L -3.956940335732209,3.709715322745539 L -3.9807852804032304,3.804909677983873 L -3.995184726672197,3.901982859670441 L -4.0,4.000000000000001 L -3.9951847266721967,4.098017140329561 L -3.9807852804032304,4.195090322016129 L -3.9569403357322086,4.290284677254463 L -3.9238795325112865,4.3826834323650905 L -3.881921264348355,4.471396736825998 L -3.831469612302545,4.555570233019602 L -3.773010453362737,4.634393284163646 L -3.7071067811865475,4.707106781186548 L -3.6343932841636457,4.773010453362737 L -3.555570233019602,4.831469612302545 L -3.471396736825998,4.881921264348355 L -3.38268343236509,4.923879532511287 L -3.290284677254463,4.956940335732209 L -3.1950903220161293,4.98078528040323 L -3.0980171403295618,4.995184726672196 L -3.0000000000000018,5.0 L -2.9019828596704413,4.995184726672197 L -2.8049096779838742,4.98078528040323 L -2.70971532274554,4.9569403357322095 L -2.617316567634913,4.923879532511288 L -2.528603263174005,4.881921264348357 L -2.444429766980401,4.831469612302548 L -2.365606715836358,4.7730104533627395 L -2.2928932188134556,4.707106781186551 L 0.06437012823509987,2.3498434341379952 z\" /></g></svg>"
          },
          "metadata": {
            "tags": []
          },
          "execution_count": 95
        }
      ]
    },
    {
      "cell_type": "markdown",
      "metadata": {
        "id": "Mfct-f4U-EY2",
        "colab_type": "text"
      },
      "source": [
        "LineRing"
      ]
    },
    {
      "cell_type": "code",
      "metadata": {
        "id": "1kdn5nwM-HnR",
        "colab_type": "code",
        "colab": {
          "base_uri": "https://localhost:8080/",
          "height": 121
        },
        "outputId": "62f6db45-82ed-4719-a783-cc4d23780147"
      },
      "source": [
        "lineaRing = LinearRing([(1,0),(2,3),(4,1),(5,7),(20,10)])\n",
        "lineaRing"
      ],
      "execution_count": 98,
      "outputs": [
        {
          "output_type": "execute_result",
          "data": {
            "text/plain": [
              "<shapely.geometry.polygon.LinearRing at 0x7f938aeec4e0>"
            ],
            "image/svg+xml": "<svg xmlns=\"http://www.w3.org/2000/svg\" xmlns:xlink=\"http://www.w3.org/1999/xlink\" width=\"100.0\" height=\"100.0\" viewBox=\"0.24 -0.76 20.520000000000003 11.52\" preserveAspectRatio=\"xMinYMin meet\"><g transform=\"matrix(1,0,0,-1,0,10.0)\"><polyline fill=\"none\" stroke=\"#ff3333\" stroke-width=\"0.41040000000000004\" points=\"1.0,0.0 2.0,3.0 4.0,1.0 5.0,7.0 20.0,10.0 1.0,0.0\" opacity=\"0.8\" /></g></svg>"
          },
          "metadata": {
            "tags": []
          },
          "execution_count": 98
        }
      ]
    },
    {
      "cell_type": "code",
      "metadata": {
        "id": "7v03VsQE-e9J",
        "colab_type": "code",
        "colab": {
          "base_uri": "https://localhost:8080/",
          "height": 34
        },
        "outputId": "23590d1c-247d-43ad-c70b-c3801445708c"
      },
      "source": [
        "lineaRing.is_closed"
      ],
      "execution_count": 100,
      "outputs": [
        {
          "output_type": "execute_result",
          "data": {
            "text/plain": [
              "True"
            ]
          },
          "metadata": {
            "tags": []
          },
          "execution_count": 100
        }
      ]
    },
    {
      "cell_type": "markdown",
      "metadata": {
        "id": "6Skh3blK-nf8",
        "colab_type": "text"
      },
      "source": [
        "Buffer"
      ]
    },
    {
      "cell_type": "code",
      "metadata": {
        "id": "YgjDbkqd-kyf",
        "colab_type": "code",
        "colab": {
          "base_uri": "https://localhost:8080/",
          "height": 121
        },
        "outputId": "26b846a2-beaa-4283-9353-7219d9c719f0"
      },
      "source": [
        "lineaRing.buffer(1)"
      ],
      "execution_count": 101,
      "outputs": [
        {
          "output_type": "execute_result",
          "data": {
            "text/plain": [
              "<shapely.geometry.polygon.Polygon at 0x7f938aec8940>"
            ],
            "image/svg+xml": "<svg xmlns=\"http://www.w3.org/2000/svg\" xmlns:xlink=\"http://www.w3.org/1999/xlink\" width=\"100.0\" height=\"100.0\" viewBox=\"-0.8399784726567132 -1.8399784726567132 22.67997101558234 13.679977257231641\" preserveAspectRatio=\"xMinYMin meet\"><g transform=\"matrix(1,0,0,-1,0,10.000020311918217)\"><path fill-rule=\"evenodd\" fill=\"#66cc99\" stroke=\"#555555\" stroke-width=\"0.4535994203116468\" opacity=\"0.6\" d=\"M 0.0005984466520104572,0.016802605473445097 L 0.0003706112629047187,0.027222879588707335 L 0.0033183904187852253,0.06577503077456053 L 0.005462534499727001,0.10438021707341572 L 0.007057781634205047,0.11468017863556265 L 0.007852408804999711,0.1250726080561147 L 0.014564765211325176,0.1631501872134528 L 0.02048255461536652,0.20135931611713812 L 0.023079692976692264,0.21145331898685532 L 0.024889130013345362,0.2217178189362993 L 0.03530142000857582,0.2589541181625139 L 0.04493586318876275,0.29639921487245263 L 0.04850988091477691,0.3061900482841639 L 0.05131670194948623,0.31622776601683794 L 1.0513167019494862,3.316227766016838 L 1.0863528121822017,3.4065080764174662 L 1.129957163728054,3.4929761282778995 L 1.1817208322108408,3.5748210187199847 L 1.241158374662283,3.6512752011667664 L 1.307712382036992,3.7216216834429967 L 1.3807587066298732,3.78520075177326 L 1.4596123153729161,3.841416157619628 L 1.5435337141187837,3.8897407093382923 L 1.6317358826638597,3.9297212162162554 L 1.7233916554736646,3.960982738522602 L 1.8176414788937383,3.9832321037170915 L 1.913601472098362,3.9962606558408447 L 2.01037171618104,3.999946212305172 L 2.107044693651118,3.994254209727642 L 2.202713799190408,3.9792380280696777 L 2.2964818418554014,3.955038490035888 L 2.387469458990877,3.921882540429808 L 2.474823362948694,3.880081117851129 L 2.557724343273509,3.8300262386937733 L 2.63539494931042,3.772187320791276 L 2.7071067811865475,3.7071067811865475 L 3.3330644331535537,3.0811491292195416 L 4.013606076167856,7.164398987305358 L 4.03512688484677,7.262716333056211 L 4.06642132333535,7.35837250798168 L 4.107172396318784,7.450398568053738 L 4.156967318016819,7.537862340295586 L 4.21530169347489,7.619877865177185 L 4.281584627805419,7.695614370894191 L 4.355144711625481,7.764304688625823 L 4.435236822061683,7.825253023529761 L 4.521049670431828,7.877842002758207 L 4.6117140201495594,7.921538929102609 L 4.7063114916091475,7.955901176921106 L 4.803883864861816,7.98058067569092 L 19.803883864861817,10.98058067569092 L 19.90119729116224,10.995107041843399 L 19.99946721840999,10.99999985807188 L 20.09774230347276,10.995211757422428 L 20.195071153285856,10.980789093106019 L 20.290511535210683,10.956871489756871 L 20.383139498711895,10.923690491737789 L 20.47205832004699,10.881567321578116 L 20.556407183375573,10.830909770244677 L 20.635369514247113,10.772208249350774 L 20.708180884791464,10.706031043521445 L 20.77413641408257,10.633018808876464 L 20.832597592033107,10.553878370890821 L 20.882998460758426,10.469375881675074 L 20.924851093568563,10.380329402919406 L 20.957750318546662,10.287600986305273 L 20.98137764098516,10.192088328053545 L 20.99550432670701,10.094716078400783 L 20.999993616422575,9.996426890135881 L 20.994802049685106,9.898172292855477 L 20.97997988562779,9.80090348128372 L 20.955670616409183,9.705562106833899 L 20.92210957807735,9.613071161558086 L 20.87962167230084,9.524326042736542 L 20.828618221022158,9.440185884609836 L 20.769592984483708,9.361465241170492 L 20.70311738117522,9.28892620053239 L 20.629834955978065,9.22327100721802 L 20.550455150059882,9.165135263786672 L 20.46574643283262,9.115081777618018 L 5.010592091558483,0.9807900190526819 L 4.986393923832144,0.8356010126946427 L 4.9651601279860325,0.7383400539899434 L 4.934361046892504,0.6436722940186319 L 4.894301916944438,0.5525359440698021 L 4.845379746880185,0.46583421715276885 L 4.788079383201394,0.38442637664296353 L 4.722968705068711,0.30911922049367213 L 4.6506929962966375,0.24065908540991687 L 4.571968550224297,0.1797244502276596 L 4.487575570841466,0.12691921180304344 L 4.398350440523739,0.08276670005143039 L 4.305177431007984,0.04770449145059619 L 4.208979939756998,0.02208007240921739 L 4.110711338566013,0.00614739547912746 L 4.011345525106512,6.436254123964869e-05 L 3.9118672710469724,0.003891259908190503 L 3.8132624624060987,0.017590160852729353 L 3.71650832886223,0.04102530148313377 L 3.622563758851988,0.07396442624051447 L 3.532359796441054,0.11608108968336495 L 3.455017304924,0.16206644713979554 L 1.4657464328326224,-0.8849182223819824 L 1.4562960559635874,-0.889314174910726 L 1.4472135954999572,-0.8944271909999162 L 1.4118240601078145,-0.9100008401463762 L 1.3767665828736824,-0.9263082327334076 L 1.3669308334564307,-0.9297567186334497 L 1.3573909443069017,-0.9339548773508392 L 1.3206453346467837,-0.9459847540632182 L 1.2841582647601055,-0.9587773884320206 L 1.2740318664382944,-0.9612451968990094 L 1.264126422950408,-0.9644880676812038 L 1.2263786193305322,-0.9728583176705626 L 1.1888133472201805,-0.9820129937589989 L 1.1784938227453,-0.9834763584483565 L 1.1683182197547115,-0.9857327106769891 L 1.1299317541589917,-0.9903627238602848 L 1.0916500539306502,-0.9957912771331696 L 1.0812367859646175,-0.9962361050429811 L 1.0708890200906787,-0.9974842088126424 L 1.0322335751669773,-0.9983293956318977 L 0.9936041205207523,-0.9999795461536636 L 0.9831973945265542,-0.9994015533479895 L 0.9727771204112926,-0.9996293887370953 L 0.9342249692254355,-0.9966816095812145 L 0.8956197829265824,-0.9945374655002728 L 0.8853198213644378,-0.9929422183657951 L 0.8749273919438855,-0.9921475911950004 L 0.8368498127865454,-0.9854352347886746 L 0.7986406838828609,-0.9795174453846333 L 0.788546681013144,-0.9769203070233076 L 0.7782821810637011,-0.9751108699866546 L 0.741045881837486,-0.964698579991424 L 0.7036007851275461,-0.9550641368112368 L 0.6938099517158359,-0.9514901190852231 L 0.683772233983162,-0.9486832980505138 L 0.6477358206050511,-0.934671350510969 L 0.6114153728397458,-0.9214130385091835 L 0.6020219999640111,-0.91689656116294 L 0.5923077331570461,-0.913119387351103 L 0.5578182559873798,-0.8956427249817602 L 0.5229722429334633,-0.8788882289506836 L 0.5140667939094363,-0.8734727881300117 L 0.5047695317278911,-0.8687616377896688 L 0.47215914328567965,-0.8479885704028609 L 0.43912315109762967,-0.8278992452982112 L 0.4307913902676268,-0.821636994658596 L 0.4220006704287086,-0.8160372387429006 L 0.39158342658129913,-0.7921678223332743 L 0.36067560992319936,-0.768937139337753 L 0.352997776698617,-0.761888387776148 L 0.34479825863987157,-0.7554539549957068 L 0.3168670940732728,-0.728718065091638 L 0.2883851121154707,-0.7025697483816741 L 0.2814351482273922,-0.6948023792288573 L 0.2739057977900373,-0.6875952366887643 L 0.24872970488775278,-0.6582503545253525 L 0.22294785468633826,-0.6294362266849882 L 0.2167926920862425,-0.6210250439519772 L 0.21000602103095134,-0.6131146003747181 L 0.18782745933028175,-0.5814433332087403 L 0.16499403419648795,-0.5502408900404839 L 0.1596929504649681,-0.5412668980150181 L 0.15371431814397474,-0.5327293352965298 L 0.13474687931813395,-0.4990366947440714 L 0.11508177761801752,-0.4657464328326222 L 0.11068582508927469,-0.4562960559635888 L 0.10557280900008414,-0.4472135954999581 L 0.0899991598536226,-0.4118240601078119 L 0.07369176726659299,-0.3767665828736836 L 0.07024328136655118,-0.36693083345643296 L 0.06604512264916118,-0.35739094430690266 L 0.05401524593678244,-0.3206453346467857 L 0.041222611567979794,-0.28415826476010714 L 0.038754803100990505,-0.27403186643829414 L 0.03551193231879646,-0.2641264229504084 L 0.02714168232943867,-0.22637861933053782 L 0.01798700624100147,-0.18881334722018234 L 0.016523641551643643,-0.1784938227453003 L 0.014267289323011023,-0.1683182197547119 L 0.0096372761397153,-0.12993175415899239 L 0.004208722866830605,-0.09165005393065198 L 0.003763894957019152,-0.08123678596461958 L 0.0025157911873575634,-0.07088902009067902 L 0.0016706043681022139,-0.032233575166975934 L 2.0453846336421222e-05,0.006395879479246346 L 0.0005984466520104572,0.016802605473445097 z M 5.423494217588943,3.458202775235437 L 13.411744402381219,7.662544977757687 L 5.872923901306838,6.154780877542811 L 5.423494217588943,3.458202775235437 z\" /></g></svg>"
          },
          "metadata": {
            "tags": []
          },
          "execution_count": 101
        }
      ]
    },
    {
      "cell_type": "markdown",
      "metadata": {
        "id": "rdN4tSW95U3Q",
        "colab_type": "text"
      },
      "source": [
        "Poligono"
      ]
    },
    {
      "cell_type": "code",
      "metadata": {
        "id": "EYIlFJ5c5WRI",
        "colab_type": "code",
        "colab": {
          "base_uri": "https://localhost:8080/",
          "height": 121
        },
        "outputId": "d9a90d20-3026-47b0-b1f1-aa1fda0449e3"
      },
      "source": [
        "poli = Polygon([(0,0),(1,0),(1,1),(0,1),(0,0)])\n",
        "poli"
      ],
      "execution_count": 104,
      "outputs": [
        {
          "output_type": "execute_result",
          "data": {
            "text/plain": [
              "<shapely.geometry.polygon.Polygon at 0x7f938aeec160>"
            ],
            "image/svg+xml": "<svg xmlns=\"http://www.w3.org/2000/svg\" xmlns:xlink=\"http://www.w3.org/1999/xlink\" width=\"100.0\" height=\"100.0\" viewBox=\"-0.04 -0.04 1.08 1.08\" preserveAspectRatio=\"xMinYMin meet\"><g transform=\"matrix(1,0,0,-1,0,1.0)\"><path fill-rule=\"evenodd\" fill=\"#66cc99\" stroke=\"#555555\" stroke-width=\"0.0216\" opacity=\"0.6\" d=\"M 0.0,0.0 L 1.0,0.0 L 1.0,1.0 L 0.0,1.0 L 0.0,0.0 z\" /></g></svg>"
          },
          "metadata": {
            "tags": []
          },
          "execution_count": 104
        }
      ]
    },
    {
      "cell_type": "markdown",
      "metadata": {
        "id": "F9yI7DQ8-_Zy",
        "colab_type": "text"
      },
      "source": [
        "Area"
      ]
    },
    {
      "cell_type": "code",
      "metadata": {
        "id": "RtvOKkBt_BqT",
        "colab_type": "code",
        "colab": {
          "base_uri": "https://localhost:8080/",
          "height": 34
        },
        "outputId": "bf5d1f65-5dfa-43a7-a440-4300c3dd6302"
      },
      "source": [
        "poli.area"
      ],
      "execution_count": 105,
      "outputs": [
        {
          "output_type": "execute_result",
          "data": {
            "text/plain": [
              "1.0"
            ]
          },
          "metadata": {
            "tags": []
          },
          "execution_count": 105
        }
      ]
    },
    {
      "cell_type": "markdown",
      "metadata": {
        "id": "SNph6BMc_GGy",
        "colab_type": "text"
      },
      "source": [
        "Perimetro"
      ]
    },
    {
      "cell_type": "code",
      "metadata": {
        "id": "6Bbtzodg_IDD",
        "colab_type": "code",
        "colab": {
          "base_uri": "https://localhost:8080/",
          "height": 34
        },
        "outputId": "84f89859-63e4-472a-b9ec-45e405108f26"
      },
      "source": [
        "poli.length"
      ],
      "execution_count": 106,
      "outputs": [
        {
          "output_type": "execute_result",
          "data": {
            "text/plain": [
              "4.0"
            ]
          },
          "metadata": {
            "tags": []
          },
          "execution_count": 106
        }
      ]
    },
    {
      "cell_type": "markdown",
      "metadata": {
        "id": "bUSr9Va2DJmS",
        "colab_type": "text"
      },
      "source": [
        "Centroide"
      ]
    },
    {
      "cell_type": "code",
      "metadata": {
        "id": "Xk91RNkVDL6r",
        "colab_type": "code",
        "colab": {
          "base_uri": "https://localhost:8080/",
          "height": 121
        },
        "outputId": "8293a5ea-73ed-4af5-9f93-b79a86f6737a"
      },
      "source": [
        "poli.centroid"
      ],
      "execution_count": 138,
      "outputs": [
        {
          "output_type": "execute_result",
          "data": {
            "text/plain": [
              "<shapely.geometry.point.Point at 0x7f9384ab8a58>"
            ],
            "image/svg+xml": "<svg xmlns=\"http://www.w3.org/2000/svg\" xmlns:xlink=\"http://www.w3.org/1999/xlink\" width=\"100.0\" height=\"100.0\" viewBox=\"-0.5 -0.5 2.0 2.0\" preserveAspectRatio=\"xMinYMin meet\"><g transform=\"matrix(1,0,0,-1,0,1.0)\"><circle cx=\"0.5\" cy=\"0.5\" r=\"0.06\" stroke=\"#555555\" stroke-width=\"0.02\" fill=\"#66cc99\" opacity=\"0.6\" /></g></svg>"
          },
          "metadata": {
            "tags": []
          },
          "execution_count": 138
        }
      ]
    },
    {
      "cell_type": "markdown",
      "metadata": {
        "id": "A6c7wP39_RHg",
        "colab_type": "text"
      },
      "source": [
        "Contorno"
      ]
    },
    {
      "cell_type": "code",
      "metadata": {
        "id": "oidxqCkk_Poh",
        "colab_type": "code",
        "colab": {
          "base_uri": "https://localhost:8080/",
          "height": 34
        },
        "outputId": "d0ea6004-0e8c-4253-84c7-4167cfa1f8f6"
      },
      "source": [
        "poli.exterior\n",
        "type(poli.exterior)\n",
        "poli.exterior.xy\n",
        "poli.exterior.xy[0][0]"
      ],
      "execution_count": 115,
      "outputs": [
        {
          "output_type": "execute_result",
          "data": {
            "text/plain": [
              "0.0"
            ]
          },
          "metadata": {
            "tags": []
          },
          "execution_count": 115
        }
      ]
    },
    {
      "cell_type": "markdown",
      "metadata": {
        "id": "Z8D_3kwpAAO8",
        "colab_type": "text"
      },
      "source": [
        "Buffer"
      ]
    },
    {
      "cell_type": "code",
      "metadata": {
        "id": "XrOANg6SADlr",
        "colab_type": "code",
        "colab": {
          "base_uri": "https://localhost:8080/",
          "height": 121
        },
        "outputId": "1825ac9c-1dd6-431d-b6a6-72a8a04b857b"
      },
      "source": [
        "poli.buffer(0.5)"
      ],
      "execution_count": 117,
      "outputs": [
        {
          "output_type": "execute_result",
          "data": {
            "text/plain": [
              "<shapely.geometry.polygon.Polygon at 0x7f938aeec048>"
            ],
            "image/svg+xml": "<svg xmlns=\"http://www.w3.org/2000/svg\" xmlns:xlink=\"http://www.w3.org/1999/xlink\" width=\"100.0\" height=\"100.0\" viewBox=\"-0.58 -0.58 2.16 2.16\" preserveAspectRatio=\"xMinYMin meet\"><g transform=\"matrix(1,0,0,-1,0,1.0)\"><path fill-rule=\"evenodd\" fill=\"#66cc99\" stroke=\"#555555\" stroke-width=\"0.0432\" opacity=\"0.6\" d=\"M -0.5,0.0 L -0.5,1.0 L -0.49759236333609846,1.0490085701647802 L -0.4903926402016152,1.097545161008064 L -0.4784701678661044,1.1451423386272312 L -0.46193976625564337,1.191341716182545 L -0.44096063217417747,1.235698368412999 L -0.4157348061512727,1.277785116509801 L -0.3865052266813685,1.3171966420818229 L -0.35355339059327373,1.3535533905932737 L -0.3171966420818227,1.3865052266813684 L -0.277785116509801,1.4157348061512727 L -0.23569836841299885,1.4409606321741775 L -0.19134171618254486,1.4619397662556435 L -0.14514233862723108,1.4784701678661045 L -0.0975451610080641,1.4903926402016152 L -0.04900857016478032,1.4975923633360986 L 0.0,1.5 L 1.0,1.5 L 1.0490085701647802,1.4975923633360986 L 1.097545161008064,1.4903926402016152 L 1.1451423386272312,1.4784701678661045 L 1.1913417161825448,1.4619397662556435 L 1.235698368412999,1.4409606321741775 L 1.277785116509801,1.4157348061512727 L 1.3171966420818229,1.3865052266813684 L 1.3535533905932737,1.3535533905932737 L 1.3865052266813684,1.3171966420818229 L 1.4157348061512727,1.277785116509801 L 1.4409606321741775,1.2356983684129987 L 1.4619397662556435,1.1913417161825448 L 1.4784701678661043,1.1451423386272312 L 1.4903926402016152,1.0975451610080642 L 1.4975923633360986,1.0490085701647802 L 1.5,1.0 L 1.5,0.0 L 1.4975923633360986,-0.049008570164780135 L 1.4903926402016152,-0.09754516100806403 L 1.4784701678661045,-0.14514233862723114 L 1.4619397662556435,-0.1913417161825449 L 1.4409606321741775,-0.23569836841299888 L 1.4157348061512727,-0.2777851165098011 L 1.3865052266813684,-0.31719664208182274 L 1.3535533905932737,-0.35355339059327373 L 1.3171966420818229,-0.3865052266813685 L 1.277785116509801,-0.4157348061512726 L 1.235698368412999,-0.44096063217417747 L 1.1913417161825448,-0.46193976625564337 L 1.1451423386272312,-0.47847016786610447 L 1.0975451610080642,-0.4903926402016152 L 1.0490085701647804,-0.4975923633360984 L 1.0,-0.5 L 0.0,-0.5 L -0.04900857016477988,-0.49759236333609846 L -0.09754516100806356,-0.4903926402016153 L -0.14514233862723047,-0.47847016786610463 L -0.19134171618254403,-0.46193976625564376 L -0.23569836841299785,-0.440960632174178 L -0.2777851165098001,-0.41573480615127334 L -0.31719664208182163,-0.3865052266813694 L -0.3535533905932726,-0.3535533905932749 L -0.38650522668136733,-0.31719664208182413 L -0.41573480615127156,-0.2777851165098027 L -0.4409606321741765,-0.23569836841300068 L -0.4619397662556424,-0.1913417161825472 L -0.47847016786610364,-0.14514233862723375 L -0.49039264020161466,-0.09754516100806691 L -0.49759236333609813,-0.049008570164783286 L -0.5,0.0 z\" /></g></svg>"
          },
          "metadata": {
            "tags": []
          },
          "execution_count": 117
        }
      ]
    },
    {
      "cell_type": "markdown",
      "metadata": {
        "id": "Fbj-YM6EGAut",
        "colab_type": "text"
      },
      "source": [
        "### Manejo de Geodataframe"
      ]
    },
    {
      "cell_type": "markdown",
      "metadata": {
        "id": "BWyVF42n4V0p",
        "colab_type": "text"
      },
      "source": [
        "**Geopandas**\n",
        "\n",
        "GeoPandas es un proyecto de código abierto para facilitar el trabajo con datos geoespaciales en python. GeoPandas extiende los tipos de datos utilizados por los pandas para permitir operaciones espaciales en tipos geométricos. Las operaciones geométricas se realizan por bien proporcionado . Geopandas depende además de fiona para acceder a los archivos y descartes y matplotlib para trazar."
      ]
    },
    {
      "cell_type": "markdown",
      "metadata": {
        "id": "cpMqvWKsAdn0",
        "colab_type": "text"
      },
      "source": [
        "Instalacion"
      ]
    },
    {
      "cell_type": "code",
      "metadata": {
        "id": "UzilC0gdAVDC",
        "colab_type": "code",
        "colab": {
          "base_uri": "https://localhost:8080/",
          "height": 462
        },
        "outputId": "f7023b70-3b97-4d38-f56c-0f14e75dedfb"
      },
      "source": [
        "!pip install geopandas"
      ],
      "execution_count": 119,
      "outputs": [
        {
          "output_type": "stream",
          "text": [
            "Collecting geopandas\n",
            "\u001b[?25l  Downloading https://files.pythonhosted.org/packages/5b/0c/e6c99e561b03482220f00443f610ccf4dce9b50f4b1093d735f93c6fc8c6/geopandas-0.6.2-py2.py3-none-any.whl (919kB)\n",
            "\r\u001b[K     |▍                               | 10kB 11.9MB/s eta 0:00:01\r\u001b[K     |▊                               | 20kB 3.5MB/s eta 0:00:01\r\u001b[K     |█                               | 30kB 4.1MB/s eta 0:00:01\r\u001b[K     |█▍                              | 40kB 3.1MB/s eta 0:00:01\r\u001b[K     |█▉                              | 51kB 3.6MB/s eta 0:00:01\r\u001b[K     |██▏                             | 61kB 4.2MB/s eta 0:00:01\r\u001b[K     |██▌                             | 71kB 4.6MB/s eta 0:00:01\r\u001b[K     |██▉                             | 81kB 4.9MB/s eta 0:00:01\r\u001b[K     |███▏                            | 92kB 5.5MB/s eta 0:00:01\r\u001b[K     |███▋                            | 102kB 4.9MB/s eta 0:00:01\r\u001b[K     |████                            | 112kB 4.9MB/s eta 0:00:01\r\u001b[K     |████▎                           | 122kB 4.9MB/s eta 0:00:01\r\u001b[K     |████▋                           | 133kB 4.9MB/s eta 0:00:01\r\u001b[K     |█████                           | 143kB 4.9MB/s eta 0:00:01\r\u001b[K     |█████▍                          | 153kB 4.9MB/s eta 0:00:01\r\u001b[K     |█████▊                          | 163kB 4.9MB/s eta 0:00:01\r\u001b[K     |██████                          | 174kB 4.9MB/s eta 0:00:01\r\u001b[K     |██████▍                         | 184kB 4.9MB/s eta 0:00:01\r\u001b[K     |██████▊                         | 194kB 4.9MB/s eta 0:00:01\r\u001b[K     |███████▏                        | 204kB 4.9MB/s eta 0:00:01\r\u001b[K     |███████▌                        | 215kB 4.9MB/s eta 0:00:01\r\u001b[K     |███████▉                        | 225kB 4.9MB/s eta 0:00:01\r\u001b[K     |████████▏                       | 235kB 4.9MB/s eta 0:00:01\r\u001b[K     |████████▌                       | 245kB 4.9MB/s eta 0:00:01\r\u001b[K     |█████████                       | 256kB 4.9MB/s eta 0:00:01\r\u001b[K     |█████████▎                      | 266kB 4.9MB/s eta 0:00:01\r\u001b[K     |█████████▋                      | 276kB 4.9MB/s eta 0:00:01\r\u001b[K     |██████████                      | 286kB 4.9MB/s eta 0:00:01\r\u001b[K     |██████████▎                     | 296kB 4.9MB/s eta 0:00:01\r\u001b[K     |██████████▊                     | 307kB 4.9MB/s eta 0:00:01\r\u001b[K     |███████████                     | 317kB 4.9MB/s eta 0:00:01\r\u001b[K     |███████████▍                    | 327kB 4.9MB/s eta 0:00:01\r\u001b[K     |███████████▊                    | 337kB 4.9MB/s eta 0:00:01\r\u001b[K     |████████████                    | 348kB 4.9MB/s eta 0:00:01\r\u001b[K     |████████████▌                   | 358kB 4.9MB/s eta 0:00:01\r\u001b[K     |████████████▉                   | 368kB 4.9MB/s eta 0:00:01\r\u001b[K     |█████████████▏                  | 378kB 4.9MB/s eta 0:00:01\r\u001b[K     |█████████████▌                  | 389kB 4.9MB/s eta 0:00:01\r\u001b[K     |██████████████                  | 399kB 4.9MB/s eta 0:00:01\r\u001b[K     |██████████████▎                 | 409kB 4.9MB/s eta 0:00:01\r\u001b[K     |██████████████▋                 | 419kB 4.9MB/s eta 0:00:01\r\u001b[K     |███████████████                 | 430kB 4.9MB/s eta 0:00:01\r\u001b[K     |███████████████▎                | 440kB 4.9MB/s eta 0:00:01\r\u001b[K     |███████████████▊                | 450kB 4.9MB/s eta 0:00:01\r\u001b[K     |████████████████                | 460kB 4.9MB/s eta 0:00:01\r\u001b[K     |████████████████▍               | 471kB 4.9MB/s eta 0:00:01\r\u001b[K     |████████████████▊               | 481kB 4.9MB/s eta 0:00:01\r\u001b[K     |█████████████████               | 491kB 4.9MB/s eta 0:00:01\r\u001b[K     |█████████████████▌              | 501kB 4.9MB/s eta 0:00:01\r\u001b[K     |█████████████████▉              | 512kB 4.9MB/s eta 0:00:01\r\u001b[K     |██████████████████▏             | 522kB 4.9MB/s eta 0:00:01\r\u001b[K     |██████████████████▌             | 532kB 4.9MB/s eta 0:00:01\r\u001b[K     |██████████████████▉             | 542kB 4.9MB/s eta 0:00:01\r\u001b[K     |███████████████████▎            | 552kB 4.9MB/s eta 0:00:01\r\u001b[K     |███████████████████▋            | 563kB 4.9MB/s eta 0:00:01\r\u001b[K     |████████████████████            | 573kB 4.9MB/s eta 0:00:01\r\u001b[K     |████████████████████▎           | 583kB 4.9MB/s eta 0:00:01\r\u001b[K     |████████████████████▋           | 593kB 4.9MB/s eta 0:00:01\r\u001b[K     |█████████████████████           | 604kB 4.9MB/s eta 0:00:01\r\u001b[K     |█████████████████████▍          | 614kB 4.9MB/s eta 0:00:01\r\u001b[K     |█████████████████████▊          | 624kB 4.9MB/s eta 0:00:01\r\u001b[K     |██████████████████████          | 634kB 4.9MB/s eta 0:00:01\r\u001b[K     |██████████████████████▍         | 645kB 4.9MB/s eta 0:00:01\r\u001b[K     |██████████████████████▉         | 655kB 4.9MB/s eta 0:00:01\r\u001b[K     |███████████████████████▏        | 665kB 4.9MB/s eta 0:00:01\r\u001b[K     |███████████████████████▌        | 675kB 4.9MB/s eta 0:00:01\r\u001b[K     |███████████████████████▉        | 686kB 4.9MB/s eta 0:00:01\r\u001b[K     |████████████████████████▏       | 696kB 4.9MB/s eta 0:00:01\r\u001b[K     |████████████████████████▋       | 706kB 4.9MB/s eta 0:00:01\r\u001b[K     |█████████████████████████       | 716kB 4.9MB/s eta 0:00:01\r\u001b[K     |█████████████████████████▎      | 727kB 4.9MB/s eta 0:00:01\r\u001b[K     |█████████████████████████▋      | 737kB 4.9MB/s eta 0:00:01\r\u001b[K     |██████████████████████████      | 747kB 4.9MB/s eta 0:00:01\r\u001b[K     |██████████████████████████▍     | 757kB 4.9MB/s eta 0:00:01\r\u001b[K     |██████████████████████████▊     | 768kB 4.9MB/s eta 0:00:01\r\u001b[K     |███████████████████████████     | 778kB 4.9MB/s eta 0:00:01\r\u001b[K     |███████████████████████████▍    | 788kB 4.9MB/s eta 0:00:01\r\u001b[K     |███████████████████████████▉    | 798kB 4.9MB/s eta 0:00:01\r\u001b[K     |████████████████████████████▏   | 808kB 4.9MB/s eta 0:00:01\r\u001b[K     |████████████████████████████▌   | 819kB 4.9MB/s eta 0:00:01\r\u001b[K     |████████████████████████████▉   | 829kB 4.9MB/s eta 0:00:01\r\u001b[K     |█████████████████████████████▏  | 839kB 4.9MB/s eta 0:00:01\r\u001b[K     |█████████████████████████████▋  | 849kB 4.9MB/s eta 0:00:01\r\u001b[K     |██████████████████████████████  | 860kB 4.9MB/s eta 0:00:01\r\u001b[K     |██████████████████████████████▎ | 870kB 4.9MB/s eta 0:00:01\r\u001b[K     |██████████████████████████████▋ | 880kB 4.9MB/s eta 0:00:01\r\u001b[K     |███████████████████████████████ | 890kB 4.9MB/s eta 0:00:01\r\u001b[K     |███████████████████████████████▍| 901kB 4.9MB/s eta 0:00:01\r\u001b[K     |███████████████████████████████▊| 911kB 4.9MB/s eta 0:00:01\r\u001b[K     |████████████████████████████████| 921kB 4.9MB/s \n",
            "\u001b[?25hRequirement already satisfied: shapely in /usr/local/lib/python3.6/dist-packages (from geopandas) (1.6.4.post2)\n",
            "Collecting pyproj\n",
            "\u001b[?25l  Downloading https://files.pythonhosted.org/packages/d6/70/eedc98cd52b86de24a1589c762612a98bea26cde649ffdd60c1db396cce8/pyproj-2.4.2.post1-cp36-cp36m-manylinux2010_x86_64.whl (10.1MB)\n",
            "\u001b[K     |████████████████████████████████| 10.1MB 31.8MB/s \n",
            "\u001b[?25hCollecting fiona\n",
            "\u001b[?25l  Downloading https://files.pythonhosted.org/packages/50/f7/9899f8a9a2e38601472fe1079ce5088f58833221c8b8507d8b5eafd5404a/Fiona-1.8.13-cp36-cp36m-manylinux1_x86_64.whl (11.8MB)\n",
            "\u001b[K     |████████████████████████████████| 11.8MB 31.5MB/s \n",
            "\u001b[?25hRequirement already satisfied: pandas>=0.23.0 in /usr/local/lib/python3.6/dist-packages (from geopandas) (0.25.3)\n",
            "Requirement already satisfied: attrs>=17 in /usr/local/lib/python3.6/dist-packages (from fiona->geopandas) (19.3.0)\n",
            "Requirement already satisfied: click<8,>=4.0 in /usr/local/lib/python3.6/dist-packages (from fiona->geopandas) (7.0)\n",
            "Collecting click-plugins>=1.0\n",
            "  Downloading https://files.pythonhosted.org/packages/e9/da/824b92d9942f4e472702488857914bdd50f73021efea15b4cad9aca8ecef/click_plugins-1.1.1-py2.py3-none-any.whl\n",
            "Requirement already satisfied: six>=1.7 in /usr/local/lib/python3.6/dist-packages (from fiona->geopandas) (1.12.0)\n",
            "Collecting munch\n",
            "  Downloading https://files.pythonhosted.org/packages/cc/ab/85d8da5c9a45e072301beb37ad7f833cd344e04c817d97e0cc75681d248f/munch-2.5.0-py2.py3-none-any.whl\n",
            "Collecting cligj>=0.5\n",
            "  Downloading https://files.pythonhosted.org/packages/e4/be/30a58b4b0733850280d01f8bd132591b4668ed5c7046761098d665ac2174/cligj-0.5.0-py3-none-any.whl\n",
            "Requirement already satisfied: pytz>=2017.2 in /usr/local/lib/python3.6/dist-packages (from pandas>=0.23.0->geopandas) (2018.9)\n",
            "Requirement already satisfied: numpy>=1.13.3 in /usr/local/lib/python3.6/dist-packages (from pandas>=0.23.0->geopandas) (1.17.5)\n",
            "Requirement already satisfied: python-dateutil>=2.6.1 in /usr/local/lib/python3.6/dist-packages (from pandas>=0.23.0->geopandas) (2.6.1)\n",
            "Installing collected packages: pyproj, click-plugins, munch, cligj, fiona, geopandas\n",
            "Successfully installed click-plugins-1.1.1 cligj-0.5.0 fiona-1.8.13 geopandas-0.6.2 munch-2.5.0 pyproj-2.4.2.post1\n"
          ],
          "name": "stdout"
        }
      ]
    },
    {
      "cell_type": "markdown",
      "metadata": {
        "id": "82T48vg6BJI_",
        "colab_type": "text"
      },
      "source": [
        "Importación"
      ]
    },
    {
      "cell_type": "code",
      "metadata": {
        "id": "X08OLB-t4a2C",
        "colab_type": "code",
        "colab": {}
      },
      "source": [
        "import geopandas as gpd"
      ],
      "execution_count": 0,
      "outputs": []
    },
    {
      "cell_type": "markdown",
      "metadata": {
        "id": "5bU_y1R5BNde",
        "colab_type": "text"
      },
      "source": [
        "Apertura"
      ]
    },
    {
      "cell_type": "code",
      "metadata": {
        "id": "DZqEczDvASjM",
        "colab_type": "code",
        "colab": {}
      },
      "source": [
        "df = gpd.read_file('/content/drive/My Drive/Curso-RV-python/muni_2018gw/muni_2018gw.shp')"
      ],
      "execution_count": 0,
      "outputs": []
    },
    {
      "cell_type": "markdown",
      "metadata": {
        "id": "nTcpShHxBbDd",
        "colab_type": "text"
      },
      "source": [
        "Inspección"
      ]
    },
    {
      "cell_type": "code",
      "metadata": {
        "id": "UcELZJ_KBX3z",
        "colab_type": "code",
        "colab": {
          "base_uri": "https://localhost:8080/",
          "height": 1000
        },
        "outputId": "9c20514a-09a1-4c4e-bc89-2faff3913c71"
      },
      "source": [
        "df"
      ],
      "execution_count": 125,
      "outputs": [
        {
          "output_type": "execute_result",
          "data": {
            "text/html": [
              "<div>\n",
              "<style scoped>\n",
              "    .dataframe tbody tr th:only-of-type {\n",
              "        vertical-align: middle;\n",
              "    }\n",
              "\n",
              "    .dataframe tbody tr th {\n",
              "        vertical-align: top;\n",
              "    }\n",
              "\n",
              "    .dataframe thead th {\n",
              "        text-align: right;\n",
              "    }\n",
              "</style>\n",
              "<table border=\"1\" class=\"dataframe\">\n",
              "  <thead>\n",
              "    <tr style=\"text-align: right;\">\n",
              "      <th></th>\n",
              "      <th>CVE_ENT</th>\n",
              "      <th>CVE_MUN</th>\n",
              "      <th>CVEGEO</th>\n",
              "      <th>NOM_ENT</th>\n",
              "      <th>AREA</th>\n",
              "      <th>PERIMETER</th>\n",
              "      <th>NOM_MUN</th>\n",
              "      <th>COV_</th>\n",
              "      <th>COV_ID</th>\n",
              "      <th>geometry</th>\n",
              "    </tr>\n",
              "  </thead>\n",
              "  <tbody>\n",
              "    <tr>\n",
              "      <th>0</th>\n",
              "      <td>01</td>\n",
              "      <td>001</td>\n",
              "      <td>01001</td>\n",
              "      <td>Aguascalientes</td>\n",
              "      <td>116635.92455</td>\n",
              "      <td>1166.35925</td>\n",
              "      <td>Aguascalientes</td>\n",
              "      <td>0</td>\n",
              "      <td>1</td>\n",
              "      <td>POLYGON ((-102.09775 22.02325, -102.09857 22.0...</td>\n",
              "    </tr>\n",
              "    <tr>\n",
              "      <th>1</th>\n",
              "      <td>01</td>\n",
              "      <td>002</td>\n",
              "      <td>01002</td>\n",
              "      <td>Aguascalientes</td>\n",
              "      <td>54337.42654</td>\n",
              "      <td>543.37427</td>\n",
              "      <td>Asientos</td>\n",
              "      <td>1</td>\n",
              "      <td>2</td>\n",
              "      <td>POLYGON ((-101.99941 22.21951, -101.99940 22.2...</td>\n",
              "    </tr>\n",
              "    <tr>\n",
              "      <th>2</th>\n",
              "      <td>01</td>\n",
              "      <td>003</td>\n",
              "      <td>01003</td>\n",
              "      <td>Aguascalientes</td>\n",
              "      <td>92335.78320</td>\n",
              "      <td>923.35783</td>\n",
              "      <td>Calvillo</td>\n",
              "      <td>2</td>\n",
              "      <td>3</td>\n",
              "      <td>POLYGON ((-102.57625 21.96778, -102.57626 21.9...</td>\n",
              "    </tr>\n",
              "    <tr>\n",
              "      <th>3</th>\n",
              "      <td>01</td>\n",
              "      <td>004</td>\n",
              "      <td>01004</td>\n",
              "      <td>Aguascalientes</td>\n",
              "      <td>12838.35453</td>\n",
              "      <td>128.38355</td>\n",
              "      <td>CosÃ­o</td>\n",
              "      <td>3</td>\n",
              "      <td>4</td>\n",
              "      <td>POLYGON ((-102.25320 22.37449, -102.25239 22.3...</td>\n",
              "    </tr>\n",
              "    <tr>\n",
              "      <th>4</th>\n",
              "      <td>01</td>\n",
              "      <td>005</td>\n",
              "      <td>01005</td>\n",
              "      <td>Aguascalientes</td>\n",
              "      <td>49989.50926</td>\n",
              "      <td>499.89509</td>\n",
              "      <td>JesÃºs MarÃ­a</td>\n",
              "      <td>4</td>\n",
              "      <td>5</td>\n",
              "      <td>POLYGON ((-102.31034 22.03716, -102.30653 22.0...</td>\n",
              "    </tr>\n",
              "    <tr>\n",
              "      <th>...</th>\n",
              "      <td>...</td>\n",
              "      <td>...</td>\n",
              "      <td>...</td>\n",
              "      <td>...</td>\n",
              "      <td>...</td>\n",
              "      <td>...</td>\n",
              "      <td>...</td>\n",
              "      <td>...</td>\n",
              "      <td>...</td>\n",
              "      <td>...</td>\n",
              "    </tr>\n",
              "    <tr>\n",
              "      <th>2458</th>\n",
              "      <td>32</td>\n",
              "      <td>054</td>\n",
              "      <td>32054</td>\n",
              "      <td>Zacatecas</td>\n",
              "      <td>37142.59872</td>\n",
              "      <td>371.42599</td>\n",
              "      <td>Villa Hidalgo</td>\n",
              "      <td>2458</td>\n",
              "      <td>2459</td>\n",
              "      <td>POLYGON ((-101.65599 22.51381, -101.65586 22.5...</td>\n",
              "    </tr>\n",
              "    <tr>\n",
              "      <th>2459</th>\n",
              "      <td>32</td>\n",
              "      <td>055</td>\n",
              "      <td>32055</td>\n",
              "      <td>Zacatecas</td>\n",
              "      <td>215650.56021</td>\n",
              "      <td>2156.50560</td>\n",
              "      <td>Villanueva</td>\n",
              "      <td>2459</td>\n",
              "      <td>2460</td>\n",
              "      <td>POLYGON ((-102.69428 22.62230, -102.69476 22.6...</td>\n",
              "    </tr>\n",
              "    <tr>\n",
              "      <th>2460</th>\n",
              "      <td>32</td>\n",
              "      <td>056</td>\n",
              "      <td>32056</td>\n",
              "      <td>Zacatecas</td>\n",
              "      <td>43678.57090</td>\n",
              "      <td>436.78571</td>\n",
              "      <td>Zacatecas</td>\n",
              "      <td>2460</td>\n",
              "      <td>2461</td>\n",
              "      <td>POLYGON ((-102.58542 22.81149, -102.58541 22.8...</td>\n",
              "    </tr>\n",
              "    <tr>\n",
              "      <th>2461</th>\n",
              "      <td>32</td>\n",
              "      <td>057</td>\n",
              "      <td>32057</td>\n",
              "      <td>Zacatecas</td>\n",
              "      <td>21844.70068</td>\n",
              "      <td>218.44701</td>\n",
              "      <td>Trancoso</td>\n",
              "      <td>2461</td>\n",
              "      <td>2462</td>\n",
              "      <td>POLYGON ((-102.24610 22.73451, -102.24615 22.7...</td>\n",
              "    </tr>\n",
              "    <tr>\n",
              "      <th>2462</th>\n",
              "      <td>32</td>\n",
              "      <td>058</td>\n",
              "      <td>32058</td>\n",
              "      <td>Zacatecas</td>\n",
              "      <td>27566.66479</td>\n",
              "      <td>275.66665</td>\n",
              "      <td>Santa MarÃ­a de la Paz</td>\n",
              "      <td>2462</td>\n",
              "      <td>2463</td>\n",
              "      <td>POLYGON ((-103.19774 21.58534, -103.19599 21.5...</td>\n",
              "    </tr>\n",
              "  </tbody>\n",
              "</table>\n",
              "<p>2463 rows × 10 columns</p>\n",
              "</div>"
            ],
            "text/plain": [
              "     CVE_ENT CVE_MUN  ... COV_ID                                           geometry\n",
              "0         01     001  ...      1  POLYGON ((-102.09775 22.02325, -102.09857 22.0...\n",
              "1         01     002  ...      2  POLYGON ((-101.99941 22.21951, -101.99940 22.2...\n",
              "2         01     003  ...      3  POLYGON ((-102.57625 21.96778, -102.57626 21.9...\n",
              "3         01     004  ...      4  POLYGON ((-102.25320 22.37449, -102.25239 22.3...\n",
              "4         01     005  ...      5  POLYGON ((-102.31034 22.03716, -102.30653 22.0...\n",
              "...      ...     ...  ...    ...                                                ...\n",
              "2458      32     054  ...   2459  POLYGON ((-101.65599 22.51381, -101.65586 22.5...\n",
              "2459      32     055  ...   2460  POLYGON ((-102.69428 22.62230, -102.69476 22.6...\n",
              "2460      32     056  ...   2461  POLYGON ((-102.58542 22.81149, -102.58541 22.8...\n",
              "2461      32     057  ...   2462  POLYGON ((-102.24610 22.73451, -102.24615 22.7...\n",
              "2462      32     058  ...   2463  POLYGON ((-103.19774 21.58534, -103.19599 21.5...\n",
              "\n",
              "[2463 rows x 10 columns]"
            ]
          },
          "metadata": {
            "tags": []
          },
          "execution_count": 125
        }
      ]
    },
    {
      "cell_type": "code",
      "metadata": {
        "id": "sIs8RdrDBxvh",
        "colab_type": "code",
        "colab": {
          "base_uri": "https://localhost:8080/",
          "height": 275
        },
        "outputId": "7901b40a-7254-47a8-9090-7a0227b17d5c"
      },
      "source": [
        "df.head"
      ],
      "execution_count": 126,
      "outputs": [
        {
          "output_type": "execute_result",
          "data": {
            "text/plain": [
              "<bound method NDFrame.head of      CVE_ENT CVE_MUN  ... COV_ID                                           geometry\n",
              "0         01     001  ...      1  POLYGON ((-102.09775 22.02325, -102.09857 22.0...\n",
              "1         01     002  ...      2  POLYGON ((-101.99941 22.21951, -101.99940 22.2...\n",
              "2         01     003  ...      3  POLYGON ((-102.57625 21.96778, -102.57626 21.9...\n",
              "3         01     004  ...      4  POLYGON ((-102.25320 22.37449, -102.25239 22.3...\n",
              "4         01     005  ...      5  POLYGON ((-102.31034 22.03716, -102.30653 22.0...\n",
              "...      ...     ...  ...    ...                                                ...\n",
              "2458      32     054  ...   2459  POLYGON ((-101.65599 22.51381, -101.65586 22.5...\n",
              "2459      32     055  ...   2460  POLYGON ((-102.69428 22.62230, -102.69476 22.6...\n",
              "2460      32     056  ...   2461  POLYGON ((-102.58542 22.81149, -102.58541 22.8...\n",
              "2461      32     057  ...   2462  POLYGON ((-102.24610 22.73451, -102.24615 22.7...\n",
              "2462      32     058  ...   2463  POLYGON ((-103.19774 21.58534, -103.19599 21.5...\n",
              "\n",
              "[2463 rows x 10 columns]>"
            ]
          },
          "metadata": {
            "tags": []
          },
          "execution_count": 126
        }
      ]
    },
    {
      "cell_type": "code",
      "metadata": {
        "id": "m2WHsRUzBeO8",
        "colab_type": "code",
        "colab": {
          "base_uri": "https://localhost:8080/",
          "height": 68
        },
        "outputId": "dd65d191-3a26-4f64-8807-4ac5dd13581e"
      },
      "source": [
        "df.columns"
      ],
      "execution_count": 127,
      "outputs": [
        {
          "output_type": "execute_result",
          "data": {
            "text/plain": [
              "Index(['CVE_ENT', 'CVE_MUN', 'CVEGEO', 'NOM_ENT', 'AREA', 'PERIMETER',\n",
              "       'NOM_MUN', 'COV_', 'COV_ID', 'geometry'],\n",
              "      dtype='object')"
            ]
          },
          "metadata": {
            "tags": []
          },
          "execution_count": 127
        }
      ]
    },
    {
      "cell_type": "markdown",
      "metadata": {
        "id": "sBpAUxwGCYkq",
        "colab_type": "text"
      },
      "source": [
        "Acceso a columas"
      ]
    },
    {
      "cell_type": "code",
      "metadata": {
        "id": "5WDESECQChiJ",
        "colab_type": "code",
        "colab": {
          "base_uri": "https://localhost:8080/",
          "height": 34
        },
        "outputId": "bb9df5a8-7f22-4ea0-d936-98446db64d08"
      },
      "source": [
        "df['AREA']\n",
        "type(df['AREA'])"
      ],
      "execution_count": 133,
      "outputs": [
        {
          "output_type": "execute_result",
          "data": {
            "text/plain": [
              "pandas.core.series.Series"
            ]
          },
          "metadata": {
            "tags": []
          },
          "execution_count": 133
        }
      ]
    },
    {
      "cell_type": "code",
      "metadata": {
        "id": "vUzNgbTmCAIu",
        "colab_type": "code",
        "colab": {
          "base_uri": "https://localhost:8080/",
          "height": 221
        },
        "outputId": "05162cd4-c25c-4391-91ad-8b64fc47d062"
      },
      "source": [
        "df.AREA"
      ],
      "execution_count": 131,
      "outputs": [
        {
          "output_type": "execute_result",
          "data": {
            "text/plain": [
              "0       116635.92455\n",
              "1        54337.42654\n",
              "2        92335.78320\n",
              "3        12838.35453\n",
              "4        49989.50926\n",
              "            ...     \n",
              "2458     37142.59872\n",
              "2459    215650.56021\n",
              "2460     43678.57090\n",
              "2461     21844.70068\n",
              "2462     27566.66479\n",
              "Name: AREA, Length: 2463, dtype: float64"
            ]
          },
          "metadata": {
            "tags": []
          },
          "execution_count": 131
        }
      ]
    },
    {
      "cell_type": "markdown",
      "metadata": {
        "id": "H6Ntt7a9C3No",
        "colab_type": "text"
      },
      "source": [
        "Calculos geometricos"
      ]
    },
    {
      "cell_type": "markdown",
      "metadata": {
        "id": "mrGJ4MZ9DiXw",
        "colab_type": "text"
      },
      "source": [
        "Extremos"
      ]
    },
    {
      "cell_type": "code",
      "metadata": {
        "id": "Yc2RUMBiCMen",
        "colab_type": "code",
        "colab": {
          "base_uri": "https://localhost:8080/",
          "height": 419
        },
        "outputId": "18e4ee1c-4080-4753-ab11-28ae8077e84e"
      },
      "source": [
        "df.bounds"
      ],
      "execution_count": 134,
      "outputs": [
        {
          "output_type": "execute_result",
          "data": {
            "text/html": [
              "<div>\n",
              "<style scoped>\n",
              "    .dataframe tbody tr th:only-of-type {\n",
              "        vertical-align: middle;\n",
              "    }\n",
              "\n",
              "    .dataframe tbody tr th {\n",
              "        vertical-align: top;\n",
              "    }\n",
              "\n",
              "    .dataframe thead th {\n",
              "        text-align: right;\n",
              "    }\n",
              "</style>\n",
              "<table border=\"1\" class=\"dataframe\">\n",
              "  <thead>\n",
              "    <tr style=\"text-align: right;\">\n",
              "      <th></th>\n",
              "      <th>minx</th>\n",
              "      <th>miny</th>\n",
              "      <th>maxx</th>\n",
              "      <th>maxy</th>\n",
              "    </tr>\n",
              "  </thead>\n",
              "  <tbody>\n",
              "    <tr>\n",
              "      <th>0</th>\n",
              "      <td>-102.583143</td>\n",
              "      <td>21.622266</td>\n",
              "      <td>-102.064508</td>\n",
              "      <td>22.075343</td>\n",
              "    </tr>\n",
              "    <tr>\n",
              "      <th>1</th>\n",
              "      <td>-102.219330</td>\n",
              "      <td>21.958388</td>\n",
              "      <td>-101.854160</td>\n",
              "      <td>22.306073</td>\n",
              "    </tr>\n",
              "    <tr>\n",
              "      <th>2</th>\n",
              "      <td>-102.874177</td>\n",
              "      <td>21.715609</td>\n",
              "      <td>-102.529619</td>\n",
              "      <td>22.106530</td>\n",
              "    </tr>\n",
              "    <tr>\n",
              "      <th>3</th>\n",
              "      <td>-102.378443</td>\n",
              "      <td>22.281557</td>\n",
              "      <td>-102.238848</td>\n",
              "      <td>22.459590</td>\n",
              "    </tr>\n",
              "    <tr>\n",
              "      <th>4</th>\n",
              "      <td>-102.598873</td>\n",
              "      <td>21.806360</td>\n",
              "      <td>-102.264751</td>\n",
              "      <td>22.062767</td>\n",
              "    </tr>\n",
              "    <tr>\n",
              "      <th>...</th>\n",
              "      <td>...</td>\n",
              "      <td>...</td>\n",
              "      <td>...</td>\n",
              "      <td>...</td>\n",
              "    </tr>\n",
              "    <tr>\n",
              "      <th>2458</th>\n",
              "      <td>-101.846959</td>\n",
              "      <td>22.292948</td>\n",
              "      <td>-101.586541</td>\n",
              "      <td>22.520422</td>\n",
              "    </tr>\n",
              "    <tr>\n",
              "      <th>2459</th>\n",
              "      <td>-103.154843</td>\n",
              "      <td>21.994811</td>\n",
              "      <td>-102.601107</td>\n",
              "      <td>22.675870</td>\n",
              "    </tr>\n",
              "    <tr>\n",
              "      <th>2460</th>\n",
              "      <td>-102.849731</td>\n",
              "      <td>22.617180</td>\n",
              "      <td>-102.539319</td>\n",
              "      <td>22.841472</td>\n",
              "    </tr>\n",
              "    <tr>\n",
              "      <th>2461</th>\n",
              "      <td>-102.402920</td>\n",
              "      <td>22.676173</td>\n",
              "      <td>-102.217318</td>\n",
              "      <td>22.834525</td>\n",
              "    </tr>\n",
              "    <tr>\n",
              "      <th>2462</th>\n",
              "      <td>-103.511733</td>\n",
              "      <td>21.429781</td>\n",
              "      <td>-103.169782</td>\n",
              "      <td>21.592381</td>\n",
              "    </tr>\n",
              "  </tbody>\n",
              "</table>\n",
              "<p>2463 rows × 4 columns</p>\n",
              "</div>"
            ],
            "text/plain": [
              "            minx       miny        maxx       maxy\n",
              "0    -102.583143  21.622266 -102.064508  22.075343\n",
              "1    -102.219330  21.958388 -101.854160  22.306073\n",
              "2    -102.874177  21.715609 -102.529619  22.106530\n",
              "3    -102.378443  22.281557 -102.238848  22.459590\n",
              "4    -102.598873  21.806360 -102.264751  22.062767\n",
              "...          ...        ...         ...        ...\n",
              "2458 -101.846959  22.292948 -101.586541  22.520422\n",
              "2459 -103.154843  21.994811 -102.601107  22.675870\n",
              "2460 -102.849731  22.617180 -102.539319  22.841472\n",
              "2461 -102.402920  22.676173 -102.217318  22.834525\n",
              "2462 -103.511733  21.429781 -103.169782  21.592381\n",
              "\n",
              "[2463 rows x 4 columns]"
            ]
          },
          "metadata": {
            "tags": []
          },
          "execution_count": 134
        }
      ]
    },
    {
      "cell_type": "markdown",
      "metadata": {
        "id": "lQfw3bfZDkel",
        "colab_type": "text"
      },
      "source": [
        "area"
      ]
    },
    {
      "cell_type": "code",
      "metadata": {
        "id": "ZM3MSBaHCu04",
        "colab_type": "code",
        "colab": {
          "base_uri": "https://localhost:8080/",
          "height": 221
        },
        "outputId": "6860a400-a5bf-4698-9dfa-bbb2d067b72c"
      },
      "source": [
        "df.area"
      ],
      "execution_count": 136,
      "outputs": [
        {
          "output_type": "execute_result",
          "data": {
            "text/plain": [
              "0       0.102900\n",
              "1       0.048057\n",
              "2       0.081518\n",
              "3       0.011375\n",
              "4       0.044144\n",
              "          ...   \n",
              "2458    0.032921\n",
              "2459    0.190977\n",
              "2460    0.038812\n",
              "2461    0.019414\n",
              "2462    0.024265\n",
              "Length: 2463, dtype: float64"
            ]
          },
          "metadata": {
            "tags": []
          },
          "execution_count": 136
        }
      ]
    },
    {
      "cell_type": "markdown",
      "metadata": {
        "id": "LjZ6jdC7Dl4c",
        "colab_type": "text"
      },
      "source": [
        "perimetro"
      ]
    },
    {
      "cell_type": "code",
      "metadata": {
        "id": "joKc8GacC7zj",
        "colab_type": "code",
        "colab": {
          "base_uri": "https://localhost:8080/",
          "height": 221
        },
        "outputId": "7f7387d8-51ca-4660-94a9-c1e64d8e0209"
      },
      "source": [
        "df.length"
      ],
      "execution_count": 137,
      "outputs": [
        {
          "output_type": "execute_result",
          "data": {
            "text/plain": [
              "0       2.420713\n",
              "1       1.804404\n",
              "2       1.610751\n",
              "3       0.690669\n",
              "4       1.541208\n",
              "          ...   \n",
              "2458    1.126578\n",
              "2459    3.312681\n",
              "2460    1.316645\n",
              "2461    0.625554\n",
              "2462    1.019240\n",
              "Length: 2463, dtype: float64"
            ]
          },
          "metadata": {
            "tags": []
          },
          "execution_count": 137
        }
      ]
    },
    {
      "cell_type": "markdown",
      "metadata": {
        "id": "sgw-Gd84DnWs",
        "colab_type": "text"
      },
      "source": [
        "distancia"
      ]
    },
    {
      "cell_type": "code",
      "metadata": {
        "id": "qreAG_VxC_gP",
        "colab_type": "code",
        "colab": {
          "base_uri": "https://localhost:8080/",
          "height": 221
        },
        "outputId": "44dc319b-d4c3-47e1-d1c5-3b5b620d0c66"
      },
      "source": [
        "df.distance(Point(-103,34))"
      ],
      "execution_count": 139,
      "outputs": [
        {
          "output_type": "execute_result",
          "data": {
            "text/plain": [
              "0       11.955565\n",
              "1       11.730405\n",
              "2       11.897589\n",
              "3       11.561723\n",
              "4       11.954658\n",
              "          ...    \n",
              "2458    11.553401\n",
              "2459    11.326155\n",
              "2460    11.160938\n",
              "2461    11.192874\n",
              "2462    12.414690\n",
              "Length: 2463, dtype: float64"
            ]
          },
          "metadata": {
            "tags": []
          },
          "execution_count": 139
        }
      ]
    },
    {
      "cell_type": "markdown",
      "metadata": {
        "id": "WA2aWG6rD9fu",
        "colab_type": "text"
      },
      "source": [
        "buffer"
      ]
    },
    {
      "cell_type": "code",
      "metadata": {
        "id": "2AWIBZrKDbJ9",
        "colab_type": "code",
        "colab": {
          "base_uri": "https://localhost:8080/",
          "height": 221
        },
        "outputId": "7e6a3293-a9f1-4ebb-8027-7f9a17cc38cb"
      },
      "source": [
        "df.buffer(0.5)"
      ],
      "execution_count": 140,
      "outputs": [
        {
          "output_type": "execute_result",
          "data": {
            "text/plain": [
              "0       POLYGON ((-102.18599 21.14268, -102.19878 21.1...\n",
              "1       POLYGON ((-102.71782 22.14371, -102.71780 22.1...\n",
              "2       POLYGON ((-102.39754 21.27959, -102.39762 21.2...\n",
              "3       POLYGON ((-102.80705 22.61727, -102.80082 22.6...\n",
              "4       POLYGON ((-103.09472 21.92536, -103.09510 21.9...\n",
              "                              ...                        \n",
              "2458    POLYGON ((-102.28267 22.59913, -102.28223 22.6...\n",
              "2459    POLYGON ((-103.64800 22.15303, -103.64634 22.1...\n",
              "2460    POLYGON ((-103.33280 22.93967, -103.33152 22.9...\n",
              "2461    POLYGON ((-102.89881 22.82754, -102.89755 22.8...\n",
              "2462    POLYGON ((-103.97532 21.39639, -103.98075 21.4...\n",
              "Length: 2463, dtype: geometry"
            ]
          },
          "metadata": {
            "tags": []
          },
          "execution_count": 140
        }
      ]
    },
    {
      "cell_type": "markdown",
      "metadata": {
        "id": "yL3j2gzWEdpN",
        "colab_type": "text"
      },
      "source": [
        "Localizacion por pocision"
      ]
    },
    {
      "cell_type": "code",
      "metadata": {
        "id": "Ld6UFeL4Dtzx",
        "colab_type": "code",
        "colab": {
          "base_uri": "https://localhost:8080/",
          "height": 204
        },
        "outputId": "59ee190d-d57c-4b99-c06e-1d2a7e4c1524"
      },
      "source": [
        "df.iloc[2]"
      ],
      "execution_count": 147,
      "outputs": [
        {
          "output_type": "execute_result",
          "data": {
            "text/plain": [
              "CVE_ENT                                                     01\n",
              "CVE_MUN                                                    003\n",
              "CVEGEO                                                   01003\n",
              "NOM_ENT                                         Aguascalientes\n",
              "AREA                                                   92335.8\n",
              "PERIMETER                                              923.358\n",
              "NOM_MUN                                               Calvillo\n",
              "COV_                                                         2\n",
              "COV_ID                                                       3\n",
              "geometry     POLYGON ((-102.5762505699791 21.96778072040316...\n",
              "Name: 2, dtype: object"
            ]
          },
          "metadata": {
            "tags": []
          },
          "execution_count": 147
        }
      ]
    },
    {
      "cell_type": "markdown",
      "metadata": {
        "id": "19usW0E_En2Q",
        "colab_type": "text"
      },
      "source": [
        "Graficacion"
      ]
    },
    {
      "cell_type": "code",
      "metadata": {
        "id": "EI0y4ozyEpjX",
        "colab_type": "code",
        "colab": {
          "base_uri": "https://localhost:8080/",
          "height": 257
        },
        "outputId": "7d518a49-16e7-4425-8275-10f1924f1743"
      },
      "source": [
        "df.plot()"
      ],
      "execution_count": 148,
      "outputs": [
        {
          "output_type": "execute_result",
          "data": {
            "text/plain": [
              "<matplotlib.axes._subplots.AxesSubplot at 0x7f938b1d4438>"
            ]
          },
          "metadata": {
            "tags": []
          },
          "execution_count": 148
        },
        {
          "output_type": "display_data",
          "data": {
            "image/png": "[encoded data removed]",
            "text/plain": [
              "<Figure size 432x288 with 1 Axes>"
            ]
          },
          "metadata": {
            "tags": []
          }
        }
      ]
    },
    {
      "cell_type": "code",
      "metadata": {
        "id": "_a9EgUDTEtdM",
        "colab_type": "code",
        "colab": {
          "base_uri": "https://localhost:8080/",
          "height": 121
        },
        "outputId": "19d63093-8582-4279-9176-f157be421566"
      },
      "source": [
        "df.iloc[0][9]\n",
        "df['geometry'][0]\n",
        "df['geometry'][45]\n"
      ],
      "execution_count": 159,
      "outputs": [
        {
          "output_type": "execute_result",
          "data": {
            "text/plain": [
              "<shapely.geometry.polygon.Polygon at 0x7f938b1d6550>"
            ],
            "image/svg+xml": "<svg xmlns=\"http://www.w3.org/2000/svg\" xmlns:xlink=\"http://www.w3.org/1999/xlink\" width=\"100.0\" height=\"100.0\" viewBox=\"-101.37593361553328 28.70132892440798 0.7583542913908161 0.608259922357778\" preserveAspectRatio=\"xMinYMin meet\"><g transform=\"matrix(1,0,0,-1,0,58.01091777117374)\"><path fill-rule=\"evenodd\" fill=\"#66cc99\" stroke=\"#555555\" stroke-width=\"0.015167085827816323\" opacity=\"0.6\" d=\"M -100.64791811985785,28.9407502003318 L -100.66706935032954,28.932919690298878 L -100.6705344600837,28.931207220800744 L -100.70110719974474,28.93813348020088 L -100.70480977036836,28.933856690424015 L -100.70216277988654,28.929017090435448 L -100.68537222962428,28.924774230233552 L -100.68678762020164,28.91531015041552 L -100.7243355804544,28.911233950121314 L -100.72742785002245,28.907761050041717 L -100.74462158034754,28.888622920242046 L -100.75670762024878,28.87516477041584 L -100.7655993100264,28.86539449064793 L -100.74657458030103,28.84619603074648 L -100.75860194030827,28.84877588020362 L -100.76684121969049,28.85017845000245 L -100.77285754976391,28.84806106061913 L -100.77699281998278,28.841681230032496 L -100.78155154980024,28.834106170337133 L -100.78725922003767,28.83158265038993 L -100.79686963044435,28.829496570689038 L -100.80972362031542,28.828101650408666 L -100.81786657996288,28.827012950481127 L -100.828348890371,28.82181214040725 L -100.83767745002845,28.814341460715656 L -100.84329502975757,28.8071978305705 L -100.84845406046466,28.80212377076847 L -100.84921985972795,28.795955110376692 L -100.84903685039208,28.795685480067586 L -100.84597666021634,28.79117680023378 L -100.84189292039092,28.78276506056699 L -100.84269512000833,28.77864866076864 L -100.84905023009973,28.775354400372972 L -100.8590726898004,28.77342066029968 L -100.86688171039643,28.769977280144765 L -100.86861273964064,28.76706832029 L -100.87070137049272,28.763509680520492 L -100.87205208997885,28.761627880306598 L -100.87687513981001,28.75490788009706 L -100.89034471994287,28.744103480643982 L -100.9022560000652,28.736150850237415 L -100.91243748012904,28.731521000370652 L -100.92764037050071,28.72941612038542 L -100.94105146009841,28.729865690263342 L -100.95647313972913,28.731389740593826 L -100.97227026008096,28.733407050588884 L -100.97574621988176,28.733862060098136 L -100.97921741963569,28.734316370473863 L -100.99384254023312,28.737287710777913 L -101.00350935026263,28.737984370819706 L -101.00842188021595,28.73782649030537 L -101.01708691969131,28.74066574010218 L -101.02382671003447,28.744505880440652 L -101.02986872016429,28.748774200640348 L -101.03866828992008,28.75358997038621 L -101.04636176994362,28.757414520299772 L -101.04913457964848,28.758177980787522 L -101.05308066028726,28.760641740870764 L -101.05824885980459,28.762548350230166 L -101.06161505012237,28.762717050434276 L -101.06621774978875,28.762536690633702 L -101.06810364954421,28.763194580689618 L -101.0722166201866,28.763054880151977 L -101.07298981993802,28.76315635061755 L -101.07793011980446,28.76337285030853 L -101.0823802499095,28.763530310893355 L -101.08628702027573,28.76471045080288 L -101.08789134961462,28.76536880042879 L -101.08869546010216,28.765966450446555 L -101.09028308994522,28.76875889078364 L -101.09112803032296,28.769297540558 L -101.09232074047912,28.769779120261855 L -101.09414982989816,28.770730890600152 L -101.0958811804251,28.772172540624823 L -101.09738008032912,28.772089260874036 L -101.09915867968527,28.77132115068383 L -101.10145965026555,28.770924050583528 L -101.1030593704013,28.7708991503583 L -101.10395168022227,28.770395180125014 L -101.10491793995502,28.769937090786616 L -101.10572887995124,28.77026983068467 L -101.10694871029767,28.77071685063165 L -101.10793145953645,28.771189890570277 L -101.10827865008183,28.7717562005602 L -101.10833238002215,28.77247212084246 L -101.1082499503491,28.772938460632012 L -101.10981462010224,28.773777450017366 L -101.11343700006597,28.77440255029013 L -101.1151780200156,28.774616980744742 L -101.11671483030973,28.774592910614892 L -101.11724405025706,28.774427920348714 L -101.11953410964682,28.773381880192442 L -101.12114892041957,28.77228642041127 L -101.1226072896653,28.771355000050754 L -101.12413478027946,28.77075765057073 L -101.12588508010987,28.77039674089571 L -101.12729495026356,28.770454540214477 L -101.12865084958403,28.770179820080923 L -101.13031945980886,28.76993182074841 L -101.13258840006526,28.76966431039393 L -101.13457536949424,28.7704946807103 L -101.13854525983488,28.771051940095433 L -101.14121927964695,28.77263640006726 L -101.14307660021362,28.773150320091847 L -101.14506769039818,28.77340540043784 L -101.14665311007221,28.7730684804015 L -101.14782485977054,28.77238315077111 L -101.14952143043139,28.769307520802915 L -101.15083876958835,28.769286550403294 L -101.15611014023243,28.769619180349718 L -101.15842466006032,28.770237030682676 L -101.15830063040133,28.77052734054873 L -101.14736067992443,28.796634450328085 L -101.1338747498705,28.829046310897784 L -101.13072045970154,28.83672131080575 L -101.12251687958276,28.85644951027796 L -101.12177308998885,28.862128740340157 L -101.12123434034919,28.876955460731697 L -101.12037693958777,28.900411710037616 L -101.11903738031671,28.927201480798537 L -101.1190347996056,28.927291140260046 L -101.11636631023187,28.987129340496505 L -101.11581040045553,29.000000060564368 L -101.1157995703278,29.000278540529862 L -101.11510654948407,29.014836280783573 L -101.11449915009106,29.029211480176727 L -101.11407322019349,29.03952463086804 L -101.11349039989453,29.04949877028082 L -101.17227629032621,29.056590350772836 L -101.2070330804093,29.06006365011306 L -101.24261940026243,29.063360320833024 L -101.25370904987045,29.064273290294658 L -101.32361838045405,29.07020118039477 L -101.3333333400424,29.071265620785905 L -101.3337640898488,29.071312800095598 L -101.34784641955585,29.072362430779744 L -101.34302659953418,29.13506595079563 L -101.33934781960532,29.18289809078151 L -101.23373814956898,29.17296471034973 L -101.18986362047028,29.1687751407016 L -101.08909500022723,29.158974080745722 L -101.06530718049021,29.156649580479694 L -101.04771474048154,29.154927690888947 L -101.04259206044262,29.141780970409595 L -101.04245185950545,29.16024220000095 L -101.0045439798451,29.16006757082982 L -101.00457611950411,29.165869690164303 L -101.00400810968458,29.188707370621977 L -100.95177611994846,29.188577280034004 L -100.95214932037875,29.193643940442843 L -100.94763066013464,29.193465180586408 L -100.9528255496579,29.210519510575143 L -100.95350591994566,29.210529910174753 L -100.95315411012953,29.210977180431396 L -100.95348205948423,29.211184370668427 L -100.95404630958545,29.211436140167386 L -100.94796619979469,29.214789580785474 L -100.94825270967931,29.21565358008424 L -100.9478921103364,29.21671545051112 L -100.94810508015303,29.21774146078131 L -100.94699077012619,29.21900988008197 L -100.94640322964858,29.22024052010938 L -100.94584026040803,29.221479970385133 L -100.94479065016637,29.223978880467794 L -100.93693989019306,29.224296550038293 L -100.93683211971057,29.224838140743994 L -100.93617521986937,29.223231970635776 L -100.93594708034806,29.221679400590542 L -100.93533674995747,29.221349490014077 L -100.93170260024573,29.222988460219142 L -100.9301038195602,29.224581940504198 L -100.92913685999801,29.22455768001991 L -100.92902602024286,29.219864250192504 L -100.92079621980182,29.219727170578754 L -100.9208881204521,29.222886310208924 L -100.91015985045671,29.222812720287457 L -100.9106585801801,29.22583977023488 L -100.90496706033694,29.225897280565963 L -100.90179650959365,29.22553232038946 L -100.89391732048227,29.225447260326135 L -100.89190508013921,29.226627380147995 L -100.89035550961398,29.226799350861377 L -100.87968361949207,29.227983150550966 L -100.87962627965493,29.210081660375508 L -100.87106939990562,29.209788830315837 L -100.8594454299674,29.209040430675543 L -100.85938358045077,29.221705230362176 L -100.84887125029161,29.222801550437367 L -100.84886002953822,29.239193740406083 L -100.84892331015443,29.23926511051399 L -100.84993421460427,29.24060209314944 L -100.84996580855261,29.240643876372253 L -100.84997514975927,29.240656230835505 L -100.850950889508,29.240054000672895 L -100.85104448981035,29.23999622031632 L -100.85149814739331,29.239716213690684 L -100.8515203495553,29.239702510215707 L -100.85157775885546,29.23966707608408 L -100.85162374981778,29.2396386900335 L -100.85164207581317,29.239627379345183 L -100.85263261781182,29.23901598886215 L -100.85276385961492,29.238934982530516 L -100.85305678007447,29.238754180216453 L -100.85308214761284,29.238852450172743 L -100.85309577726625,29.238905247547642 L -100.85312182977857,29.239006170675758 L -100.85346022537341,29.238833130845975 L -100.85373259951159,29.238693849104667 L -100.85380119994048,29.23865989080162 L -100.8538880598409,29.238616910187613 L -100.85406478071653,29.238529460595885 L -100.85454472119686,29.23846660057246 L -100.85511229073134,29.238392260669276 L -100.85522873945055,29.238377019438058 L -100.85577991968809,29.23830482002298 L -100.85654251030816,29.238204940415546 L -100.8569611549942,29.2381501115873 L -100.8569611889957,29.23815010731171 L -100.85701544974847,29.238143000839685 L -100.85702180624195,29.23815995390975 L -100.85710885009807,29.238392090193766 L -100.85711744832464,29.238415028211875 L -100.85713448203269,29.23846046712122 L -100.85714640020065,29.23849226086673 L -100.85715151074686,29.23850589064464 L -100.85732504997331,29.23896871000685 L -100.85749076989777,29.239410660634476 L -100.85750339868893,29.23944434671845 L -100.85752138729234,29.2394923295399 L -100.85752409029531,29.239499540806193 L -100.85753938299025,29.239540325944294 L -100.85768549046703,29.23993000045577 L -100.85780393947657,29.24024588051042 L -100.85813071970371,29.240167490498983 L -100.85812156992331,29.240257880055 L -100.85812149987402,29.240258567390335 L -100.85811499103681,29.240322762219975 L -100.85811419972339,29.240330570091107 L -100.85810900861799,29.240381799326627 L -100.85806564969353,29.240809660726196 L -100.85805415043413,29.24092292059693 L -100.85806313888473,29.241293569452537 L -100.8580638001721,29.241320830643136 L -100.85806466325123,29.241356133189665 L -100.85806606022514,29.241413230454235 L -100.85806618298356,29.24141830062138 L -100.8580747500199,29.241771890528117 L -100.85808096995682,29.24202782013801 L -100.85808934040443,29.242373030732058 L -100.85809036167933,29.242415170104067 L -100.85809153114367,29.242463433203298 L -100.8580923702522,29.242498090107745 L -100.85809271019386,29.24251211429319 L -100.85810059977183,29.242837630747715 L -100.85839074040425,29.242783180301508 L -100.85873325987063,29.24271891027769 L -100.85919086005725,29.24263590089214 L -100.85922085009616,29.2426304604084 L -100.85921780010683,29.24307671044584 L -100.8592178190252,29.243245864817634 L -100.8592178196702,29.243248290247166 L -100.85921783188799,29.24339106182183 L -100.85921787959018,29.24394934001404 L -100.85921788980006,29.24429546037708 L -100.85921794002752,29.244781740532783 L -100.85921796451282,29.245341442352345 L -100.85921796950865,29.245467420442978 L -100.85921800885664,29.246032518554006 L -100.85921800852918,29.246032554657564 L -100.85921801039267,29.24606264801207 L -100.85921801812816,29.24617720295499 L -100.85921805998588,29.246768350663775 L -100.85887117998614,29.246856690580273 L -100.85866224956774,29.246909920189985 L -100.85822316689068,29.247021746490656 L -100.85815274992999,29.247039680518608 L -100.85800759603876,29.24740351235109 L -100.85798154050067,29.247468820860522 L -100.85796332508971,29.247514478482383 L -100.85779799984627,29.247928860500227 L -100.85761384885225,29.24839045052626 L -100.8576106407225,29.248398489618296 L -100.85755194965911,29.24854555066352 L -100.85714512043893,29.249575430310706 L -100.85697551988737,29.250000510599893 L -100.8564539402058,29.251297580487012 L -100.85643514960881,29.25134468051657 L -100.85638835042748,29.251461940767772 L -100.85634544994795,29.25156948066354 L -100.86077442978142,29.255147000292865 L -100.86257752040098,29.2580390502451 L -100.86509009019373,29.26206871999995 L -100.8659832199661,29.263501030571522 L -100.86691545959789,29.26505872068699 L -100.86705577002135,29.265293150831653 L -100.86752491038338,29.266077000515136 L -100.86963069001706,29.269595280681223 L -100.87216444966396,29.273828180158038 L -100.87581568951016,29.277469110590648 L -100.87601141975568,29.27927780036426 L -100.87801030956155,29.28033209002481 L -100.87907814974102,29.2812311405627 L -100.87923705957493,29.28150165078832 L -100.87922004955993,29.281489430595833 L -100.87876018011733,29.281209020671838 L -100.8780453704957,29.280815540627003 L -100.87686829007944,29.280143570748518 L -100.87494408014255,29.27927102004166 L -100.87045545005272,29.277940490310506 L -100.86841528036139,29.277330290668413 L -100.8669494301821,29.276884750493114 L -100.8632530303256,29.275837650542606 L -100.86307234006907,29.275815230733123 L -100.8628529104854,29.27585429064187 L -100.86197019995886,29.27626292023419 L -100.8617383504662,29.276301310041777 L -100.86027349014905,29.275907400184977 L -100.85942742970336,29.275828910079454 L -100.85878863023821,29.275824370755892 L -100.85782868019777,29.27586485032523 L -100.8567507798201,29.27595232033007 L -100.855899429894,29.27587685014399 L -100.85509172020437,29.27571640014356 L -100.8544377699537,29.27532580046129 L -100.8539703797541,29.274713690808763 L -100.8535607795836,29.273839000292593 L -100.8534684302747,29.273098150206327 L -100.85324091035544,29.272497220385773 L -100.8528204203623,29.272123340620073 L -100.85167130965003,29.271759520477985 L -100.85098144958141,29.271734490150692 L -100.8502291204815,29.271862620001357 L -100.84901131018009,29.27195463044046 L -100.84882045040519,29.271932250370824 L -100.84862786025788,29.271842180767674 L -100.84778577955254,29.271207480767277 L -100.84694579955409,29.270505710617126 L -100.84534677002522,29.26921597037674 L -100.84442994023739,29.268628510550805 L -100.84335002951104,29.26803500047389 L -100.84247481981299,29.267264290209475 L -100.84175577036669,29.26629942052776 L -100.84127568959325,29.265324150216827 L -100.84090929016068,29.264719580462113 L -100.84041043012455,29.264217910683694 L -100.83770579961656,29.262815380493837 L -100.83648961982128,29.262180140388704 L -100.83488409028512,29.26158709031565 L -100.83349038048911,29.26124278078658 L -100.83224525003436,29.261432980380867 L -100.83110702033657,29.261750550557892 L -100.82982057030404,29.26199763081778 L -100.82961204994874,29.26200882061459 L -100.82598775050019,29.26148471025858 L -100.82449891988894,29.261529980830517 L -100.82338342992792,29.261761370187223 L -100.82158862008673,29.262633110559666 L -100.81972470958026,29.263650720668632 L -100.81818074029015,29.264253540440027 L -100.81735351033609,29.264376540552405 L -100.8158868800229,29.264410280199908 L -100.81467196992567,29.264258970406033 L -100.81378511048396,29.263711980091777 L -100.81314947999421,29.262951830662864 L -100.81284867964345,29.262173250500922 L -100.81285174049306,29.26144642028143 L -100.81315584996152,29.260675820445506 L -100.81358674017952,29.259789540241172 L -100.814640319554,29.258042280086254 L -100.81550094955097,29.257108150238984 L -100.81633181985019,29.256300280100174 L -100.81645865963954,29.25556248057105 L -100.8164657103741,29.25415075023627 L -100.81620130949861,29.253637140722073 L -100.81570440043164,29.253490200879206 L -100.81477934989786,29.253488720294577 L -100.81289969043229,29.253611920499964 L -100.8114637701194,29.253575370782837 L -100.80961063002655,29.25327106039975 L -100.80772977008952,29.252810660138994 L -100.80576228043236,29.252064050841923 L -100.80377212019079,29.25112742005923 L -100.80204653948189,29.250241350317747 L -100.8016347502573,29.25002243021258 L -100.80159376970697,29.250000510708617 L -100.80127081948005,29.24982780058826 L -100.79920264962104,29.248504150582026 L -100.79754437994373,29.246972000218985 L -100.79597934026819,29.245189460276766 L -100.79500170976239,29.24388989074444 L -100.79427047989284,29.24210034001904 L -100.79432711019624,29.240720370258607 L -100.79476980037789,29.23864185067099 L -100.79570579999535,29.23691029021666 L -100.79673428961185,29.23545358056816 L -100.79684858049279,29.235183580380593 L -100.79702872023813,29.233943400686872 L -100.79693421952581,29.232768860807315 L -100.79676571018048,29.231266280283315 L -100.7964796800092,29.23023751057362 L -100.7958081700549,29.228761220759132 L -100.79517462043147,29.227754150635732 L -100.79419940013379,29.226767030682332 L -100.79325939951076,29.226166890276332 L -100.79227431033502,29.225697890421735 L -100.79164656948399,29.22559823007439 L -100.79142849000489,29.225641550248 L -100.78719166000818,29.227603540606076 L -100.78646968997288,29.227860740448808 L -100.78558988983941,29.22803278017405 L -100.78534289003916,29.22801114053658 L -100.78516973964345,29.227872110238568 L -100.78417269048074,29.22671311083297 L -100.78332715019106,29.225212580306156 L -100.78259397029834,29.22343151017194 L -100.78159765049,29.221216580531035 L -100.78153514971487,29.22089317050524 L -100.7816960503269,29.220369750460144 L -100.78168942989541,29.219987380654143 L -100.7815131500924,29.219549660189088 L -100.7810644899954,29.21927272083656 L -100.78069157016812,29.219118690307262 L -100.77978871023677,29.218771690281756 L -100.77894852012746,29.21790157038969 L -100.77844065989119,29.217051950620665 L -100.777076229783,29.21447715021721 L -100.77634939963663,29.212761380066823 L -100.77618055046617,29.212585090788952 L -100.77557738032405,29.211857090296867 L -100.77546174020871,29.211750550123412 L -100.7739273795318,29.21076489021054 L -100.7738291202851,29.210566650568936 L -100.77388102018033,29.210274950858423 L -100.77462949014465,29.2090958203324 L -100.77535108955954,29.208046970265016 L -100.77568306048903,29.20708502046133 L -100.77622894987171,29.205584920599126 L -100.7766456195645,29.20447614052997 L -100.77687260017419,29.202728710282553 L -100.77675512013516,29.20146868039873 L -100.77633342990175,29.200413320256672 L -100.77603065015337,29.19975491081282 L -100.7754967097263,29.199408850525113 L -100.77494182991087,29.199264740407113 L -100.77347794999802,29.19970865063411 L -100.77327010960566,29.199752970431017 L -100.77308051000173,29.199755480570822 L -100.77164622973146,29.199616510498934 L -100.77035419981293,29.199475630696902 L -100.76932604999129,29.19923980037071 L -100.76860374029027,29.198592520832662 L -100.7670131501131,29.195706030603866 L -100.76620794000829,29.193617150828906 L -100.76578682044905,29.191715090272318 L -100.76564638015651,29.19015323002682 L -100.76555384960307,29.188085480170855 L -100.7657416901119,29.186320400288867 L -100.76624892002846,29.184895310079472 L -100.76771637026926,29.182695150875386 L -100.770323400031,29.179619580500315 L -100.77500460029879,29.174841380675705 L -100.77564295017912,29.173809580554778 L -100.7760788301777,29.172698020442862 L -100.7760864603604,29.17258983003317 L -100.77600917997813,29.172507710498966 L -100.77514815048004,29.172115380733732 L -100.77490906050546,29.1719938303248 L -100.77437749038536,29.171402260347968 L -100.77377941990609,29.1708032501573 L -100.77330452041898,29.16980672055843 L -100.77313046041408,29.16906635020958 L -100.77277950980249,29.168391520407685 L -100.77267355028718,29.168293170510207 L -100.77086419953628,29.167040680140595 L -100.7701674896131,29.1666175806667 L -100.76970814960112,29.16636592005512 L -100.76902955047348,29.166042310693996 L -100.76844788014992,29.165842150518003 L -100.76780243017822,29.165792460037835 L -100.76691510957662,29.166012030727014 L -100.76609728967743,29.166137580375473 L -100.7653190901471,29.16604986053805 L -100.76460203021576,29.165693490179837 L -100.76410866018409,29.165421120415846 L -100.76357068981734,29.1648303201705 L -100.76340134994766,29.16415729078131 L -100.76350868037328,29.160104420055006 L -100.76344035048646,29.15998892053503 L -100.76222512045581,29.15886922041989 L -100.76094882974216,29.157907250323692 L -100.75959025953765,29.157034350071868 L -100.75948945967471,29.157023110429332 L -100.7594157795663,29.157042880363797 L -100.75840631957558,29.157719140312032 L -100.75826981991511,29.15776248031724 L -100.75815774997761,29.157767620464444 L -100.75576982962123,29.15698751032619 L -100.7534200495777,29.155757690277298 L -100.75301583002894,29.155586980410174 L -100.75258183047825,29.15548434047075 L -100.750646229735,29.155130520863363 L -100.74855642003993,29.154778630548176 L -100.74684538000628,29.154547420229918 L -100.74649248953361,29.154418980543717 L -100.74286632008685,29.152730340380817 L -100.74054725968855,29.151133060667817 L -100.73932380018525,29.150179540344144 L -100.73709606025272,29.147943250721163 L -100.73703526000531,29.147711230270097 L -100.73703107992574,29.1474618500705 L -100.73725620021916,29.146195150597272 L -100.73770493964682,29.144701080677162 L -100.73832625005014,29.143812780845852 L -100.73889477978959,29.142707690159067 L -100.73907828969784,29.141757690021198 L -100.73897312034364,29.141058750792347 L -100.73894442973295,29.14086805033273 L -100.73876954954981,29.14034257052506 L -100.73782808949173,29.13902449036501 L -100.73635162038173,29.137754140752673 L -100.73464308993013,29.13631352034411 L -100.73331819982849,29.13528642069841 L -100.73175920020132,29.134096970120456 L -100.73040816978072,29.132838020831198 L -100.72766503001196,29.129883420245427 L -100.72634213990793,29.12860760084292 L -100.72447294962954,29.1272840503849 L -100.71788319956366,29.123963060392114 L -100.71322068011438,29.121442200635283 L -100.7092151703498,29.11909637023149 L -100.70878565960611,29.118888850032697 L -100.70836305999072,29.118737150149343 L -100.70256638007073,29.117388320840295 L -100.69938994961029,29.117012420528564 L -100.69915308988647,29.116972050797422 L -100.69892043001946,29.116901370285568 L -100.69126211026696,29.114015320031847 L -100.68440674968696,29.11139457075107 L -100.6813857800112,29.10911700031854 L -100.67927937032222,29.10683429072964 L -100.67611903042373,29.103295600740545 L -100.67361346026979,29.099982680522537 L -100.67280857042613,29.097004490369386 L -100.67200685998827,29.09448528044515 L -100.66884061999373,29.09002880074553 L -100.66709385948371,29.083378080691432 L -100.66666668020616,29.081987580541835 L -100.66521011959085,29.077246140250182 L -100.66442231980224,29.07468146054619 L -100.66340770988722,29.064046620352986 L -100.6631276601528,29.057711460428735 L -100.66366916958903,29.05054866009875 L -100.66345485020909,29.04839506043376 L -100.66317930975215,29.046469780029764 L -100.66145170985274,29.037900050805128 L -100.6605447203313,29.0335463200612 L -100.66020542026592,29.031917460879793 L -100.65840192040278,29.025212450474324 L -100.65630999966366,29.018100520622458 L -100.65437133992515,29.016071510453862 L -100.65302786001409,29.013257520027565 L -100.65103646041598,29.008335380671827 L -100.65012108045278,29.005115120659294 L -100.65011121994054,29.005080450667105 L -100.64867137006833,29.000197830211224 L -100.64864116958488,29.000000550466343 L -100.6485860497894,28.99964060067122 L -100.6486276799194,28.999209580671646 L -100.648940829615,28.997726830787503 L -100.64915816979507,28.99636205005306 L -100.64919416996264,28.99577406004747 L -100.64907157965575,28.9953589800346 L -100.64778511973982,28.992699120644076 L -100.64759986017907,28.992452450367246 L -100.6470116500597,28.991812350178076 L -100.64688971034688,28.991606060857666 L -100.64627567986602,28.989812770788863 L -100.6456665201199,28.987898400304243 L -100.64581742023924,28.9866064902305 L -100.64606028949905,28.98619286039238 L -100.64770815002558,28.98482917022424 L -100.64819794047892,28.984423830568044 L -100.64832240010927,28.984133380225188 L -100.64851490997873,28.98291451006658 L -100.64853742035007,28.977880650341902 L -100.64833048046485,28.975442980796657 L -100.64758528003566,28.97335840020807 L -100.64665885048055,28.971865980798047 L -100.64641499995162,28.970122550165456 L -100.64628555006286,28.96870200061707 L -100.64637320022874,28.967482580272122 L -100.64667061982054,28.966411690528215 L -100.64693021957689,28.966151030358592 L -100.64796126014724,28.965644650380362 L -100.64916777041013,28.96488255041616 L -100.64971785963604,28.964261430297743 L -100.6502303998844,28.963530580049053 L -100.65050438034797,28.96281263066315 L -100.65062009035276,28.96223835035194 L -100.65055408037838,28.9616990001776 L -100.65034174983474,28.961314819998794 L -100.65005956994008,28.96110118008261 L -100.64977987972964,28.960986970756593 L -100.64937071026155,28.960991230144774 L -100.64895175043365,28.961137630427313 L -100.64857781949411,28.961119350180287 L -100.64828405983768,28.960976090459063 L -100.64765587949216,28.960159830045242 L -100.64710822976882,28.958879090338407 L -100.64694750951872,28.95797985050418 L -100.64690679962389,28.95725938045574 L -100.64698162985826,28.956434510460422 L -100.64728549040743,28.955272080302517 L -100.64773908963379,28.95431382012739 L -100.64822643011598,28.95363838025187 L -100.64885517985421,28.953097740652467 L -100.64902285038278,28.95292066031123 L -100.64909071970538,28.952713630713053 L -100.64919890964426,28.952145830015763 L -100.65000903013345,28.950178150659315 L -100.6507100600933,28.94851186043171 L -100.65125574981222,28.946831510237484 L -100.65153109016647,28.945720920028567 L -100.6517111798555,28.944148030393453 L -100.65145647990263,28.94286371090085 L -100.65076894957122,28.941996320275475 L -100.64947094973081,28.941420380660468 L -100.64791811985785,28.9407502003318 z\" /></g></svg>"
          },
          "metadata": {
            "tags": []
          },
          "execution_count": 159
        }
      ]
    },
    {
      "cell_type": "code",
      "metadata": {
        "id": "HT4dymLqE6Jj",
        "colab_type": "code",
        "colab": {
          "base_uri": "https://localhost:8080/",
          "height": 34
        },
        "outputId": "fe24d5c7-2f39-4208-f851-9eb792532e3d"
      },
      "source": [
        "df['NOM_MUN'][45]"
      ],
      "execution_count": 158,
      "outputs": [
        {
          "output_type": "execute_result",
          "data": {
            "text/plain": [
              "'JimÃ©nez'"
            ]
          },
          "metadata": {
            "tags": []
          },
          "execution_count": 158
        }
      ]
    },
    {
      "cell_type": "markdown",
      "metadata": {
        "id": "Rs2oCgjRGOiA",
        "colab_type": "text"
      },
      "source": [
        "### Depuración de datos vectoriales"
      ]
    },
    {
      "cell_type": "code",
      "metadata": {
        "id": "IqVIAAc6F6sD",
        "colab_type": "code",
        "colab": {
          "base_uri": "https://localhost:8080/",
          "height": 1000
        },
        "outputId": "ad7c32fa-ebdf-4b1c-c947-a703da375044"
      },
      "source": [
        "df[df['NOM_ENT'] == 'Oaxaca']\n",
        " "
      ],
      "execution_count": 179,
      "outputs": [
        {
          "output_type": "execute_result",
          "data": {
            "text/html": [
              "<div>\n",
              "<style scoped>\n",
              "    .dataframe tbody tr th:only-of-type {\n",
              "        vertical-align: middle;\n",
              "    }\n",
              "\n",
              "    .dataframe tbody tr th {\n",
              "        vertical-align: top;\n",
              "    }\n",
              "\n",
              "    .dataframe thead th {\n",
              "        text-align: right;\n",
              "    }\n",
              "</style>\n",
              "<table border=\"1\" class=\"dataframe\">\n",
              "  <thead>\n",
              "    <tr style=\"text-align: right;\">\n",
              "      <th></th>\n",
              "      <th>CVE_ENT</th>\n",
              "      <th>CVE_MUN</th>\n",
              "      <th>CVEGEO</th>\n",
              "      <th>NOM_ENT</th>\n",
              "      <th>AREA</th>\n",
              "      <th>PERIMETER</th>\n",
              "      <th>NOM_MUN</th>\n",
              "      <th>COV_</th>\n",
              "      <th>COV_ID</th>\n",
              "      <th>geometry</th>\n",
              "    </tr>\n",
              "  </thead>\n",
              "  <tbody>\n",
              "    <tr>\n",
              "      <th>1003</th>\n",
              "      <td>20</td>\n",
              "      <td>001</td>\n",
              "      <td>20001</td>\n",
              "      <td>Oaxaca</td>\n",
              "      <td>12636.59378</td>\n",
              "      <td>126.36594</td>\n",
              "      <td>Abejones</td>\n",
              "      <td>1003</td>\n",
              "      <td>1004</td>\n",
              "      <td>POLYGON ((-96.62002 17.55819, -96.61878 17.558...</td>\n",
              "    </tr>\n",
              "    <tr>\n",
              "      <th>1004</th>\n",
              "      <td>20</td>\n",
              "      <td>002</td>\n",
              "      <td>20002</td>\n",
              "      <td>Oaxaca</td>\n",
              "      <td>75218.99018</td>\n",
              "      <td>752.18990</td>\n",
              "      <td>AcatlÃ¡n de PÃ©rez Figueroa</td>\n",
              "      <td>1004</td>\n",
              "      <td>1005</td>\n",
              "      <td>POLYGON ((-96.31955 18.35826, -96.31990 18.358...</td>\n",
              "    </tr>\n",
              "    <tr>\n",
              "      <th>1005</th>\n",
              "      <td>20</td>\n",
              "      <td>003</td>\n",
              "      <td>20003</td>\n",
              "      <td>Oaxaca</td>\n",
              "      <td>7644.41658</td>\n",
              "      <td>76.44417</td>\n",
              "      <td>AsunciÃ³n Cacalotepec</td>\n",
              "      <td>1005</td>\n",
              "      <td>1006</td>\n",
              "      <td>POLYGON ((-95.88156 17.04301, -95.88180 17.042...</td>\n",
              "    </tr>\n",
              "    <tr>\n",
              "      <th>1006</th>\n",
              "      <td>20</td>\n",
              "      <td>004</td>\n",
              "      <td>20004</td>\n",
              "      <td>Oaxaca</td>\n",
              "      <td>8357.92705</td>\n",
              "      <td>83.57927</td>\n",
              "      <td>AsunciÃ³n Cuyotepeji</td>\n",
              "      <td>1006</td>\n",
              "      <td>1007</td>\n",
              "      <td>POLYGON ((-97.68006 17.95012, -97.67982 17.950...</td>\n",
              "    </tr>\n",
              "    <tr>\n",
              "      <th>1007</th>\n",
              "      <td>20</td>\n",
              "      <td>005</td>\n",
              "      <td>20005</td>\n",
              "      <td>Oaxaca</td>\n",
              "      <td>66097.67083</td>\n",
              "      <td>660.97671</td>\n",
              "      <td>AsunciÃ³n Ixtaltepec</td>\n",
              "      <td>1007</td>\n",
              "      <td>1008</td>\n",
              "      <td>POLYGON ((-94.88605 16.83564, -94.88606 16.833...</td>\n",
              "    </tr>\n",
              "    <tr>\n",
              "      <th>...</th>\n",
              "      <td>...</td>\n",
              "      <td>...</td>\n",
              "      <td>...</td>\n",
              "      <td>...</td>\n",
              "      <td>...</td>\n",
              "      <td>...</td>\n",
              "      <td>...</td>\n",
              "      <td>...</td>\n",
              "      <td>...</td>\n",
              "      <td>...</td>\n",
              "    </tr>\n",
              "    <tr>\n",
              "      <th>1568</th>\n",
              "      <td>20</td>\n",
              "      <td>566</td>\n",
              "      <td>20566</td>\n",
              "      <td>Oaxaca</td>\n",
              "      <td>19831.76453</td>\n",
              "      <td>198.31765</td>\n",
              "      <td>San Mateo Yucutindoo</td>\n",
              "      <td>1568</td>\n",
              "      <td>1569</td>\n",
              "      <td>POLYGON ((-97.22229 16.86711, -97.22263 16.866...</td>\n",
              "    </tr>\n",
              "    <tr>\n",
              "      <th>1569</th>\n",
              "      <td>20</td>\n",
              "      <td>567</td>\n",
              "      <td>20567</td>\n",
              "      <td>Oaxaca</td>\n",
              "      <td>30513.42470</td>\n",
              "      <td>305.13425</td>\n",
              "      <td>ZapotitlÃ¡n Lagunas</td>\n",
              "      <td>1569</td>\n",
              "      <td>1570</td>\n",
              "      <td>POLYGON ((-98.33179 17.87998, -98.34925 17.859...</td>\n",
              "    </tr>\n",
              "    <tr>\n",
              "      <th>1570</th>\n",
              "      <td>20</td>\n",
              "      <td>568</td>\n",
              "      <td>20568</td>\n",
              "      <td>Oaxaca</td>\n",
              "      <td>4377.37100</td>\n",
              "      <td>43.77371</td>\n",
              "      <td>ZapotitlÃ¡n Palmas</td>\n",
              "      <td>1570</td>\n",
              "      <td>1571</td>\n",
              "      <td>POLYGON ((-97.81929 17.91474, -97.81800 17.914...</td>\n",
              "    </tr>\n",
              "    <tr>\n",
              "      <th>1571</th>\n",
              "      <td>20</td>\n",
              "      <td>569</td>\n",
              "      <td>20569</td>\n",
              "      <td>Oaxaca</td>\n",
              "      <td>8383.67000</td>\n",
              "      <td>83.83670</td>\n",
              "      <td>Santa InÃ©s de Zaragoza</td>\n",
              "      <td>1571</td>\n",
              "      <td>1572</td>\n",
              "      <td>POLYGON ((-97.10571 17.31311, -97.10522 17.312...</td>\n",
              "    </tr>\n",
              "    <tr>\n",
              "      <th>1572</th>\n",
              "      <td>20</td>\n",
              "      <td>570</td>\n",
              "      <td>20570</td>\n",
              "      <td>Oaxaca</td>\n",
              "      <td>35470.40874</td>\n",
              "      <td>354.70409</td>\n",
              "      <td>ZimatlÃ¡n de Ãlvarez</td>\n",
              "      <td>1572</td>\n",
              "      <td>1573</td>\n",
              "      <td>MULTIPOLYGON (((-96.90158 16.93357, -96.90187 ...</td>\n",
              "    </tr>\n",
              "  </tbody>\n",
              "</table>\n",
              "<p>570 rows × 10 columns</p>\n",
              "</div>"
            ],
            "text/plain": [
              "     CVE_ENT CVE_MUN  ... COV_ID                                           geometry\n",
              "1003      20     001  ...   1004  POLYGON ((-96.62002 17.55819, -96.61878 17.558...\n",
              "1004      20     002  ...   1005  POLYGON ((-96.31955 18.35826, -96.31990 18.358...\n",
              "1005      20     003  ...   1006  POLYGON ((-95.88156 17.04301, -95.88180 17.042...\n",
              "1006      20     004  ...   1007  POLYGON ((-97.68006 17.95012, -97.67982 17.950...\n",
              "1007      20     005  ...   1008  POLYGON ((-94.88605 16.83564, -94.88606 16.833...\n",
              "...      ...     ...  ...    ...                                                ...\n",
              "1568      20     566  ...   1569  POLYGON ((-97.22229 16.86711, -97.22263 16.866...\n",
              "1569      20     567  ...   1570  POLYGON ((-98.33179 17.87998, -98.34925 17.859...\n",
              "1570      20     568  ...   1571  POLYGON ((-97.81929 17.91474, -97.81800 17.914...\n",
              "1571      20     569  ...   1572  POLYGON ((-97.10571 17.31311, -97.10522 17.312...\n",
              "1572      20     570  ...   1573  MULTIPOLYGON (((-96.90158 16.93357, -96.90187 ...\n",
              "\n",
              "[570 rows x 10 columns]"
            ]
          },
          "metadata": {
            "tags": []
          },
          "execution_count": 179
        }
      ]
    },
    {
      "cell_type": "markdown",
      "metadata": {
        "id": "2uRcdyP1IbjO",
        "colab_type": "text"
      },
      "source": [
        "Graficacion"
      ]
    },
    {
      "cell_type": "code",
      "metadata": {
        "id": "YtMUNA-QGdYU",
        "colab_type": "code",
        "colab": {
          "base_uri": "https://localhost:8080/",
          "height": 280
        },
        "outputId": "d52061a8-8fd5-48e2-a84a-ac92452b3ae1"
      },
      "source": [
        "df[df['NOM_ENT'] == 'Oaxaca'].plot()"
      ],
      "execution_count": 180,
      "outputs": [
        {
          "output_type": "execute_result",
          "data": {
            "text/plain": [
              "<matplotlib.axes._subplots.AxesSubplot at 0x7f93847f92b0>"
            ]
          },
          "metadata": {
            "tags": []
          },
          "execution_count": 180
        },
        {
          "output_type": "display_data",
          "data": {
            "image/png": "[encoded data removed]",
            "text/plain": [
              "<Figure size 432x288 with 1 Axes>"
            ]
          },
          "metadata": {
            "tags": []
          }
        }
      ]
    },
    {
      "cell_type": "code",
      "metadata": {
        "id": "1MPF0OJ6IeFE",
        "colab_type": "code",
        "colab": {
          "base_uri": "https://localhost:8080/",
          "height": 282
        },
        "outputId": "37f11b97-a886-4c4d-a1d9-9e57f6382f89"
      },
      "source": [
        "df[df['AREA'] < 10000].plot()"
      ],
      "execution_count": 182,
      "outputs": [
        {
          "output_type": "execute_result",
          "data": {
            "text/plain": [
              "<matplotlib.axes._subplots.AxesSubplot at 0x7f938496f080>"
            ]
          },
          "metadata": {
            "tags": []
          },
          "execution_count": 182
        },
        {
          "output_type": "display_data",
          "data": {
            "image/png": "[encoded data removed]",
            "text/plain": [
              "<Figure size 432x288 with 1 Axes>"
            ]
          },
          "metadata": {
            "tags": []
          }
        }
      ]
    },
    {
      "cell_type": "code",
      "metadata": {
        "id": "y__gwJJpIm-O",
        "colab_type": "code",
        "colab": {}
      },
      "source": [
        "df[df[] < 10000].plot()"
      ],
      "execution_count": 0,
      "outputs": []
    }
  ]
}