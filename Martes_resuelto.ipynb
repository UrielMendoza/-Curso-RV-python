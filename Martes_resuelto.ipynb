{
  "nbformat": 4,
  "nbformat_minor": 0,
  "metadata": {
    "colab": {
      "name": "Martes_resuelto.ipynb",
      "provenance": [],
      "authorship_tag": "ABX9TyP1UEiigyiXa0h4t+S8V+Tg",
      "include_colab_link": true
    },
    "kernelspec": {
      "name": "python3",
      "display_name": "Python 3"
    }
  },
  "cells": [
    {
      "cell_type": "markdown",
      "metadata": {
        "id": "view-in-github",
        "colab_type": "text"
      },
      "source": [
        "<a href=\"https://colab.research.google.com/github/UrielMendoza/Curso-RV-python/blob/master/Martes_resuelto.ipynb\" target=\"_parent\"><img src=\"https://colab.research.google.com/assets/colab-badge.svg\" alt=\"Open In Colab\"/></a>"
      ]
    },
    {
      "cell_type": "markdown",
      "metadata": {
        "id": "MbFfZ25BvI0D",
        "colab_type": "text"
      },
      "source": [
        "### GDAL\n",
        "La Open Source Geospatial Foundation, es una organización no gubernamental cuya misión es dar soporte y promover el desarrollo colaborativo de tecnologías geoespaciales y datos abiertos\n",
        "\n",
        "GDAL,Geonetwork,Geoserver,Proj,GEOS,PostGIS,OpenLayers,Leaflet,QGIS,GvSIG,Grass\n",
        "\n",
        "GDAL,Geospatial Data Abstraction Library o GDAL es una biblioteca de software para la lectura y escritura de formatos de datos geoespaciales, publicada bajo la MIT License por la fundación geoespacial de código abierto."
      ]
    },
    {
      "cell_type": "markdown",
      "metadata": {
        "id": "GRoofrrh7ewc",
        "colab_type": "text"
      },
      "source": [
        "Importación "
      ]
    },
    {
      "cell_type": "code",
      "metadata": {
        "id": "FL3lwJvKFNUb",
        "colab_type": "code",
        "colab": {}
      },
      "source": [
        ""
      ],
      "execution_count": 0,
      "outputs": []
    },
    {
      "cell_type": "markdown",
      "metadata": {
        "id": "Ve6FJoU87hlX",
        "colab_type": "text"
      },
      "source": [
        "Apertura"
      ]
    },
    {
      "cell_type": "code",
      "metadata": {
        "id": "wTL3ctnFFN2q",
        "colab_type": "code",
        "colab": {}
      },
      "source": [
        ""
      ],
      "execution_count": 0,
      "outputs": []
    },
    {
      "cell_type": "code",
      "metadata": {
        "id": "kZl5KyDpFPXC",
        "colab_type": "code",
        "colab": {}
      },
      "source": [
        ""
      ],
      "execution_count": 0,
      "outputs": []
    },
    {
      "cell_type": "markdown",
      "metadata": {
        "id": "hdC6a_A37mCZ",
        "colab_type": "text"
      },
      "source": [
        "Metadato"
      ]
    },
    {
      "cell_type": "code",
      "metadata": {
        "id": "bv7mUFYsGF4Y",
        "colab_type": "code",
        "colab": {}
      },
      "source": [
        ""
      ],
      "execution_count": 0,
      "outputs": []
    },
    {
      "cell_type": "code",
      "metadata": {
        "id": "ckQ5EdUcGGIM",
        "colab_type": "code",
        "colab": {}
      },
      "source": [
        ""
      ],
      "execution_count": 0,
      "outputs": []
    },
    {
      "cell_type": "markdown",
      "metadata": {
        "id": "GnmTjJTV738E",
        "colab_type": "text"
      },
      "source": [
        "Sistema de referencia y proyección"
      ]
    },
    {
      "cell_type": "code",
      "metadata": {
        "id": "56F0SsQ4GKCy",
        "colab_type": "code",
        "colab": {}
      },
      "source": [
        ""
      ],
      "execution_count": 0,
      "outputs": []
    },
    {
      "cell_type": "markdown",
      "metadata": {
        "id": "dvmHwCQv-XMz",
        "colab_type": "text"
      },
      "source": [
        "GeoTrasformación\n",
        "\n",
        "**(xmin, w-e pixel res, rot x, ymax, rot y, n-s pixel res(-))**"
      ]
    },
    {
      "cell_type": "code",
      "metadata": {
        "id": "VSBMYkBOGOYF",
        "colab_type": "code",
        "colab": {}
      },
      "source": [
        ""
      ],
      "execution_count": 0,
      "outputs": []
    },
    {
      "cell_type": "markdown",
      "metadata": {
        "id": "Y_7OLtnB78Ip",
        "colab_type": "text"
      },
      "source": [
        "Caracteristicas Datos"
      ]
    },
    {
      "cell_type": "code",
      "metadata": {
        "id": "9TOhFH7XGRLl",
        "colab_type": "code",
        "colab": {}
      },
      "source": [
        ""
      ],
      "execution_count": 0,
      "outputs": []
    },
    {
      "cell_type": "markdown",
      "metadata": {
        "id": "wN26jSPc_8zA",
        "colab_type": "text"
      },
      "source": [
        "Bandas"
      ]
    },
    {
      "cell_type": "code",
      "metadata": {
        "id": "EHIw8vsRGUFr",
        "colab_type": "code",
        "colab": {}
      },
      "source": [
        ""
      ],
      "execution_count": 0,
      "outputs": []
    },
    {
      "cell_type": "markdown",
      "metadata": {
        "id": "byLNX0RSAfc1",
        "colab_type": "text"
      },
      "source": [
        "Datos númericos"
      ]
    },
    {
      "cell_type": "code",
      "metadata": {
        "id": "VrBVbRoqGZT6",
        "colab_type": "code",
        "colab": {}
      },
      "source": [
        ""
      ],
      "execution_count": 0,
      "outputs": []
    },
    {
      "cell_type": "code",
      "metadata": {
        "id": "L-jgHn0ZGZfN",
        "colab_type": "code",
        "colab": {}
      },
      "source": [
        ""
      ],
      "execution_count": 0,
      "outputs": []
    },
    {
      "cell_type": "code",
      "metadata": {
        "id": "onJdFy-qGZnl",
        "colab_type": "code",
        "colab": {}
      },
      "source": [
        ""
      ],
      "execution_count": 0,
      "outputs": []
    },
    {
      "cell_type": "markdown",
      "metadata": {
        "id": "Taxw3uv8A9TC",
        "colab_type": "text"
      },
      "source": [
        "**Graficación**\n",
        "\n",
        "Matplotlib\n",
        "\n",
        "Matplotlib es una biblioteca para la generación de gráficos a partir de datos contenidos en listas o arrays en el lenguaje de programación Python y su extensión matemática NumPy."
      ]
    },
    {
      "cell_type": "markdown",
      "metadata": {
        "id": "3IcKLgjXBRh2",
        "colab_type": "text"
      },
      "source": [
        "Importación"
      ]
    },
    {
      "cell_type": "code",
      "metadata": {
        "id": "N1Zxu4SgGjuI",
        "colab_type": "code",
        "colab": {}
      },
      "source": [
        ""
      ],
      "execution_count": 0,
      "outputs": []
    },
    {
      "cell_type": "code",
      "metadata": {
        "id": "R8FZ3odEGj21",
        "colab_type": "code",
        "colab": {}
      },
      "source": [
        ""
      ],
      "execution_count": 0,
      "outputs": []
    },
    {
      "cell_type": "markdown",
      "metadata": {
        "id": "jXmo1J3tvjyD",
        "colab_type": "text"
      },
      "source": [
        "### Rasterio\n",
        "\n",
        "Rasterio emplea GDAL de formato ráster. Sus funciones generalmente aceptan y devuelven numpy ndarrays. Rasterio está diseñado para que trabajar con datos ráster geoespaciales sea más productivo y divertido."
      ]
    },
    {
      "cell_type": "markdown",
      "metadata": {
        "id": "A-gXkGmuClGP",
        "colab_type": "text"
      },
      "source": [
        "Instalación"
      ]
    },
    {
      "cell_type": "code",
      "metadata": {
        "id": "Mtf0q_vaGsqM",
        "colab_type": "code",
        "colab": {}
      },
      "source": [
        ""
      ],
      "execution_count": 0,
      "outputs": []
    },
    {
      "cell_type": "markdown",
      "metadata": {
        "id": "pydsau4oCeQl",
        "colab_type": "text"
      },
      "source": [
        "Importación"
      ]
    },
    {
      "cell_type": "code",
      "metadata": {
        "id": "g1oSnTBeGuot",
        "colab_type": "code",
        "colab": {}
      },
      "source": [
        ""
      ],
      "execution_count": 0,
      "outputs": []
    },
    {
      "cell_type": "markdown",
      "metadata": {
        "id": "Ew3feIAxCtGm",
        "colab_type": "text"
      },
      "source": [
        "Apertura"
      ]
    },
    {
      "cell_type": "code",
      "metadata": {
        "id": "jRZ9dqdFGwu9",
        "colab_type": "code",
        "colab": {}
      },
      "source": [
        ""
      ],
      "execution_count": 0,
      "outputs": []
    },
    {
      "cell_type": "markdown",
      "metadata": {
        "id": "s11GesfMC2VB",
        "colab_type": "text"
      },
      "source": [
        "Metadato"
      ]
    },
    {
      "cell_type": "code",
      "metadata": {
        "id": "NkBHo-CFGyjA",
        "colab_type": "code",
        "colab": {}
      },
      "source": [
        ""
      ],
      "execution_count": 0,
      "outputs": []
    },
    {
      "cell_type": "markdown",
      "metadata": {
        "id": "BIVfGGtDDFtP",
        "colab_type": "text"
      },
      "source": [
        "Datos númericos"
      ]
    },
    {
      "cell_type": "code",
      "metadata": {
        "id": "rmS97zgsGz6v",
        "colab_type": "code",
        "colab": {}
      },
      "source": [
        ""
      ],
      "execution_count": 0,
      "outputs": []
    },
    {
      "cell_type": "code",
      "metadata": {
        "id": "s5Ot32-3G0Fl",
        "colab_type": "code",
        "colab": {}
      },
      "source": [
        ""
      ],
      "execution_count": 0,
      "outputs": []
    },
    {
      "cell_type": "markdown",
      "metadata": {
        "id": "KWTwzdmgKpjh",
        "colab_type": "text"
      },
      "source": [
        "Histograma"
      ]
    },
    {
      "cell_type": "code",
      "metadata": {
        "id": "9kMJE8OTG12d",
        "colab_type": "code",
        "colab": {}
      },
      "source": [
        ""
      ],
      "execution_count": 0,
      "outputs": []
    },
    {
      "cell_type": "markdown",
      "metadata": {
        "id": "ZsXPAGk6ETx7",
        "colab_type": "text"
      },
      "source": [
        "### **Ejercicio de aplicación**\n",
        "\n",
        "Graficar de los valores (2000:2500 en X y 500:1000 en Y) y obtener curvas de nivel"
      ]
    },
    {
      "cell_type": "code",
      "metadata": {
        "id": "FHShTIwQG5Qd",
        "colab_type": "code",
        "colab": {}
      },
      "source": [
        ""
      ],
      "execution_count": 0,
      "outputs": []
    },
    {
      "cell_type": "code",
      "metadata": {
        "id": "gMI7h0bJG5cN",
        "colab_type": "code",
        "colab": {}
      },
      "source": [
        ""
      ],
      "execution_count": 0,
      "outputs": []
    },
    {
      "cell_type": "code",
      "metadata": {
        "id": "qfOGYUS5G5lt",
        "colab_type": "code",
        "colab": {}
      },
      "source": [
        ""
      ],
      "execution_count": 0,
      "outputs": []
    },
    {
      "cell_type": "markdown",
      "metadata": {
        "id": "Km96c7ORJME9",
        "colab_type": "text"
      },
      "source": [
        "### Georreferencia y reproyección de datos Raster"
      ]
    },
    {
      "cell_type": "code",
      "metadata": {
        "id": "YnW5Yz00JNSi",
        "colab_type": "code",
        "colab": {}
      },
      "source": [
        ""
      ],
      "execution_count": 0,
      "outputs": []
    }
  ]
}